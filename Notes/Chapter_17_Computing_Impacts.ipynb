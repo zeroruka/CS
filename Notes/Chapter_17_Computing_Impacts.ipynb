{
 "cells": [
  {
   "cell_type": "markdown",
   "metadata": {},
   "source": [
    "# Learning Objectives\n",
    "\n",
    "- [ ] 3.4.1 Understand the code of ethics (conduct) of a Computing professional. \n",
    "- [ ] 3.4.2 Describe the impact of computing on lifestyle and workplace for social and economic developments\n",
    "- [ ] 3.4.3 Discuss the social, ethical, legal and economic issues of computing and technology. \n",
    "\n",
    "\n",
    "# References\n",
    "\n",
    "1. Leadbetter, C., Blackford, R., & Piper, T. (2012). Cambridge international AS and A level computing coursebook. Cambridge: Cambridge University Press.\n",
    "2. https://www.sparknotes.com/cs/sorting/bubble/section1/#:~:text=The%20total%20number%20of%20comparisons,since%20no%20swaps%20were%20made.\n",
    "3. https://www.acm.org/code-of-ethics\n",
    "5. https://isaaccomputerscience.org/"
   ]
  },
  {
   "cell_type": "markdown",
   "metadata": {},
   "source": [
    "CONTENT HERE\n",
    "\n",
    "# 17.1 Code of Ethics (conduct) of a Computing professional\n",
    "CONTENT HERE\n",
    "\n",
    "<center>\n",
    "<img src=\"images/lan-wan-internet.png\" width=\"500\" align=\"center\"/>\n",
    "\n",
    "Fig 1. LAN, WAN AND THE INTERNET [https://electricala2z.com/electronics/lan-wan-internet-explained/]\n",
    "</center>\n",
    "\n",
    "## 17.1.1 Code of Ethics (conduct) of a Computing professional\n",
    "CONTENT HERE\n",
    "\n",
    "# 17.2  Impact of computing on lifestyle and workplace for social and economic developments. \n",
    "CONTENT HERE\n",
    "\n",
    "# 17.3  Social, ethical, legal and economic issues\n",
    "CONTENT HERE"
   ]
  },
  {
   "cell_type": "markdown",
   "metadata": {},
   "source": [
    "### Example 8.1 2023/A Level/P1/Q8 H2 Computing\n",
    "A technician is testing the control system software for a nuclear power station before implementation. They find a fault that, if not corrected, could have catastrophic consequences. The technician reports the error to their manager, who is a computer professional. The manager’s response is:\n",
    "\n",
    "‘The delivery of the system to the client on time is more important. The error can be fixed later, and a patch issued after the control system is installed and operational.‘\n",
    "\n",
    "Discuss whether the manager is abiding by the code of ethics of a computer professional. <div style=\"text-align: right\">[5]</div>"
   ]
  },
  {
   "cell_type": "code",
   "execution_count": 2,
   "metadata": {},
   "outputs": [],
   "source": [
    "#YOUR_ANSWER_HERE\n"
   ]
  }
 ],
 "metadata": {
  "kernelspec": {
   "display_name": "base",
   "language": "python",
   "name": "python3"
  },
  "language_info": {
   "codemirror_mode": {
    "name": "ipython",
    "version": 3
   },
   "file_extension": ".py",
   "mimetype": "text/x-python",
   "name": "python",
   "nbconvert_exporter": "python",
   "pygments_lexer": "ipython3",
   "version": "3.8.3"
  },
  "orig_nbformat": 2,
  "vscode": {
   "interpreter": {
    "hash": "d4abd50234137fb60a8e52bcd12c63c8cbc1f26b32bc51c54dab6a2ee6deb43f"
   }
  }
 },
 "nbformat": 4,
 "nbformat_minor": 2
}
