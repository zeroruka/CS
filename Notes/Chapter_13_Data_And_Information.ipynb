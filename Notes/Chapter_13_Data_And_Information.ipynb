{
 "cells": [
  {
   "cell_type": "markdown",
   "metadata": {},
   "source": [
    "# Learning Objectives\n",
    "\n",
    "- [ ] 3.1.1 Represent data in binary and hexadecimal forms.\n",
    "- [ ] 3.1.2 Write programs to perform the conversion of positive integers between different number bases: denary, binary and hexadecimal forms; and display results. \n",
    "- [ ] 3.2.1 Give examples of where or how Unicode is used.\n",
    "- [ ] 3.2.2 Use ASCII code in programs. \n",
    "- [ ] 3.3.9 Understand the need for privacy and integrity of data.\n",
    "- [ ] 3.3.10 Describe methods to protect data.\n",
    "- [ ] 3.3.11 Explain the difference between backup and archive.\n",
    "- [ ] 3.3.12 Describe the need for version control and naming convention.\n",
    "- [ ] 3.3.13 Explain how data in Singapore is protected under the Personal Data Protection Act to govern the collection, use and disclosure of personal data. \n",
    "\n",
    "# References\n",
    "\n",
    "1. Leadbetter, C., Blackford, R., & Piper, T. (2012). Cambridge international AS and A level computing coursebook. Cambridge: Cambridge University Press.\n",
    "2. https://www.geeksforgeeks.org/tree-traversals-inorder-preorder-and-postorder/\n",
    "3. https://www.dcode.fr/babylonian-numbers\n",
    "4. https://www.joelonsoftware.com/2003/10/08/the-absolute-minimum-every-software-developer-absolutely-positively-must-know-about-unicode-and-character-sets-no-excuses/\n",
    "5. CPDD"
   ]
  },
  {
   "cell_type": "markdown",
   "metadata": {},
   "source": [
    "# 13.0 Representation of Positive Integers\n",
    "\n",
    "All of us are familiar with the use of positive integers. In particular, we grew up learning how to count from a young age and (hopefully) none of us consider counting from 1 to 100 to be difficult. To count, we need to first understand the meanings of the symbols 0, 1, 2, . . ., 9 and also, the meaning of positions two identical in the integer. This way of writing out numbers is termed **positional notation / number system**. For example, when we write the number `107` to represent **one hundred and  seven**, we actually mean $$1\\times 10^2 +0\\times 10^1 +7\\times 10^0.$$ \n",
    "\n",
    "In particular, note that in our modern use of Hindu-Arabic numbers, we have 10 different symbols that we could mix and match to generate more numbers with by switching their positions in our writing. The number of such different symbols in a number system is called the **base** or **radix** of the number system. Thus, with this definition, our usual number system is base-10. This number system is also called **decimal** number system or **denary** system.\n",
    "\n",
    "The Babylonians are generally credited as the first civilization that came up with the positional system. \n",
    "<center>\n",
    "<img src=\"https://upload.wikimedia.org/wikipedia/commons/thumb/d/d6/Babylonian_numerals.svg/1920px-Babylonian_numerals.svg.png\" width=\"600\" align=\"center\"/><br>\n",
    "By Josell7 - File:Babylonian_numerals.jpg, CC BY-SA 4.0, https://commons.wikimedia.org/w/index.php?curid=9862983\n",
    "</center>\n",
    "However, from the diagram of symbols above, we see that they actually have more than 10 symbols in their system. In fact, Babylonian number system is more akin to our modern base-60 system. We still see their influence in some of the measurements in our daily life like 60 seconds in a 1 minute, 60 minutes in an hour; 6 * 60 degrees in 1 revolution of a circle.\n",
    "\n",
    "For the subsequent parts of this section, we will denote base-$k$ number with subscript when the meaning of the number is ambigous. So, for example, if $13_{10}$ is the integer `13` in base-10, $101_{2}$ is the integer `5` in base-2. \n",
    "\n",
    "## 13.1.1 Base-2 Number System\n",
    "\n",
    "The number system with two symbols only (0,1) is called the **binary** number system. In this system, every integer $n$ as we know it can uniquely represented by a number that consists only of 0 and 1s. For example, $2_{10}$ is $10_{2}$, $3_{10}$ is $11_{2}$. \n",
    "\n",
    "Let $\\left(a_{n-1}a_{n-2}\\cdots a_{1}a_{0}\\right)_{2}$ be a $n$ digit binary number, so for every $i$, $0\\leq i\\leq n-1$, $a_i$ is either 0 or 1, that represents $x_{10}$ in denary. Then, $$x_{10}=a_{n-1}2^{n-1}+a_{n-2}2^{n-2}+\\cdots+a_{1}2^{1}+a_{0}2^{0}.$$\n",
    "\n",
    "For example, \n",
    "- $3_{10}=1*2^{1}+1*2^{0}=11_{2}$,\n",
    "- $65_{10}=1*2^{6}+0*2^{5}+0*2^{4}+0*2^{3}+0*2^{2}+0*2^{1}+1*2^{0}=(1000001)_{2}$.\n",
    "\n",
    "## Exercise\n",
    "- Without using Python's inbuilt converter, write a function `den_to_bin()` that takes in an integer $n$ in denary representation and returns the binary representation of the integer. E.g. `den_to_bin(65)` returns `1000001`. \n",
    "- Without using Python's inbuilt converter, write a function `bin_to_den()` that takes in an integer $n$ in binary representation and returns the denary representation of the integer. E.g. `bin_to_den(1000001)` returns `65`."
   ]
  },
  {
   "cell_type": "code",
   "execution_count": null,
   "metadata": {},
   "outputs": [],
   "source": [
    "#YOUR_ANSWER_HERE\n"
   ]
  },
  {
   "cell_type": "markdown",
   "metadata": {},
   "source": [
    "## 13.1.2 Base-16 Number System\n",
    "\n",
    "The number system with 16 symbols is called the **hexadecimal** ( hex for short) number system. Hexadecimal system uses the decimal numbers and six extra symbols. There are no numerical symbols that represent values greater than nine, so letters taken from the English alphabet are used, specifically `A`, `B`, `C`, `D`, `E` and `F`. $A_{16} = 10_{10}$, $B_{16} = 11_{10}$, and so on so forth, up to $F_{16} = 15_{10}$.\n",
    "\n",
    "Let $\\left(a_{n-1}a_{n-2}\\cdots a_{1}a_{0}\\right)_{2}$ be a $n$ digit hexadecimal number, so for every $i$, 0\\leq i\\leq n-1, $a_i$ is either 0, 1, .., A,..F, that represents $x_{10}$ in denary. Then, $$x_{10}=b_{n-1}16^{n-1}+b_{n-2}16^{n-2}+\\cdots+b_{1}16^{1}+b_{0}16^{0},$$\n",
    "where \n",
    "- $b_i=a_i$ if $0\\leq a_i\\leq 9$,\n",
    "- Also, $b_{i}=\\begin{cases}\n",
    "10 & ,\\text{if }a_{i}=A\\\\\n",
    "11 & ,\\text{if }a_{i}=B\\\\\n",
    "12 & ,\\text{if }a_{i}=C\\\\\n",
    "13 & ,\\text{if }a_{i}=D\\\\\n",
    "14 & ,\\text{if }a_{i}=E\\\\\n",
    "15 & ,\\text{if }a_{i}=F\n",
    "\\end{cases}$\n",
    "\n",
    "For example, \n",
    "- $3_{10}=3*16^{0}=3_{16}$,\n",
    "- $65_{10}=4*16^{1}+1*16^{0}=41_{16}$.\n",
    "- $FF_{16}=15*16^{1}+15*16^{0}=255_{10}$.\n",
    "\n",
    "## Exercise\n",
    "- Without using Python's inbuilt converter, write a function `den_to_hex()` that takes in an integer $n$ in denary representation and returns the hexadecimal representation of the integer. E.g. `den_to_hex(65)` returns `41`.\n",
    "- Without using Python's inbuilt converter, write a function `hex_to_den()` that takes in an integer $n$ in hexadecimal representation and returns the denary representation of the integer. E.g. `hex_to_den(41)` returns `65`."
   ]
  },
  {
   "cell_type": "code",
   "execution_count": null,
   "metadata": {},
   "outputs": [],
   "source": [
    "#YOUR_ANSWER_HERE\n"
   ]
  },
  {
   "cell_type": "markdown",
   "metadata": {},
   "source": [
    "# 13.1 Data Representation\n",
    "Values are stored inside a computer as a series of 0s and 1s. A single 0 or 1 is called a **binary digit** or **bit**. Any group of 0s and 1s can be used to represent a specific character, for example, a letter. The number of bits used to store one character is called a **byte**. The complete set of characters that the computer uses is known as its **character set**. For example, the character `A` could be stored as `00000001`. The representation of characters as in terms of `0`s and `1`s are called **binary representation**.\n",
    "\n",
    "Binary representation is a suitable representation of values in a computer as the circuits in a computer's processor are made up of billions of transistors, tiny switches that are activated by the electronic signals it receives and building blocks of modern computers. The digits 1 and 0 used in binary reflect the on and off states of a transistor.\n",
    "\n",
    "\n",
    "<center>\n",
    "<img src=\"https://image.shutterstock.com/z/stock-photo-brown-motherboard-pcb-close-up-shot-with-dual-bios-chips-surface-mount-transistors-capasitors-and-1864279093.jpg\" width=\"300\" align=\"center\"/><br>\n",
    "By Anton Bushinskiy, Shutterstock\n",
    "</center>\n",
    "\n",
    "Another commonly used representation of values in computer is **hexacadecimal representation**, which is intended to simplify the binary representation. Furthermore, note that each hex digit is a 4-bit binary sequence. For example, `11010100` in binary would be `D4` in hex.\n",
    "\n",
    "A good way of thinking about the character set for a normal computer is to have a look at the characters that are available on its keyboard. For this character set, eight bits are used to store a single character. Using a byte (eight bits) for a character, we can store up to 256 unique characters (i.e. 256 different eight-bit binary values). This is enough to represent each of the characters on a standard keyboard (Most Windows based keyboard has 104 keys).\n",
    "\n",
    "# 13.1.1 American Standard Code for Information Interchange (ASCII)\n",
    "In the 1960s, a meeting in the USA agreed a standard set of codes which allows different computers to store 'standard' characters in a uniform manner. Before this convention, different machines could store same characters is stored differently. E.g, some computer designer might prefer `10000000` to store the character `A`. This caused documents created on one of the computers to be unreadable on another.\n",
    "\n",
    "Most computer systems today use the ASCII coding system, so you can be fairly sure that when you type in `A` on any computer, it is stored in the computer’s memory as $01000001_2$ and will be read as `A` by any other computer.\n",
    "\n",
    "These binary numbers in the ASCII coding system are termed **ASCII code points**.\n",
    "\n",
    "The mapping of code points to a sequence of code units is termed **character encoding**.\n",
    "\n",
    "The ASCII coding system uses **seven** (not eight) bits to represent each character and the eighth bit as a means of checking the rest (called the **parity bit**). For ASCII, these 8 bits is called a **code unit**. Parity bit for ASCII is usually found in the leading bit of the code unit. This means that 128 different characters can be represented in the standard ASCII character set. \n",
    "\n",
    "\n",
    "\n",
    "Not all ASCII code points represents a written symbol. These code points are termed `control characters`. They are used to cause effects other than the addition of a symbol to the text. E.g.\n",
    "-  $00000000_2$ or $0_{16}$ represents `Null`, which does nothing,\n",
    "-  $01111111_2$ or $7F_{16}$ represents `Delete`, which is designed to erase incorrect characters.\n",
    "-  $01000001_2$ or $41_{16}$ represents the character `A`,\n",
    "-  $01000010_2$ or $42_{16}$ represents the character `B`,\n",
    "-  $01100001_2$ or $61_{16}$ represents the character `a`, etc. \n",
    "\n",
    "The full list of ASCII code points can be found at https://en.wikipedia.org/wiki/ASCII\n",
    "\n",
    "The function `ord()` in Python takes a character as a parameter and returns the *denary* representation of the ASCII code point associated with the character. For example, \n",
    "\n",
    ">```\n",
    "> ord('A')\n",
    ">> 65\n",
    ">```\n",
    "\n",
    "In the other direction, there's also another function `chr()` that takes in an integer and return a character.\n",
    "\n",
    "# Exercise\n",
    "- Find the sum of the ASCII character codes for `INDONESIA`.\n",
    "- Find the character represented by the integer `9786`."
   ]
  },
  {
   "cell_type": "code",
   "execution_count": null,
   "metadata": {},
   "outputs": [],
   "source": [
    "#YOUR_ANSWER_HERE\n"
   ]
  },
  {
   "cell_type": "markdown",
   "metadata": {},
   "source": [
    "# Example\n",
    "In a video game, players are posed with a puzzle with levers can be clicked to push it up or down. To solve the puzzle, the player must figure out the correct position of all 4 levers. \n",
    "\n",
    "<center>\n",
    "<img src=\"./images/lever-locked-chest-small.jpg\" width=\"600\" align=\"center\"/><br>\n",
    "</center>\n",
    "\n",
    "Another chest puzzle present in the game is a bit more complex than the first one. A Rune Locked Chest has 4 chains, and each chain will go away when the rune beneath it is set to the proper one. However, clicking some runes will change the runes in other columns, including the one you clicked.\n",
    "\n",
    "<center>\n",
    "<img src=\"./images/rune-locked-vault-small.jpg\" width=\"600\" align=\"center\"/><br>\n",
    "</center>\n",
    "\n",
    "For every chest,\n",
    "- 1 rune will change the value of all 4 runes\n",
    "- 1 rune will change the value of 3 runes\n",
    "- 1 rune will change the value of 2 runes\n",
    "- 1 rune will change itself."
   ]
  },
  {
   "cell_type": "markdown",
   "metadata": {},
   "source": [
    "# 13.1.2 Unicode and Unicode Transformation Formats (UTF)\n",
    "\n",
    "Unicode is a more recent set of code to store characters in a uniform manner. The Unicode standard describes how characters are represented by code points. Similar to ASCII, each character has a Unicode code point associated with it. Unicode code points has the form `U+hhhh` where `h` is a hexadecimal value.\n",
    "\n",
    "**Unicode character encoding** refers to the mapping of the Unicode code points to the memory representation of it. \n",
    "\n",
    "The most commonly used Unicode encodings are \n",
    "- `UTF-8` uses one to four-byte (8-bit) code units to represent a character.\n",
    "    - Used by 97% of web pages and also python\n",
    "    - In UTF-8, every code point from 0-127 (in denary) is stored in a single byte. Only code points 128 and above are stored using 2, 3, in fact, up to 6 bytes.\n",
    "    - compatible with ASCII, i.e., in other words, the character `k`, represented by $01101011_2$, in ASCII is also represented by the same byte in UTF-8.\n",
    "- `UTF-16` uses one to two 16-bit code units to represent a character. \n",
    "    - incompatible with ASCII\n",
    "\n",
    "The full list of Unicode characters can be found at https://en.wikipedia.org/wiki/List_of_Unicode_characters\n",
    "\n",
    "## Example\n",
    "The string `Hello` has the code points\n",
    "\n",
    ">```\n",
    ">U+0048 U+0065 U+006C U+006C U+006F\n",
    ">```\n",
    "\n",
    "If we try to store those numbers in two bytes each, we have \n",
    "\n",
    ">```\n",
    ">00 48 00 65 00 6C 00 6C 00 6F\n",
    ">```\n",
    "\n",
    "## Benefits of using Unicode\n",
    "- Using 16 bits makes it possible to represent over 65,000 characters. This means that all the characters used by the world’s languages can be represented in Unicode. \n",
    "- It is widely used to handle documents, particularly if a single document needs to be written in, for example, English, Arabic and Chinese. \n",
    "- Unicode also allows the localisation of software, where standard software can be adapted for use by different cultures by modifying the layout and features of the interface.\n",
    "\n",
    "## Example\n",
    "Run the following print statement."
   ]
  },
  {
   "cell_type": "code",
   "execution_count": null,
   "metadata": {},
   "outputs": [],
   "source": [
    "print(\"\\u3053\\u3093\\u306B\\u3061\\u306F\\U0001F600\")\n"
   ]
  },
  {
   "cell_type": "markdown",
   "metadata": {},
   "source": [
    "# 13.2 Data Management\n",
    "\n",
    "## 13.2.1 Data Privacy\n",
    "\n",
    "**Data privacy** is the requirement for data to be accessed by or disclosed to authorised persons only. It is important that unauthorised people do not have access to data they are not supposed to have. Unfortunately, in today’s digitised society, it is easier than ever to gather a person’s data and use it to obtain valuable insights, track his/her movements or to commit fraud.\n",
    "\n",
    "For instance, data on which websites you visit often can reveal which products you are more likely to purchase as a shopper. This information can be highly valuable to an advertiser. As more services become available online, the risk of fraudent use of data increases. For instance, with a photo of your identity card, a person can impersonate you and register for a new phone line on a telco website. (Previously such a transaction would have required the person to personally register over the counter with the physical identity card.) As technology becomes increasingly powerful, machines can gather information on a person easily, like performing facial recognition on surveillance videos to track down the whereabouts of an individual in a particular area.\n",
    "\n",
    "We want our personal data to be private so that unauthorised people cannot use our personal data for unauthorised use. In Singapore, personal data  is protected under the Personal Data Protection Act (PDPA).\n",
    "\n",
    "NB: Personal data refers to data, whether true or not, about an individual who can be identified from that data; or from that data and other information to which the organisation has or is likely to have access.\n",
    "\n",
    "### Exercise\n",
    "- Why is data privacy necessary?\n",
    "- Suppose you take a picture of yourself outside your home in your school uniform, and post it on social media to show everyone that you just returned home from school. What personal information can be gathered from the photo?"
   ]
  },
  {
   "cell_type": "code",
   "execution_count": null,
   "metadata": {},
   "outputs": [],
   "source": [
    "#YOUR_ANSWER_HERE\n"
   ]
  },
  {
   "cell_type": "markdown",
   "metadata": {},
   "source": [
    "## 13.2.2 Personal Data Protection Act (PDPA)\n",
    "\n",
    "The PDPA is a data protection law comprising various rules that govern the collection, use, disclosure and care of personal data. It recognises both the rights of individuals to protect their personal data, including rights of access and correction, as well as the needs of organisations to collect, use or disclose personal data for legitimate and reasonable purposes.\n",
    "\n",
    "It takes into account the following:\n",
    "\n",
    "- **Consent** – Organisations must obtain an individual's knowledge and consent to collect, use or disclose his/her personal data (with some exceptions).\n",
    "- **Notification** – Organisations must inform individuals of the purposes for collecting, using or disclosing their personal data.\n",
    "- **Appropriateness** – Organisations may collect, use or disclose personal data only for purposes that would be considered appropriate to a reasonable person under the given circumstances.\n",
    "- **Accountability** – Organisations must make information about their personal data protection policies available on request. They should also make available the business contact information of the representatives responsible for answering questions relating to the organisations’ collection, use or disclosure of personal data.\n",
    "\n",
    "To administer and enforce the PDPA, Singapore set up the Personal Data Protection Commission (PDPC) in 2013.\n",
    "\n",
    "### 13.2.2.1 Do Not Call Registry\n",
    "Have you received calls from unknown companies who seem to know your name and perhaps try to sell products to you? Your telephone number could have been gathered from unexpected sources, such as a lucky draw form that you filled up long ago. With technology, companies can easily gather and consolidate personal information. In fact, it can even automate the making of such calls.\n",
    "\n",
    "To prevent you from getting unnecessary marketing calls, you can register in the Do Not Call (DNC) Registry to opt out of marketing messages and calls. The PDPA prohibits organisations from sending marketing messages to Singapore telephone numbers, including mobile, fixed-line, residential and business numbers that are registered with the DNC Registry.\n",
    "\n",
    "There are three DNC registers that individuals can choose to register in:\n",
    "- No Voice Call Register\n",
    "- No Text Message Register\n",
    "- No Fax Message Register\n",
    "\n",
    "Registering the phone number in each register is to opt out of receiving marketing messages through voice calls, text messages and fax messages.\n",
    "\n",
    "Note that organisations which have an ongoing relationship with a subscriber or user of a Singapore telephone number may send marketing messages on similar or related products, services and memberships to that Singapore telephone number via text or fax without checking against the DNC Registry. However, each exempt message must also contain an opt-out facility that the recipient may use to opt out from receiving such telemarketing messages. If a recipient opts out, organisations must stop sending such messages to his/her Singapore telephone number after 30 days. This means that, for instance, you can get a marketing message from your mobile phone company even if you listed the number in the DNC Registry. However, the message will include a link for you to opt out from receiving their marketing messages. Once you opt out, the mobile phone company can no longer send you marketing messages on that number.\n",
    "\n",
    "### 13.2.2.2 Use of NRIC\n",
    "The Singapore National Registration Identification Card (NRIC) number is a unique idenfier assigned to Singapore citizens and permanent residents. Similarly, the Foreign Identification Number (FIN) is a unique identifier that is assigned to foreigners. The NRIC/FIN contains personal information about the person, such as his/her date of birth and address. As unique identifiers like NRIC and FIN are permament, irreplaceable and used in a variety of government transactions, we need to be careful with such data. \n",
    "\n",
    "Individuals should not readily provide their NRIC/FIN and personal particulars to companies/strangers. Consent is required before organisations can obtain a person’s data. Under the PDPA, from 1 September 2019, organisations  are generally not allowed to collect, use or disclose NRIC numbers (or copies of NRIC) except in the following circumstances:\n",
    "- Collection, use or disclosure of NRIC numbers (or copies of NRIC) is required under the law (or an exception under the PDPA applies); or\n",
    "- Collection, use or disclosure of NRIC numbers (or copies of NRIC) is necessary to accurately establish or verify the identities of the individuals to a high degree of fidelity.\n",
    "\n",
    "For example, a medical clinic needs to see the NRIC of a patient to identify the person. The clinic will need to keep the name, address, NRIC and contact number of the person with the medical notes for future reference. The PDPA allows for that. However, a shopping mall cannot collect the photographs of NRICs of all the shoppers that want to participate in their lucky draw. It is unnecessary to collect the photographs to verify the lucky draw participant. Instead, the participants can be identified with their mobile number, or be asked to give the last 4 characters of the NRIC (i.e. partial NRIC) for verification purposes. This reduces the security risks if the data collected is unintentionally revealed.\n",
    "\n",
    "NB: Note that PDPA does not apply to public agencies and organisations acting on behalf of them, thus, for example the police can collect your personal information, including NRIC/FIN. Data collected by public agencies are protected by other acts. See https://www.mci.gov.sg/pressroom/news-and-stories/pressroom/2019/2/mcis-response-to-pq-on-public-agencies-exemption-from-pdpa for more information.\n",
    "\n",
    "### Exercise\n",
    "- When can a handphone company ask for your NRIC?\n",
    "- What should the company do to ensure that your data is protected?"
   ]
  },
  {
   "cell_type": "code",
   "execution_count": null,
   "metadata": {},
   "outputs": [],
   "source": [
    "#YOUR_ANSWER_HERE\n"
   ]
  },
  {
   "cell_type": "markdown",
   "metadata": {},
   "source": [
    "### 13.2.3 Data Obligations\n",
    "Organisations are required to abide by the following 9 main personal data obilgations:\n",
    "\n",
    "1. **Consent Obligation**<br>\n",
    "Only collect, use or disclose personal data for purposes for which an individual has given his or her consent.\n",
    "\n",
    "2. **Purpose Limitation Obligation**<br>\n",
    "An organisation may collect, use or disclose personal data about an individual for the purposes that a reasonable person would consider appropriate in the circumstances and for which the individual has given consent.\n",
    "\n",
    "3. **Notification Obligation**<br>\n",
    "Notify individuals of the purposes for which your organisation is intending to collect, use or disclose their personal data on or before such collection, use or disclosure of personal data.\n",
    "\n",
    "4. **Access and Correction Obligation**<br>\n",
    "Upon request, the personal data of an individual and information about the ways in which his or her personal data has been or may have been used or disclosed within a year before the request should be provided. However, organisations are prohibited from providing an individual access if the provision of the personal data or other information could reasonably be expected to cause harmful effects. Organisations are also required to correct any error or omission in an individual’s personal data that is raised by the individual. \n",
    "\n",
    "5. **Accuracy Obligation**<br>\n",
    "Make reasonable effort to ensure that personal data collected by or on behalf of your organisation is accurate and complete, if it is likely to be used to make a decision that affects the individual, or if it is likely to be disclosed to another organisation.\n",
    "\n",
    "6. **Protection Obligation**<br>\n",
    "Make reasonable security arrangements to protect the personal data that your organisation possesses or controls to prevent unauthorised access, collection, use, disclosure or similar risks.\n",
    "\n",
    "7. **Retention Limitation Obligation**<br>\n",
    "Cease retention of personal data or remove the means by which the personal data can be associated with particular individuals when it is no longer necessary for any business or legal purpose.\n",
    "\n",
    "8. **Transfer Limitation Obligation**<br>\n",
    "Transfer personal data to another country only according to the requirements prescribed under the regulations, to ensure that the standard of protection provided to the personal data so transferred will be comparable to the protection under the PDPA, unless exempted by the PDPC.\n",
    "\n",
    "9. **Accountability Obligation**<br>\n",
    "Make information about your data protection policies, practices and complaints process available on request. Designate a Data Protection Officer to ensure that your organisation complies with the PDPA.\n",
    "\n",
    "More information on PDPA are available at the PDPC website: http://www.pdpc.gov.sg/ \n"
   ]
  },
  {
   "cell_type": "markdown",
   "metadata": {},
   "source": [
    "### 13.2.4 Protecting your Personal Data\n",
    "You can take various measures to protect your personal data. \n",
    "- Don’t reveal your personal data to unknown sources. For phone calls, ensure that the caller is who he or she is before giving your personal information. For websites and applications, read the privacy or data protection policies of the website to understand how your data is used. Websites/applications require you to explicitly agree with the terms when you submit the data. An example is shown below. \n",
    "    <center>\n",
    "    <img src=\"./images/data-consent.png\" height=\"150\" align=\"center\"/>\n",
    "    </center>\n",
    "    Please note that once you agreed, the company can contact you, even if your number is listed in the Do Not Call Registry. If you have queries on personal data, or to withdraw consent, you can contact the data protection officer (DPO). Under PDPA, companies are required to appoint one or more persons to be DPO to oversee the data protection responsibilities within the organisation and ensure compliance with the PDPA.\n",
    "\n",
    "- Also be careful when throwing away paper containing your personal data such as application forms or letters from schools/banks. Tear or shred the paper so that people cannot use the paper to obtain personal data about yourself. \n",
    "\n",
    "### Exercise\n",
    "Read the following case and answer the questions that follow.\n",
    ">\n",
    ">A pre-school organised a school trip for interested pre-school students and their parents. To verify that only authorised parents turned up for the school trip, the pre-school teacher collected the parent’s personal data (like identity card numbers).<br>\n",
    ">A few days before the school trip, the teacher sent a photograph of the consolidated name list to the parent’s WhatsApp chat group to remind those who signed up about the school trip. The photograph contained a table which included the names of the students, with the contact number and identity card numbers of the parents attending.\n",
    ">\n",
    "- (a)   Was the Personal Data Protection Act (PDPA) breached? If yes, in what ways? If no, why?\n",
    "- (b)\tGive examples of the personal data obtained by the teacher.\n",
    "- (c)\tWhat precautions can the teacher take to prevent a similar incident from happening?"
   ]
  },
  {
   "cell_type": "code",
   "execution_count": null,
   "metadata": {},
   "outputs": [],
   "source": [
    "#YOUR_ANSWER_HERE\n"
   ]
  },
  {
   "cell_type": "markdown",
   "metadata": {},
   "source": [
    "## 13.2.5 Data Integrity\n",
    "\n",
    "**Data integrity** is the overall accuracy, completeness, and consistency of data. Data integrity also refers to the safety of data in regard to regulatory compliance and security. It is maintained by a collection of processes, rules, and standards implemented during the design phase. When the integrity of data is secure, the information stored in a database will remain complete, accurate, and reliable no matter how long it’s stored or how often it’s accessed. Data integrity also ensures that your data is safe from any outside forces."
   ]
  }
 ],
 "metadata": {
  "kernelspec": {
   "display_name": "Python 3",
   "language": "python",
   "name": "python3"
  },
  "language_info": {
   "codemirror_mode": {
    "name": "ipython",
    "version": 3
   },
   "file_extension": ".py",
   "mimetype": "text/x-python",
   "name": "python",
   "nbconvert_exporter": "python",
   "pygments_lexer": "ipython3",
   "version": "3.10.2 (tags/v3.10.2:a58ebcc, Jan 17 2022, 14:12:15) [MSC v.1929 64 bit (AMD64)]"
  },
  "orig_nbformat": 2,
  "vscode": {
   "interpreter": {
    "hash": "a42ccb73e7d9bfdf27e036f1d2b8b681e55fc0743cc5586bc2474d4a60f4b886"
   }
  }
 },
 "nbformat": 4,
 "nbformat_minor": 2
}
