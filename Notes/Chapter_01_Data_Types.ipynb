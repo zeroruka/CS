{
 "cells": [
  {
   "attachments": {},
   "cell_type": "markdown",
   "metadata": {},
   "source": [
    "# Learning Objectives\n",
    "\n",
    "- [ ]  2.2.1 Understand the different types: integer `int`, real `float`, char `chr`, string `str` and Boolean `Boolean` and initialise arrays (1-dimensional and 2-dimensional). \n",
    "- [ ]  2.2.2 Use common library functions for input/output, strings and mathematical operations. \n",
    "\n",
    "[![Open In Colab](https://colab.research.google.com/assets/colab-badge.svg)](https://colab.research.google.com/github/njc-cz2-2021/Materials/blob/main/Notes/Chapter_01_Data_Types.ipynb) "
   ]
  },
  {
   "attachments": {},
   "cell_type": "markdown",
   "metadata": {},
   "source": [
    "# 1 Data Types\n",
    "\n",
    ">In computer science, a data is defined to be a sequence of one or more symbols. \n",
    "\n",
    "Note that under this definition, data doesn't need to carry information or even be meaningful. However, to make use of data, we need to endow it with more structure and make it meaningful. \n",
    "\n",
    "## 1.1 Basic Data Types\n",
    "\n",
    "Data can be categorised into different types, i.e. a data type is a category/class of data. The following are 5 basic data types which are found in most programming languages:\n",
    "\n",
    "| No | Data Type             | Definition                                                        | Examples                   | Benefits                                                        | Limitations                                        |\n",
    "|---|-----------------------|-------------------------------------------------------------------|----------------------------|-----------------------------------------------------------------|----------------------------------------------------|\n",
    "| 1 | Integer `int`               | A whole number or number without a fractional part                | `-1`, `0`, `1`, `1000`                | Full precision with finite digits                               | Typically limited to a specific range              |\n",
    "| 2 | Floating Point Number `float`| A number with ( or calculated with) a fractional part              | `-1.5`, `0.1`, $\\tt{\\frac{1}{3}}$,`2.5`, $\\pi$       | Stores rational/irrational numbers with reasonable accuracy     | Not exact; not 100% precise                        |\n",
    "| 3 | Boolean `Boolean`              | Two values representing either true or false in a logic statement | `True`, `False`                | Space efficient when needed to represent values that are binary | Only 2 possible values                             |\n",
    "| 4 | String `str`                | A collection of symbols                                           | `a`, `abc`, `123`, `a string` | Allows for more human-readable information                      | Mapped values cannot be manipulated arithmetically |\n",
    "| 5 | `None`                  |  A null variable or object                                                                 |                            |                                                                 |                                                    |\n",
    "\n",
    "We may also manipulate these values by performing various operations on them. Essentially, when we write code, we may form expressions via the use of operators to manipulate data.\n",
    "\n",
    "## 1.2 Operators\n",
    "\n",
    ">An operator is a symbol that *operates* on one or more values, i.e. it is a symbol that represents an action or process. \n",
    "\n",
    "### 1.2.1 Arithmetic Operations\n",
    "\n",
    "An arithmetic operator is an operator that work on numeric data types. The typical operations that may be performed on numbers include:\n",
    "\n",
    "<center>\n",
    "\n",
    "|     Operation    | Symbol |\n",
    "|:----------------:|:------:|\n",
    "|     Addition     |    `+`   |\n",
    "|    Subtraction   |    `-`   |\n",
    "|  Multiplication  |    `*`   |\n",
    "|     Division     |    `/`   |\n",
    "| Integer Division |   `//`   |\n",
    "|      Modulo      |    `%`   |\n",
    "|      Power      |   `**`   |\n",
    "\n",
    "</center>\n",
    "\n",
    ">It's demo time. Try the operations with the following pairs `(15,10)`, `(3,4)`, `(124,20)`"
   ]
  },
  {
   "cell_type": "markdown",
   "metadata": {},
   "source": [
    "#### Exercise 1.1\n",
    "\n",
    "It is important to know the type of the value that a variable refers to – e.g., this would allow us to use the correct operators. Python automatically infers the type from the value you assign to a variable. Write down the type of the values stored in each of the variables below. Pay special attention to punctuation: values are not always the type they seem!\n",
    "\n",
    "1. `a = False`\n",
    "2. `b = 3.7`\n",
    "3. `c = 'Alex'`\n",
    "4. `d = 7`\n",
    "5. `e = 'True'`\n",
    "6. `f = 12 ** 3`\n",
    "7. `g = '17'`\n",
    "8. `h = True`\n",
    "9. `i = '3.14159'`\n",
    "10. `j = 12 / 27`\n",
    "11. `k = 2.0 / 1`\n",
    "12. `l = (5 == \"5\")`\n",
    "13. `m = str((-4 + abs(-5) / 2 ** 3) + 321 - ((64 / 16) % 4) ** 2)`\n",
    "\n",
    "To verify your answers, you can use the `type` function in interactive Python shell (as shown below). However, first try to do the exercise without the help of the shell.\n",
    "\n",
    ">```python\n",
    ">>>> x = 100\n",
    ">>>> type(x)\n",
    "><type 'int'>\n",
    ">>>>\n",
    ">```"
   ]
  },
  {
   "attachments": {},
   "cell_type": "markdown",
   "metadata": {},
   "source": [
    "##### Answer"
   ]
  },
  {
   "cell_type": "code",
   "execution_count": 2,
   "metadata": {},
   "outputs": [],
   "source": [
    "# YOUR ANSWER HERE"
   ]
  },
  {
   "attachments": {},
   "cell_type": "markdown",
   "metadata": {},
   "source": [
    "### 1.2.2 Logical and Comparison Operations\n",
    "\n",
    "There are several Boolean or logical operations. Among the most common are the following:\n",
    "\n",
    "<center>\n",
    "\n",
    "| Operation   | Symbol |\n",
    "|:-------------:|:--------:|\n",
    "| Logical AND | `and`    |\n",
    "| Logical OR  | `or`     |\n",
    "| Logical NOT | `not`    |\n",
    "\n",
    "</center>\n",
    "\n",
    "Each logical operation is associated with a truth table, which defines all possible pairs of operand values, and the corresponding resultant value that is attained when the operator in question is applied to the given operands. The truth table for the above logical operations are as follows.\n",
    "\n",
    "<center>\n",
    "\n",
    "| `x`     | `y`     | `x and y` | `x or y` | `not x` |\n",
    "|-------|-------|---------|--------|-------|\n",
    "| `True`  | `True`  | `True`    | `True`   | `False` |\n",
    "| `True`  | `False` | `False`   | `True`   | `False` |\n",
    "| `False` | `True`  | `False`  | `True`   | `True`  |\n",
    "| `False` | `False` | `False`   | `False`  | `True`  |\n",
    "\n",
    "</center>\n",
    "\n",
    "Note that:\n",
    "> 1. The result is `True` if both `x` and `y` are `True`, or else, the result is `False`.\n",
    "> 2. The result is `True` if `x` is `True` or `y` is `True`, or else, the result is `False`.\n",
    "> 3. The result is the opposite of the Boolean value of `x`.\n",
    "\n",
    "Additionally, there are several comparison operations that do not require Boolean operands, but have a Boolean value result:\n",
    "\n",
    "<center>\n",
    "\n",
    "|     Operation    | Symbol |\n",
    "|:----------------:|:------:|\n",
    "|     Less Than     |    `<`   |\n",
    "|    Less Than or Equals   |    `<=`   |\n",
    "|  Equality  |    `==`   |\n",
    "|     Greater Than     |    `>`   |\n",
    "| Greater Than or Equals |   `>=`   |\n",
    "|     Not Equals    |    `!=`   |\n",
    "\n",
    "</center>\n",
    "\n",
    "As with the arithmetic and logical operations, the above comparison operations take 2 operands, evaluate the associated test, and then have Boolean result. For example, `10 < 5` will result in `False`, since 10 is actually greater than 5, not less; `“abc” == “cba”` will result in False, since the 2 strings are not equivalent.\n"
   ]
  },
  {
   "cell_type": "markdown",
   "metadata": {},
   "source": [
    "#### Exercise 1.2\n",
    "\n",
    "Boolean operators can seem tricky at first, and it takes practice to evaluate them correctly. Write the value (`True` or `False`) produced by each expression below, using the assigned values of the variables `a`, `b`, and `c`. Try to do this without using your interpreter, but you should check yourself when you think you've got it.\n",
    "\n",
    ">Hint: Work from the inside out, starting with the innermost expressions, similar to arithmetic.\n",
    "\n",
    "Let:\n",
    "\n",
    "- `a = False`\n",
    "- `b = True`\n",
    "- `c = False`\n",
    "\n",
    "Would the expressions below evaluate to `True` or `False`?\n",
    "\n",
    "1. `b and c`\n",
    "2. `b or c`\n",
    "3. `not a and b`\n",
    "4. `(a and b) or not c`\n",
    "5. `not b and not (a or c)`"
   ]
  },
  {
   "attachments": {},
   "cell_type": "markdown",
   "metadata": {},
   "source": [
    "##### Answer"
   ]
  },
  {
   "cell_type": "code",
   "execution_count": 1,
   "metadata": {},
   "outputs": [],
   "source": [
    "# YOUR ANSWER HERE"
   ]
  },
  {
   "attachments": {},
   "cell_type": "markdown",
   "metadata": {},
   "source": [
    "### 1.2.3 Basic String Operations\n",
    "\n",
    "The most basic string operation is concatenation `+`, which simply combines the contents of 2 strings. For example, given 2 strings, `“abc”` and `“xyz”`, the concatenation of `“abc”` and `“xyz”` would thus be the string `“abcxyz”`.\n",
    "\n",
    "Note that strings are typically denoted via the open and closed inverted commas - i.e., the value of the string corresponds to the symbols in between the open and closed inverted commas.\n",
    "\n",
    "You can also repeat strings by using `*` operator.\n",
    "\n",
    "Strings can also be compared with the comparison operators `<, >, <=, >=` which will give a Boolean value based on dictionary/lexicographic ordering. E.g. `'a' < 'b'` will evaluate to `True`, while `'c' < 'a'` will evalute to `False`. \n",
    "\n",
    "### 1.2.4 Expressions and Operation Precedence\n",
    "\n",
    "As mentioned in Section 2.1., we utilise operations within expressions.\n",
    "\n",
    "Expressions have the general form:\n",
    "\n",
    "`<OPERAND> <OPERATOR> <OPERAND>`\n",
    "\n",
    "For example, in the expression `10 + 20`, `10` corresponds to the first operand, `20` to the second operand, and `+` is the operator (i.e., the operation being applied to the 2 operands).\n",
    "\n",
    "All operators require certain operand types to work properly:\n",
    "\n",
    "<center>\n",
    "\n",
    "|     Operator Type    | Acceptable Operand Types |\n",
    "|:----------------:|:------:|\n",
    "|     Arithmetic     |    `int`,`float`   |\n",
    "|    Logical   |    `Boolean`   |\n",
    "|  Comparison  |    Any (Result is `Boolean`)   |\n",
    "|     String     |    `str`   |\n",
    "\n",
    "</center>\n",
    "\n",
    "Expressions may also be nested (just as mathematical expressions are). For example, `10 + ( 20 * 30 )`. When expressions are nested, they are executed using a certain order of precedence. Going back to the example above, we know that `20 * 30` must be evaluated first (to `600`), before we evaluate the resultant `10 + 600` expression.\n",
    "\n",
    "This precedence is typically consistent across all programming languages, the higher the operator is in the list below, the higher its precedence, i.e. it will get evaluated first.\n",
    "\n",
    "<center>\n",
    "\n",
    "|     Operator Type    | Operation |\n",
    "|:----------------:|:------:|\n",
    "|     Exponentiation     |    `**`   |\n",
    "|    Multiplication and Division   |    `*`,`/`,`//`,`%`   |\n",
    "|  Addition and Subtraction  |    `+`,`-`   |\n",
    "|     All Comparison     |    `<`,`<=`,`>`,`>=`,`==`,`!=`   |\n",
    "|     Logical NOT     |    `not`   |\n",
    "|     Logical AND     |    `and`   |\n",
    "|     Logical OR     |    `or`   |\n",
    "\n",
    "</center>\n",
    "\n",
    "However, to enforce precedence, we may typically utilise brackets, just as we do in mathematics. Thus, for example, despite the precedence table shown above, when `(10 + 20) * 30` is evaluated, we now instead evaluate `10 + 20` first (since it is bracketed). As with mathematics, the innermost brackets must be evaluated first."
   ]
  },
  {
   "attachments": {},
   "cell_type": "markdown",
   "metadata": {},
   "source": [
    "#### Exercise 1.3\n",
    "What is the output of the following statements? Try to do this without using your interpreter, but you should check yourself when you think you've got it.\n",
    "\n",
    "1. `print(5 == 5.0)`\n",
    "2. `print(float(1/2))`\n",
    "3. `print(float(1)/2)`\n",
    "4. `print(5 == \"5\")`\n",
    "5. `print(\"sdf\" != \"sdf\")`\n",
    "6. `print(True and (False or not True))`\n",
    "7. `print(str(53) + str(True))`\n",
    "8. code \n",
    "    >```python\n",
    "    >a = 20 \n",
    "    >print(str(15 - (a - 15)) + \", \", end = \" \")\n",
    "    >a = 10 \n",
    "    >print(15 - (a - 15))\n",
    "    >```"
   ]
  },
  {
   "attachments": {},
   "cell_type": "markdown",
   "metadata": {},
   "source": [
    "##### Answer"
   ]
  },
  {
   "cell_type": "code",
   "execution_count": null,
   "metadata": {},
   "outputs": [],
   "source": [
    "# THIS IS A CODE BLOCK"
   ]
  }
 ],
 "metadata": {
  "file_extension": ".py",
  "kernelspec": {
   "display_name": "Python 3",
   "language": "python",
   "name": "python3"
  },
  "language_info": {
   "codemirror_mode": {
    "name": "ipython",
    "version": 3
   },
   "file_extension": ".py",
   "mimetype": "text/x-python",
   "name": "python",
   "nbconvert_exporter": "python",
   "pygments_lexer": "ipython3",
   "version": "3.10.2"
  },
  "mimetype": "text/x-python",
  "name": "python",
  "npconvert_exporter": "python",
  "orig_nbformat": 2,
  "pygments_lexer": "ipython3",
  "version": 3,
  "vscode": {
   "interpreter": {
    "hash": "a42ccb73e7d9bfdf27e036f1d2b8b681e55fc0743cc5586bc2474d4a60f4b886"
   }
  }
 },
 "nbformat": 4,
 "nbformat_minor": 2
}
