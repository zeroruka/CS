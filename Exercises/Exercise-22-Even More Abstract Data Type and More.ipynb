{
 "cells": [
  {
   "attachments": {},
   "cell_type": "markdown",
   "metadata": {},
   "source": [
    "# Exercise 22\n",
    "\n",
    "Related Notes:\n",
    "- Fundamentals_14_Abstract_Data_Types"
   ]
  },
  {
   "cell_type": "markdown",
   "metadata": {},
   "source": [
    "## Exercise 22.1 2018/HCI/P1/Q3 H2 Computing\n",
    "\n",
    "A linked list Abstract Data Type (ADT) has the following operations defined:\n",
    "- `Create()`  --  creates an empty linked list;\n",
    "- `Insert(item, p)`  -- inserts new `value`, `item`, into linked list so that it is at position p in the linked list. Assume that the linked list contains at least `(p - 1)` items before the insertion.\n",
    "- `Delete(p)`  --  deletes the item at position p in the linked list;\n",
    "- `Length()`  --  returns the number of items in the linked list;\n",
    "- `IsEmpty()`  --  returns true if linked list is empty;\n",
    "- `IsFull()` – returns true if linked list is full;\n",
    "\n",
    "The linked list is implemented by the use of a collection of nodes that have two parts:  the item data and a pointer to the next item in the list. In addition there is a `Start` pointer which points to the first item in the list. \n",
    "\n",
    "The unused nodes are linked and the first unused node is the position where the next new data item is to be stored. Node removed from the linked list should be returned to `NextFree` list. \n",
    "\n",
    "The diagram shows the linked list after the following sequence of commands have been executed.\n",
    "\n",
    "```Python\n",
    "    Create()\n",
    "    Insert('Ali', 1)\n",
    "    Insert('Jack', 1)\n",
    "    Insert('Ben',2)\n",
    "    Delete(1)\n",
    "    Insert('Jane', 2)\n",
    "    Insert('Ken', 3)\n",
    "    Delete(2)\n",
    "``` \n",
    "\n",
    "The program to implement this ADT will use the classes `ListNode` and `LinkedList` as follows:\n",
    "\n",
    "<center>\n",
    "\n",
    "|`ListNode` |  \n",
    "|-|\n",
    "| `Name    : STRING`|\n",
    "| `Pointer : INTEGER`|\n",
    "|--------------------|\n",
    "| `Constructor()`|\n",
    "| `SetName(Name:STRING)`|\n",
    "| `SetPointer(Pointer:INTEGER)`|\n",
    "| `GetName():STRING`|\n",
    "| `GetPointer(): INTEGER`|\n",
    "\n",
    "</center>\n",
    "<br>\n",
    "<center>\n",
    "\n",
    "|`LinkedList`|\n",
    "|-|\n",
    "|`Node  : ARRAY [1..10] OF ListNode`|\n",
    "|`Start : INTEGER`|\n",
    "|`NextFree : INTEGER`|\n",
    "|--------------------|\n",
    "|`Constructor()`|\n",
    "|`Insert (name: STRING, position: INTEGER)`|\n",
    "|`Delete (position: INTEGER)`|\n",
    "|`Length (): INTEGER`|\n",
    "|`IsEmpty(): BOOLEAN`|\n",
    "|`IsFull() : BOOLEAN`|\n",
    "\n",
    "</center>\n",
    "\n",
    "### Task 1\n",
    "Write program code to define the classes `ListNode` and `LinkedList`.\n",
    "\n",
    "### Evidence 2\n",
    "Program code for the `ListNode` and `LinkedList` classes. <div style=\"text-align: right\">[18]</div>                                                                                                                                                \n",
    "\n",
    "\n",
    "### Task 3\n",
    "A method `Display()` is to be added, which displays the value of `Start`, the value of `NextFree` and the contents of `Node` array in index order. Write program code to implement this method.\n",
    "\n",
    "### Evidence 4\n",
    "Your program code for Task 3.<div style=\"text-align: right\">[4]</div>"
   ]
  },
  {
   "cell_type": "code",
   "execution_count": null,
   "metadata": {},
   "outputs": [],
   "source": [
    "#YOUR_CODE_HERE"
   ]
  },
  {
   "cell_type": "markdown",
   "metadata": {},
   "source": [
    "### Task 5\n",
    "Write code to create a `LinkedList` object in the main program. Paste the sequence of commands in `COMMANDS.txt` into your program code. Your program will then call the `Display` method. \n",
    "\n",
    "Execute your program to test it.\n",
    "\n",
    "### Evidence 6\n",
    "Screenshot showing the output from running the program in Task 5.<div style=\"text-align: right\">[2]</div>"
   ]
  },
  {
   "cell_type": "code",
   "execution_count": null,
   "metadata": {},
   "outputs": [],
   "source": [
    "#YOUR_CODE_HERE"
   ]
  },
  {
   "cell_type": "markdown",
   "metadata": {},
   "source": [
    "A linear queue is implemented using the `LinkedList` class as a super class.\n",
    " \n",
    "The subclass `Queue` has the following methods:\n",
    "- `Enqueue(item)`  --  inserts item at the rear of the queue;\n",
    "- `Dequeue()`  --  deletes the item at the front of the queue;\n",
    "- `Display()` -- displays the contents of the queue using the format given below.\n",
    " \n",
    "### Task 7\n",
    "Write program code for the subclass `Queue`. Use appropriate inheritance and polymorphism in your design.\n",
    "\n",
    "### Evidence 8\n",
    "Your program code for Task 7.<div style=\"text-align: right\">[5]</div>"
   ]
  },
  {
   "cell_type": "code",
   "execution_count": null,
   "metadata": {},
   "outputs": [],
   "source": [
    "#YOUR_CODE_HERE"
   ]
  },
  {
   "cell_type": "markdown",
   "metadata": {},
   "source": [
    "### Task 9\n",
    "Write program code to:\n",
    "- create a new queue and add the data in the file `NAMES.txt` to the queue\n",
    "- remove two items from the queue\n",
    "- display final contents of the queue\n",
    "\n",
    "### Evidence 10\n",
    "Your program code for Task 3.5.<div style=\"text-align: right\">[2]</div>\n",
    "\n",
    "### Evidence 11\n",
    "Screenshot showing the output from running the program in Task 3.5.<div style=\"text-align: right\">[1]</div>"
   ]
  },
  {
   "cell_type": "code",
   "execution_count": null,
   "metadata": {},
   "outputs": [],
   "source": [
    "#YOUR_CODE_HERE"
   ]
  },
  {
   "cell_type": "markdown",
   "metadata": {},
   "source": [
    "## Exercise 22.2 2014/HCI/P1/Q4 H2 Computing (Modified)\n",
    "Many programming languages use a variety of brackets eg `()`, `{}` and `[]` in their program statement constructs. Brackets can be nested e.g. `(())` and `{[]}`. A well-formed construct must contain a matched set of optionally nested brackets e.g. `(())`, `{[]}` and `(){}[]` are well-formed whereas `(()`, `{]` and `)(` are not.\n",
    "\n",
    "An efficient way to check if a program construct is well-formed is to use a stack to scan the brackets once from left to right as follows:\n",
    "\n",
    "Start from an empty stack. Whenever we encounter an open bracket, push it into the stack. Whenever we encounter a close bracket, we check if it is of the same type with the item at the top of the stack. Once we have a match, we pop the topmost bracket from the stack. Only when we managed to read the last bracket and find that the stack is empty, then we know that the brackets are properly nested, and the program construct is well-formed. \n",
    "\n",
    "The stack ADT contains character data and a top pointer, and has the following operations:\n",
    "- `Create()` : initializes a new stack\n",
    "- `Push(item)` : add item to top of stack\n",
    "- `Pop()` : remove item from top of stack\n",
    "- `Peep()` : inspect the topmost item of stack\n",
    "- `isEmpty()` : check if stack is empty\n",
    "\n",
    "### Task 12\n",
    "Using object-oriented programming techniques, implement the stack ADT using the class name `Stack`.\n",
    "\n",
    "### Evidence 13\n",
    "Your `Stack` class program code. <div style=\"text-align: right\">[8]</div>"
   ]
  },
  {
   "cell_type": "code",
   "execution_count": null,
   "metadata": {},
   "outputs": [],
   "source": [
    "#YOUR_CODE_HERE"
   ]
  },
  {
   "cell_type": "markdown",
   "metadata": {},
   "source": [
    "### Task 14\n",
    "Write a function `CheckNested(construct)` which accepts a string program construct of nested brackets and returns a Boolean result indicating if construct is well-formed.\n",
    "\n",
    "### Evidence 15\n",
    "Your `CheckNested` function code. <div style=\"text-align: right\">[10]</div>"
   ]
  },
  {
   "cell_type": "code",
   "execution_count": null,
   "metadata": {},
   "outputs": [],
   "source": [
    "#YOUR_CODE_HERE"
   ]
  },
  {
   "cell_type": "markdown",
   "metadata": {},
   "source": [
    "### Task 16\n",
    "Test your `CheckNested` function using the data file provided in `BRACKETS.txt`. If a construct is not well-formed, append it to a text file `ERRORS.txt`.\n",
    "\n",
    "### Evidence 17\n",
    "Screenshot of `ERRORS.txt`. <div style=\"text-align: right\">[1]</div>"
   ]
  },
  {
   "cell_type": "code",
   "execution_count": null,
   "metadata": {},
   "outputs": [],
   "source": [
    "#YOUR_CODE_HERE"
   ]
  },
  {
   "cell_type": "markdown",
   "metadata": {},
   "source": [
    "### Task 18\n",
    "Write a function `CheckWellformed(construct)` which contains a modified and enhanced version of `CheckNested(construct)`. When a first mismatch of bracket occurs, output the diagnostic message `\"Expecting '?'\"`, where `?` is the type of bracket expected. For example, for the construct `())`, output the diagnostic message `\"Expecting '('\"`.\n",
    "\n",
    "### Evidence 19\n",
    "Your `CheckWellformed` function code. <div style=\"text-align: right\">[10]</div>\n",
    "\n",
    "### Task 20\n",
    "Test your `CheckWellformed` function using `ERRORS.txt`. Display the diagnostic messages to screen.\n",
    "\n",
    "### Evidence 21\n",
    "Screenshot of diagnostic messages on screen. <div style=\"text-align: right\">[1]</div>"
   ]
  },
  {
   "cell_type": "code",
   "execution_count": null,
   "metadata": {},
   "outputs": [],
   "source": [
    "#YOUR_CODE_HERE"
   ]
  },
  {
   "cell_type": "markdown",
   "metadata": {},
   "source": [
    "## Exercise 22.3 2017/A Level/P1/Q4 H2 Computing\n",
    "\n",
    "A computer program can generate a simple Sudoku puzzle using a $4 \\times 4$ two-dimensional array. \n",
    "\n",
    "An example of this puzzle is: \n",
    "\n",
    "<center>\n",
    "<img src=\"./img/exercise22-sudoku-1.png\" width=\"250\" align=\"center\"/>\n",
    "</center>\n",
    "\n",
    "The first step to creating this puzzle is to develop a program to display the $4 \\times 4$ two-dimensional array as a grid. This program will display the grid as: \n",
    "\n",
    "<center>\n",
    "<img src=\"./img/exercise22-sudoku-2.png\" width=\"250\" align=\"center\"/>\n",
    "</center>\n",
    "\n",
    "### Task 22\n",
    "Create a program design that will declare, initialise and display the example puzzle shown. This design will: \n",
    "- make use of top-down design \n",
    "- include the data structure to represent the puzzle as a grid \n",
    "- initialise the grid using the values shown \n",
    "- make use of appropriate procedures and/or functions. \n",
    "\n",
    "### Evidence 23\n",
    "Your program design for Task 4.1. <div style=\"text-align: right\">[6]</div>\n",
    "\n",
    "### Task 24\n",
    "Write program code to display the puzzle designed in Task 4.1. \n",
    "\n",
    "### Evidence 25\n",
    "Your program code. <div style=\"text-align: right\">[5]</div>\n",
    "\n",
    "### Evidence 26\n",
    "Screenshot of the displayed grid.<div style=\"text-align: right\">[1]</div>"
   ]
  },
  {
   "cell_type": "code",
   "execution_count": null,
   "metadata": {},
   "outputs": [],
   "source": [
    "#YOUR_CODE_HERE"
   ]
  },
  {
   "cell_type": "markdown",
   "metadata": {},
   "source": [
    "The puzzle is said to be valid if it follows these rules:\n",
    "- It consists of tour quadrants.\n",
    "- The numbers in each quadrant must add up to ten.\n",
    "- Each horizontal and vertical row of the puzzle must also add up to ten.\n",
    "- No number can be repeated in the same row, same column or same quadrant of the puzzle. \n",
    "\n",
    "A good strategy tor creating puzzles is to start with a valid ‘base' puzzle and perform transformations on it to create new puzzles.\n",
    "\n",
    "You will write program code to create new valid puzzles. \n",
    "\n",
    "Each puzzle created will have two randomly selected transformations. from a possible four, performed on it. The following are the four possible transformations that can be carried out. \n",
    "\n",
    "<center>\n",
    "\n",
    "|Transformation|Explanation||\n",
    "|-|-|-|\n",
    "|1|Swaps two rows in the same quadrants|<center><img src=\"./img/exercise22-sudoku-3.png\" width=\"350\" align=\"center\"/></center>|\n",
    "|2|Swaps two columns in the same quadrants|<center><img src=\"./img/exercise22-sudoku-4.png\" width=\"150\" align=\"center\"/></center>|\n",
    "|3|Swaps the top and bottom quadrant rows entirely|<center><img src=\"./img/exercise22-sudoku-5.png\" width=\"350\" align=\"center\"/></center>|\n",
    "|4|Swaps the left and right quadrant columns entirely|<center><img src=\"./img/exercise22-sudoku-6.png\" width=\"150\" align=\"center\"/></center>|\n",
    "\n",
    "</center>\n",
    "\n",
    "### Task 27\n",
    "Write additional program code with brief internal commentary to identify each transformation. \n",
    "\n",
    "The program code will: \n",
    "- create a method of selecting. at random, two of the four possible transformations to be applied to the puzzle \n",
    "- call a sub-program for each of the required transformations \n",
    "- randomly select which rows will be transformed for transformations 1 and 2. for example. either the top or bottom two rows (for transformation 1) OR either the left-most or right-most two columns (for transformation 2) respectively \n",
    "- display the puzzle before each transformation is applied and after the final transformation. Before each transformation. it will also display the name of the transformation being carried out. \n",
    "\n",
    "For example: \n",
    "\n",
    "```python\n",
    "    4321 \n",
    "    1243 \n",
    "    3412 \n",
    "    2134 \n",
    "    Transformation 1: Swaps two rows in the same quadrants \n",
    "    1243 \n",
    "    4321\n",
    "    3412 \n",
    "    2134 \n",
    "    Transformation 4: Swaps the left and right quadrant columns entirely \n",
    "    4312 \n",
    "    2143 \n",
    "    1234 \n",
    "    3421 \n",
    "```\n",
    "\n",
    "### Evidence 28\n",
    "Your program code that includes **internal commentary**. <div style=\"text-align: right\">[14]</div>\n",
    "\n",
    "### Evidence 29\n",
    "Screenshots of the output that shows each of the four transformations applied.     <div style=\"text-align: right\">[4]</div>"
   ]
  },
  {
   "cell_type": "code",
   "execution_count": null,
   "metadata": {},
   "outputs": [],
   "source": [
    "#YOUR_CODE_HERE"
   ]
  },
  {
   "cell_type": "markdown",
   "metadata": {},
   "source": [
    "## Exercise 22.4 2014/A Level/P1/Q4 H2 Computing\n",
    "Design and code a computer program to simulate the following: \n",
    "\n",
    "A garden has a rectangular fish pond measuring 15 metres by 8 metres. \n",
    "\n",
    "The pond is to be represented on the screen by a rectangular grid. Each square metre of the pond is represented by an x-coordinate and a y-coordinate. The top left square metre of the pond display has x = 1 and y = 1. \n",
    "\n",
    "A boy throws a stone into the pond. The user will input the x-coordinate and y-coordlnate of the stone impact position. \n",
    "\n",
    "A grid representing the pond is then displayed with the stone's impact position: \n",
    "\n",
    "```python\n",
    "    X coordinate <1 to 15>? 9 \n",
    "    Y coordinate <1 to 8>? 3 \n",
    "\n",
    "    . . . . . . . . . . . . . . . \n",
    "    . . . . . . . . . . . . . . .\n",
    "    . . . . . . . . S . . . . . .\n",
    "    . . . . . . . . . . . . . . .\n",
    "    . . . . . . . . . . . . . . .\n",
    "    . . . . . . . . . . . . . . .\n",
    "    . . . . . . . . . . . . . . .\n",
    "    . . . . . . . . . . . . . . .\n",
    "```\n",
    "### Task 30\n",
    "The following are the suggested characters to use for the visual representation of the pond: \n",
    "\n",
    "<center>\n",
    "\n",
    "|Character|ASCII code(decimal)|Represents|\n",
    "|-|-|-|\n",
    "|.| 46| One square metre of water|\n",
    "|S| 83| Stone impact position|\n",
    "\n",
    "</center>\n",
    "\n",
    "Decide on the design to be used for: \n",
    "- The data structure to represent the grid\n",
    "- The contents of each square metre of the pond \n",
    "- Procedure(s) and/or function(s)s to be used \n",
    "\n",
    "### Evidence 31\n",
    "Show your program design (Task 4.1).<div style=\"text-align: right\">[6]</div>"
   ]
  },
  {
   "cell_type": "code",
   "execution_count": null,
   "metadata": {},
   "outputs": [],
   "source": [
    "#YOUR_CODE_HERE"
   ]
  },
  {
   "cell_type": "markdown",
   "metadata": {},
   "source": [
    "### Task 32\n",
    "Write program code to display the pond contents after a single stone has been thrown. \n",
    "\n",
    "### Evidence 33\n",
    "The program code.<div style=\"text-align: right\">[7]</div>\n",
    "\n",
    "### Evidence 34\n",
    "Screenshot for a single run of the program.<div style=\"text-align: right\">[1]</div>"
   ]
  },
  {
   "cell_type": "code",
   "execution_count": null,
   "metadata": {},
   "outputs": [],
   "source": [
    "#YOUR_CODE_HERE"
   ]
  },
  {
   "cell_type": "markdown",
   "metadata": {},
   "source": [
    "### Task 35\n",
    "The boy has been told to stop throwing stones into the pond because the pond now has three fish. The fish randomly swim around. Each fish will occupy a unique grid position. Using a random number generator, simulate the positioning of the three fish. \n",
    "\n",
    "Use the following character for a fish: \n",
    "\n",
    "<center>\n",
    "\n",
    "|Character|ASCII code(decimal)|Represents|\n",
    "|-|-|-|\n",
    "|F| 70| Fish|\n",
    "\n",
    "</center>\n",
    "\n",
    "Write program code to show the pond containing the three fish at a particular instance of time. The program will now only display the pond and fish. \n",
    "\n",
    "### Evidence 36\n",
    "The program code for Task 4.3.<div style=\"text-align: right\">[6]</div>\n",
    "\n",
    "### Evidence 37\n",
    "Screenshot for a single run of the program.<div style=\"text-align: right\">[1]</div>\n",
    "\n",
    "### Task 38\n",
    "The boy has been asked to feed the fish. He cannot see the fish in the pond. He throws a food pellet into the pond which lands inside one of the square metres. If one of the fish is in this square. it eats the food and becomes a happy fish. \n",
    "\n",
    "Use character symbols for the pond‘s grid display as follows: \n",
    "\n",
    "<center>\n",
    "\n",
    "|Character|ASCII code(decimal)|Represents|\n",
    "|-|-|-|\n",
    "|.| 46| One square meter of water|\n",
    "|P| 80| Pellet(if not eaten by one of the fish)|\n",
    "|H| 72| Happy(fed) fish|\n",
    "|F| 70| Fish|\n",
    "\n",
    "</center>\n",
    "\n",
    "\n",
    "Write program code to simulate the boy throwing one food pellet into the pond. The user will input an x-coordinate and y-coordinate for the food pellet position. You should consider the possible reuse of any code from Tasks 4.2 and 4.3.\n",
    "\n",
    "### Evidence 39\n",
    "The program code.<div style=\"text-align: right\">[6]</div>\n",
    "\n",
    "### Evidence 40\n",
    "Screenshot evidence similar to that shown which shows: \n",
    "- one throw which did not feed a fish \n",
    "    ```\n",
    "        X coordinate <1 to 15>? 2 \n",
    "        Y coordinate <1 to 8>? 5 \n",
    "\n",
    "        . . . . . . . . . . . . . . . \n",
    "        . . . . . . . . . . . . . . .\n",
    "        . . . . . . . . F . . . . . .\n",
    "        . . . . . . . . . . . . . . .\n",
    "        . P . . . . . . . . F . . . .\n",
    "        . . . . . . . . . . . . . . .\n",
    "        . . . . F . . . . . . . . . .\n",
    "        . . . . . . . . . . . . . . .\n",
    "        \n",
    "    ```\n",
    "    <br>\n",
    "- a second throw where a fish was fed \n",
    "    ```\n",
    "        X coordinate <1 to 15>? 1 \n",
    "        Y coordinate <1 to 8>? 5 \n",
    "\n",
    "        . . . . . . . . . . . . . . . \n",
    "        . . . . . . . . . . . . . . .\n",
    "        . . . . . . . . . . . . . . F\n",
    "        . . . . . . . . . . . . . . .\n",
    "        H . . . . . . . . . . . . . .\n",
    "        . . . . . . . . . . . . . . .\n",
    "        . . . . . . . F . . . . . . .\n",
    "        . . . . . . . . . . . . . . .\n",
    "    ```\n",
    "<div style=\"text-align: right\">[3]</div>"
   ]
  },
  {
   "cell_type": "code",
   "execution_count": null,
   "metadata": {},
   "outputs": [],
   "source": [
    "#YOUR_CODE_HERE"
   ]
  }
 ],
 "metadata": {
  "kernelspec": {
   "display_name": "Python 3.10.2 64-bit",
   "language": "python",
   "name": "python3"
  },
  "language_info": {
   "name": "python",
   "version": "3.10.2 (tags/v3.10.2:a58ebcc, Jan 17 2022, 14:12:15) [MSC v.1929 64 bit (AMD64)]"
  },
  "orig_nbformat": 4,
  "vscode": {
   "interpreter": {
    "hash": "a42ccb73e7d9bfdf27e036f1d2b8b681e55fc0743cc5586bc2474d4a60f4b886"
   }
  }
 },
 "nbformat": 4,
 "nbformat_minor": 2
}
