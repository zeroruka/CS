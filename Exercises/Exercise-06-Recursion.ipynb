{
 "cells": [
  {
   "attachments": {},
   "cell_type": "markdown",
   "metadata": {},
   "source": [
    "# Exercise 6\n",
    "\n",
    "Related Notes:\n",
    "- Chapter_04_Functions\n",
    "\n",
    "For each question, you are to implement both :\n",
    "- an **iterative version**, and \n",
    "- a **recursive version** \n",
    "of the function specified.\n",
    "\n",
    "Please decide on your own function name.\n",
    "\n",
    "[![Open In Colab](https://colab.research.google.com/assets/colab-badge.svg)](https://colab.research.google.com/github/njc-cz2-2021/Materials/blob/main/Exercises/Exercise-06-Recursion.ipynb) "
   ]
  },
  {
   "cell_type": "markdown",
   "metadata": {},
   "source": [
    "## Exercise 6.1 \n",
    "\n",
    "Write a function that takes in a positive integer $n$, and prints the numbers from $n$ to $0$ (in descending order).\n",
    "Example interaction: \n",
    "\n",
    ">```\n",
    ">your_function(3)\n",
    ">3\n",
    ">2\n",
    ">1\n",
    ">0\n",
    ">```"
   ]
  },
  {
   "cell_type": "code",
   "execution_count": 2,
   "metadata": {},
   "outputs": [
    {
     "name": "stdout",
     "output_type": "stream",
     "text": [
      "10\n",
      "9\n",
      "8\n",
      "7\n",
      "6\n",
      "5\n",
      "4\n",
      "3\n",
      "2\n",
      "1\n",
      "0\n"
     ]
    }
   ],
   "source": [
    "def print_down(n):\n",
    "    if n == 0:\n",
    "        print(n)\n",
    "    else:\n",
    "        print(n)\n",
    "        print_down(n-1)\n",
    "\n",
    "print_down(10)"
   ]
  },
  {
   "cell_type": "markdown",
   "metadata": {},
   "source": [
    "## Exercise 6.2 \n",
    "\n",
    "Without using the `**` operator, write a function that takes in 2 inputs: \n",
    "1. a base, $x$, and \n",
    "2. an exponent $n$, and \n",
    "then returns the value $x^n$. You may not import the `math` module, and you may not use the built-in `pow()` function.\n",
    "\n",
    ">```\n",
    ">your_function(3,2)\n",
    ">9\n",
    ">```"
   ]
  },
  {
   "cell_type": "code",
   "execution_count": 5,
   "metadata": {},
   "outputs": [
    {
     "data": {
      "text/plain": "64"
     },
     "execution_count": 5,
     "metadata": {},
     "output_type": "execute_result"
    }
   ],
   "source": [
    "def power(x, n):\n",
    "    if n == 0:\n",
    "        return 1\n",
    "    else:\n",
    "        return x * power(x, n-1)\n",
    "\n",
    "power(2, 6)"
   ]
  },
  {
   "cell_type": "markdown",
   "metadata": {},
   "source": [
    "## Exercise 6.3\n",
    "\n",
    "Write a function that takes in a positive integer $n$, and returns the number of digits in $n$. You may not use the built-in `str()` function.\n",
    "\n",
    ">```\n",
    ">your_function(`12345678910`)\n",
    ">11\n",
    ">```"
   ]
  },
  {
   "cell_type": "code",
   "execution_count": 10,
   "metadata": {},
   "outputs": [
    {
     "data": {
      "text/plain": "11"
     },
     "execution_count": 10,
     "metadata": {},
     "output_type": "execute_result"
    }
   ],
   "source": [
    "n = \"12345678910\"\n",
    "\n",
    "def return_digits(n):\n",
    "    if n == \"\":\n",
    "        return 0\n",
    "    else:\n",
    "        return 1 + return_digits(n[1:])\n",
    "\n",
    "return_digits(n)\n"
   ]
  },
  {
   "cell_type": "markdown",
   "metadata": {},
   "source": [
    "## Exercise 6.4\n",
    "\n",
    "Write a function that takes in a string, `s`, and returns a reversed copy of `s`. The only string operation you are allowed to use is string concatenation.\n",
    "\n",
    ">```\n",
    ">your_function(`CJN`)\n",
    ">NJC\n",
    ">```"
   ]
  },
  {
   "cell_type": "code",
   "execution_count": 11,
   "metadata": {},
   "outputs": [
    {
     "data": {
      "text/plain": "'NJC'"
     },
     "execution_count": 11,
     "metadata": {},
     "output_type": "execute_result"
    }
   ],
   "source": [
    "def reverse_str(s):\n",
    "    if s == \"\":\n",
    "        return \"\"\n",
    "    else:\n",
    "        return s[-1] + reverse_str(s[:-1])\n",
    "\n",
    "reverse_str(\"CJN\")"
   ]
  },
  {
   "cell_type": "markdown",
   "metadata": {},
   "source": [
    "## Exercise 6.5\n",
    "\n",
    "Write a function that takes in a list of integers and returns the sum of the integers in that list. You may not import the `math` module, and you may not use the `sum()` built-in function.\n",
    "\n",
    ">```\n",
    ">your_function([1,2,3])\n",
    ">6\n",
    ">```"
   ]
  },
  {
   "cell_type": "code",
   "execution_count": 14,
   "metadata": {},
   "outputs": [
    {
     "data": {
      "text/plain": "12"
     },
     "execution_count": 14,
     "metadata": {},
     "output_type": "execute_result"
    }
   ],
   "source": [
    "def add_list(l):\n",
    "    if not l:\n",
    "        return 0\n",
    "    else:\n",
    "        return l[0] + add_list(l[1:])\n",
    "\n",
    "add_list([1,2,3,6])"
   ]
  },
  {
   "cell_type": "markdown",
   "metadata": {},
   "source": [
    "## Exercise 6.6\n",
    "\n",
    "Write a function that takes in a list of real numbers and returns the mean of all the values in the list. You may not import the math module, and you may not use the `sum()` built-in function.\n",
    "\n",
    ">```\n",
    ">your_function([1,2,3])\n",
    ">2\n",
    ">```"
   ]
  },
  {
   "cell_type": "code",
   "execution_count": 15,
   "metadata": {},
   "outputs": [
    {
     "data": {
      "text/plain": "3.0"
     },
     "execution_count": 15,
     "metadata": {},
     "output_type": "execute_result"
    }
   ],
   "source": [
    "def mean_list(l):\n",
    "    if not l:\n",
    "        return 0\n",
    "    else:\n",
    "        return l[0] + mean_list(l[1:])\n",
    "\n",
    "mean_list([1,2,3,6]) / len([1,2,3,6])"
   ]
  },
  {
   "cell_type": "markdown",
   "metadata": {},
   "source": [
    "## Exercise 6.7\n",
    "\n",
    "Write a function that takes in a list of real numbers and returns the minimum value from that list. You may not use the built-in `min()` and `sorted()` functions, and you may not use the `list.sort()` method.\n",
    "\n",
    ">```\n",
    ">your_function([1,2,3])\n",
    ">1\n",
    ">```"
   ]
  },
  {
   "cell_type": "code",
   "execution_count": 16,
   "metadata": {},
   "outputs": [
    {
     "data": {
      "text/plain": "1"
     },
     "execution_count": 16,
     "metadata": {},
     "output_type": "execute_result"
    }
   ],
   "source": [
    "def min_list(l):\n",
    "    if len(l) == 1:\n",
    "        return l[0]\n",
    "    else:\n",
    "        return min(l[0], min_list(l[1:]))\n",
    "\n",
    "min_list([1,2,3,6])"
   ]
  }
 ],
 "metadata": {
  "kernelspec": {
   "display_name": "Python 3",
   "language": "python",
   "name": "python3"
  },
  "language_info": {
   "codemirror_mode": {
    "name": "ipython",
    "version": 3
   },
   "file_extension": ".py",
   "mimetype": "text/x-python",
   "name": "python",
   "nbconvert_exporter": "python",
   "pygments_lexer": "ipython3",
   "version": "3.10.2 (tags/v3.10.2:a58ebcc, Jan 17 2022, 14:12:15) [MSC v.1929 64 bit (AMD64)]"
  },
  "orig_nbformat": 2,
  "vscode": {
   "interpreter": {
    "hash": "a42ccb73e7d9bfdf27e036f1d2b8b681e55fc0743cc5586bc2474d4a60f4b886"
   }
  }
 },
 "nbformat": 4,
 "nbformat_minor": 2
}
