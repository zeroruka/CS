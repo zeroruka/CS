{
 "cells": [
  {
   "attachments": {},
   "cell_type": "markdown",
   "metadata": {},
   "source": [
    "# Exercise 6\n",
    "\n",
    "Related Notes:\n",
    "- Chapter_04_Functions\n",
    "\n",
    "For each question, you are to implement both :\n",
    "- an **iterative version**, and \n",
    "- a **recursive version** \n",
    "of the function specified.\n",
    "\n",
    "Please decide on your own function name.\n",
    "\n",
    "[![Open In Colab](https://colab.research.google.com/assets/colab-badge.svg)](https://colab.research.google.com/github/njc-cz2-2021/Materials/blob/main/Exercises/Exercise-06-Recursion.ipynb) "
   ]
  },
  {
   "cell_type": "markdown",
   "metadata": {},
   "source": [
    "## Exercise 6.1 \n",
    "\n",
    "Write a function that takes in a positive integer $n$, and prints the numbers from $n$ to $0$ (in descending order).\n",
    "Example interaction: \n",
    "\n",
    ">```\n",
    ">your_function(3)\n",
    ">3\n",
    ">2\n",
    ">1\n",
    ">0\n",
    ">```"
   ]
  },
  {
   "cell_type": "code",
   "execution_count": null,
   "metadata": {},
   "outputs": [],
   "source": [
    "#YOUR CODE HERE"
   ]
  },
  {
   "attachments": {},
   "cell_type": "markdown",
   "metadata": {},
   "source": [
    "## Exercise 6.2 \n",
    "\n",
    "Without using the `**` operator, write a function that takes in 2 inputs: \n",
    "1. a base integer, $x$, and \n",
    "2. an integer exponent $n$, and \n",
    "then returns the value $x^n$. You may not import the `math` module, and you may not use the built-in `pow()` function.\n",
    "\n",
    ">```\n",
    ">your_function(3,2)\n",
    ">9\n",
    ">```"
   ]
  },
  {
   "cell_type": "code",
   "execution_count": null,
   "metadata": {},
   "outputs": [],
   "source": [
    "#YOUR CODE HERE"
   ]
  },
  {
   "cell_type": "markdown",
   "metadata": {},
   "source": [
    "## Exercise 6.3\n",
    "\n",
    "Write a function that takes in a positive integer $n$, and returns the number of digits in $n$. You may not use the built-in `str()` function.\n",
    "\n",
    ">```\n",
    ">your_function(`12345678910`)\n",
    ">11\n",
    ">```"
   ]
  },
  {
   "cell_type": "code",
   "execution_count": null,
   "metadata": {},
   "outputs": [],
   "source": [
    "#YOUR CODE HERE"
   ]
  },
  {
   "cell_type": "markdown",
   "metadata": {},
   "source": [
    "## Exercise 6.4\n",
    "\n",
    "Write a function that takes in a string, `s`, and returns a reversed copy of `s`. The only string operation you are allowed to use is string concatenation.\n",
    "\n",
    ">```\n",
    ">your_function(`CJN`)\n",
    ">NJC\n",
    ">```"
   ]
  },
  {
   "cell_type": "code",
   "execution_count": null,
   "metadata": {},
   "outputs": [],
   "source": [
    "#YOUR CODE HERE"
   ]
  },
  {
   "cell_type": "markdown",
   "metadata": {},
   "source": [
    "## Exercise 6.5\n",
    "\n",
    "Write a function that takes in a list of integers and returns the sum of the integers in that list. You may not import the `math` module, and you may not use the `sum()` built-in function.\n",
    "\n",
    ">```\n",
    ">your_function([1,2,3])\n",
    ">6\n",
    ">```"
   ]
  },
  {
   "cell_type": "code",
   "execution_count": null,
   "metadata": {},
   "outputs": [],
   "source": [
    "#YOUR CODE HERE"
   ]
  },
  {
   "cell_type": "markdown",
   "metadata": {},
   "source": [
    "## Exercise 6.6\n",
    "\n",
    "Write a function that takes in a list of real numbers and returns the mean of all the values in the list. You may not import the math module, and you may not use the `sum()` built-in function.\n",
    "\n",
    ">```\n",
    ">your_function([1,2,3])\n",
    ">2\n",
    ">```"
   ]
  },
  {
   "cell_type": "code",
   "execution_count": null,
   "metadata": {},
   "outputs": [],
   "source": [
    "#YOUR CODE HERE"
   ]
  },
  {
   "cell_type": "markdown",
   "metadata": {},
   "source": [
    "## Exercise 6.7\n",
    "\n",
    "Write a function that takes in a list of real numbers and returns the minimum value from that list. You may not use the built-in `min()` and `sorted()` functions, and you may not use the `list.sort()` method.\n",
    "\n",
    ">```\n",
    ">your_function([1,2,3])\n",
    ">1\n",
    ">```"
   ]
  },
  {
   "cell_type": "code",
   "execution_count": null,
   "metadata": {},
   "outputs": [],
   "source": [
    "#YOUR CODE HERE"
   ]
  }
 ],
 "metadata": {
  "kernelspec": {
   "display_name": "Python 3",
   "language": "python",
   "name": "python3"
  },
  "language_info": {
   "codemirror_mode": {
    "name": "ipython",
    "version": 3
   },
   "file_extension": ".py",
   "mimetype": "text/x-python",
   "name": "python",
   "nbconvert_exporter": "python",
   "pygments_lexer": "ipython3",
   "version": "3.10.2 (tags/v3.10.2:a58ebcc, Jan 17 2022, 14:12:15) [MSC v.1929 64 bit (AMD64)]"
  },
  "orig_nbformat": 2,
  "vscode": {
   "interpreter": {
    "hash": "a42ccb73e7d9bfdf27e036f1d2b8b681e55fc0743cc5586bc2474d4a60f4b886"
   }
  }
 },
 "nbformat": 4,
 "nbformat_minor": 2
}
