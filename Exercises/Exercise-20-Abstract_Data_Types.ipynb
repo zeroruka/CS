{
 "cells": [
  {
   "attachments": {},
   "cell_type": "markdown",
   "metadata": {},
   "source": [
    "# Exercise 20\n",
    "\n",
    "Related Notes:\n",
    "- Fundamentals_14-Abstract_Data_Types"
   ]
  },
  {
   "cell_type": "markdown",
   "metadata": {},
   "source": [
    "## Exercise 20.1 2019/A Level/P1/Q4 H2 Computing\n",
    "\n",
    "A stack is used to store characters.\n",
    "\n",
    "### Task 1\n",
    "Write program code to implement the stack and the operations specified.\n",
    "Your code should allow operations to: \n",
    "- push an item on to the stack\n",
    "- pop an item off the stack\n",
    "- determine the size of the stack. A size of zero indicates that the stack is empty.\n",
    "\n",
    "### Evidence 2\n",
    "\n",
    "Your program code for the stack.    \n",
    "<div style=\"text-align: right\">[10]</div>"
   ]
  },
  {
   "cell_type": "code",
   "execution_count": 1,
   "metadata": {},
   "outputs": [],
   "source": [
    "#YOUR_CODE_HERE"
   ]
  },
  {
   "cell_type": "markdown",
   "metadata": {},
   "source": [
    "The stack is to be used to identify it an arithmetic expression is balanced. \n",
    "\n",
    "An expression is balanced if each opening bracket has a corresponding closing bracket. \n",
    "\n",
    "Different pairs of brackets can be used. These are: [], () or {}. \n",
    "\n",
    "This is an example of an expression that is balanced.\n",
    "\n",
    "  `([8-1]/(5*7))` \n",
    "\n",
    "This is an example of an expression that is not balanced. \n",
    "\n",
    "  `[(8-1]/(5*7))` \n",
    "\n",
    "Note the change in the order of the first two open bracket symbols. The first closing bracket should be a closing bracket ')' to match the previous opening bracket ‘('. \n",
    "\n",
    "Note that an expression is not balanced if the order of the brackets is incorrect, even if there are the same number of opening and closing brackets of each bracket type. \n",
    "\n",
    "An expression is checked by iterating over it: \n",
    "\n",
    "- if a non-bracket symbol is found, continue to the next character. \n",
    "- If an opening symbol is found, push it on to the stack and continue to the next character. \n",
    "- If a closing bracket is encountered: \n",
    "    * If the stack is empty, return an error (because there is no corresponding opening bracket) \n",
    "    * else pop the symbol from the top of the stack and compare it to the current closing symbol to see if they make a matching pair \n",
    "    * If they do match continue to the next character\n",
    "    * else return an error (pairs of brackets must match).   \n",
    "- When the last symbol is encountered: \n",
    "    – return an error if the stack is not empty (too many opening symbols)\n",
    "    – else return a success message."
   ]
  },
  {
   "cell_type": "markdown",
   "metadata": {},
   "source": [
    "### Task 3\n",
    "\n",
    "Add five other suitable test cases and a reason for choosing each test case.\n",
    "\n",
    "<center>\n",
    "\n",
    "| Test case | Reason for choice | Expected value |\n",
    "|-|-|-|\n",
    "| `([8-1]/(5*7))` | Provided | Succeeds |\n",
    "| `[(8-1]/(5*7))` | Provided | Fails |\n",
    "|  |  | Succeeds |\n",
    "|  |  | Succeeds |\n",
    "|  |  | Fails |\n",
    "|  |  | Fails |\n",
    "|  |  | Fails |\n",
    "\n",
    "</center>\n",
    "\n",
    "### Evidence 4\n",
    "\n",
    "The completed table with all seven test cases and a reason for choosing each test case.\n",
    "<div style=\"text-align: right\">[6]</div>"
   ]
  },
  {
   "cell_type": "code",
   "execution_count": null,
   "metadata": {},
   "outputs": [],
   "source": [
    "#YOUR_CODE_HERE"
   ]
  },
  {
   "cell_type": "markdown",
   "metadata": {},
   "source": [
    "### Task 5\n",
    "Write program code that checks expressions using the given algorithm. \n",
    "Use all **seven** test cases to verify It.\n",
    "\n",
    "### Evidence 6\n",
    "\n",
    "Your program code for the stack.\n",
    "Screenshots for each test data run.   \n",
    "<div style=\"text-align: right\">[19]</div> "
   ]
  },
  {
   "cell_type": "code",
   "execution_count": null,
   "metadata": {},
   "outputs": [],
   "source": [
    "#YOUR ANSWER HERE"
   ]
  },
  {
   "cell_type": "markdown",
   "metadata": {},
   "source": [
    "## Exercise 20.2 2015/A Level/P2/Q4 H2 Computing\n",
    "\n",
    "Users of a local area network each have a network account ID. The IDs have the format 2015_NNNN, where N is a digit.\n",
    "\n",
    "### Task 7\n",
    "Complete the test case table with the addition of three more invalid User IDs. The reasons for their invalidity should be different.\n",
    "The return value is a code as follows:\n",
    "    - 0 — valid User ID\n",
    "    - 1 — the User ID was not 9 characters\n",
    "    - you will use other integer numbers for other invalid cases.\n",
    "\n",
    "<center>\n",
    "    \n",
    "| Test Number | User ID   | Return Value | Explanation of the test case |\n",
    "|-------------|-----------|--------------|------------------------------|\n",
    "| 1           | 2015_0987 | 0            | Valid User ID                |\n",
    "| 2           |           |              |                              |\n",
    "| 3           |           |              |                              |\n",
    "| 4           |           |              |                              |\n",
    "\n",
    "</center>\n",
    "\n",
    "### Evidence 8\n",
    "- The completed test case table. <div style=\"text-align: right\">[6]</div> "
   ]
  },
  {
   "cell_type": "code",
   "execution_count": null,
   "metadata": {},
   "outputs": [],
   "source": [
    "#YOUR ANSWER HERE"
   ]
  },
  {
   "cell_type": "markdown",
   "metadata": {},
   "source": [
    "### Task 9\n",
    "Write program code for a function to validate a User ID. The function header has the format:\n",
    "\n",
    ">```\n",
    ">FUNCTION ValidateUserID (ThisUserID : STRING) RETURNS INTEGER\n",
    ">```\n",
    "\n",
    "Write a program to:\n",
    "- Input an ID entered by the user\n",
    "- Validate the input using the function `ValidateUserID`\n",
    "- Output a message describing the validity of the input.\n",
    "\n",
    "### Evidence 10\n",
    "- Program code for the function `ValidateUserID`. <div style=\"text-align: right\">[4]</div> \n",
    "- **Three** screenshots showing the testing of Test Numbers 2, 3, and 4. <div style=\"text-align: right\">[3]</div> "
   ]
  },
  {
   "cell_type": "code",
   "execution_count": null,
   "metadata": {},
   "outputs": [],
   "source": [
    "#YOUR ANSWER HERE"
   ]
  },
  {
   "cell_type": "markdown",
   "metadata": {},
   "source": [
    "You are to design an object-oriented program which simulates a print queue for a printer on a local area network (LAN). The print queue consists at any time of none, one, or more print jobs.\n",
    "\n",
    "Each user can send a print job from any of the terminals on the LAN. Each terminal on the network is identified by an integer number in the range 1 to 172.\n",
    "\n",
    "The program you are to design will record for each print job:\n",
    "- the user ID\n",
    "- the terminal number from which the print request was sent\n",
    "- the file size (integer in Kbytes).\n",
    "\n",
    "In practice, there are several print queues each associated with a different printer. Each printer is identified by a short name, such as `Room16`.\n",
    "\n",
    "### Task 11\n",
    "Design and write program code to define one or more classes and other appropriate data structures for this application.\n",
    "\n",
    "### Evidence 12\n",
    "- Program code for the class(es). <div style=\"text-align: right\">[6]</div> "
   ]
  },
  {
   "cell_type": "code",
   "execution_count": null,
   "metadata": {},
   "outputs": [],
   "source": [
    "#YOUR ANSWER HERE"
   ]
  },
  {
   "cell_type": "markdown",
   "metadata": {},
   "source": [
    "A print queue behaves as a queue data structure.\n",
    "\n",
    "Assume, for testing purposes:\n",
    "- there is a single printer on the LAN\n",
    "- the maximum print queue size for the printer is five print jobs.\n",
    "\n",
    "The main program will simulate:\n",
    "- the sending of print jobs to the printer by different users\n",
    "    - that is, the addition of a print job to the print queue\n",
    "- the output of a job from the print queue\n",
    "    -that is, the removal of a print job from the print queue\n",
    "\n",
    "The program design has the following menu:\n",
    "<center>\n",
    "\n",
    "|||\n",
    "|----|------------------------------------|\n",
    "| 1. | New print job added to print queue |\n",
    "| 2. | Next print job output from printer |\n",
    "| 3. | Current print queue displayed      |\n",
    "| 4. | End                                |\n",
    "\n",
    "</center>\n",
    "\n",
    "The program simulates the working of the print queue as follows:\n",
    "1. The empty print queue is initialised.\n",
    "2. The program user selects menu options 1, 2 and 3 in any order.\n",
    "3. The program user selects menu option 4.\n",
    "\n",
    "### Task 13\n",
    "Write program code to:\n",
    "- display the main menu\n",
    "- input the choice by the user\n",
    "- run the appropriate code for the choice made.\n",
    "\n",
    "### Evidence 14\n",
    "- The program code. <div style=\"text-align: right\">[3]</div> "
   ]
  },
  {
   "cell_type": "code",
   "execution_count": null,
   "metadata": {},
   "outputs": [],
   "source": [
    "#YOUR ANSWER HERE"
   ]
  },
  {
   "cell_type": "markdown",
   "metadata": {},
   "source": [
    "### Task 15\n",
    "\n",
    "Write program code to initialise the print queue for the `Room16` printer.\n",
    "\n",
    "Write program code to display the current state of the print queue.\n",
    "\n",
    "### Evidence 16\n",
    "The program code for:\n",
    "- initialising the print queue\n",
    "- output of the current print queue. <div style=\"text-align: right\">[6]</div> "
   ]
  },
  {
   "cell_type": "code",
   "execution_count": null,
   "metadata": {},
   "outputs": [],
   "source": [
    "#YOUR ANSWER HERE"
   ]
  },
  {
   "cell_type": "markdown",
   "metadata": {},
   "source": [
    "### Task 17\n",
    "\n",
    "Write program code to add a new print job to the print queue.\n",
    "\n",
    "The requirement will be:\n",
    "- program user enters data for the new print job\n",
    "- print job is added to the print queue.\n",
    "\n",
    "Test the code by adding one new print job.\n",
    "\n",
    "### Evidence 18\n",
    "- Program code to add a new print job.\n",
    "- Screenshot following menu option 1 then menu option 3. <div style=\"text-align: right\">[4]</div> "
   ]
  },
  {
   "cell_type": "code",
   "execution_count": null,
   "metadata": {},
   "outputs": [],
   "source": [
    "#YOUR ANSWER HERE"
   ]
  },
  {
   "cell_type": "markdown",
   "metadata": {},
   "source": [
    "### Task 19\n",
    "Write program code to output the next print job from the printer.\n",
    "This code will execute from menu option 2.\n",
    "\n",
    "Test the code by:\n",
    "- adding three print jobs\n",
    "- outputting the next print job.\n",
    "\n",
    "### Evidence 20\n",
    "- Program code to output next print job.\n",
    "- Screenshot following menu option 1 three times, then menu option 2, and menu option 3. <div style=\"text-align: right\">[6]</div> "
   ]
  },
  {
   "cell_type": "code",
   "execution_count": null,
   "metadata": {},
   "outputs": [],
   "source": [
    "#YOUR ANSWER HERE"
   ]
  },
  {
   "cell_type": "markdown",
   "metadata": {},
   "source": [
    "## Exercise 20.3 2015/A Level/P1/Q3 H2 Computing\n",
    "\n",
    "A simple queue data structure is implemented using a one-dimensional array and two pointers, `Head` and `Tail`, as shown:\n",
    "\n",
    "<center>\n",
    "\n",
    "|    | Queue |         |\n",
    "|----|-------|---------|\n",
    "| 1  | Mac   |         |\n",
    "| 2  | Ben   | <- Head |\n",
    "| 3  | Dog   |         |\n",
    "| 4  | Can   |         |\n",
    "| 5  | Yog   |         |\n",
    "| 6  | Hur   |         |\n",
    "| 7  |       | <- Tail |\n",
    "| 8  |       |         |\n",
    "| 9  |       |         |\n",
    "| 10 |       |         |\n",
    "\n",
    "</center>\n",
    "\n",
    "- **(a)** Show the state of the above queue after:\n",
    "    - two items, Dap and Eck, are added (in that order)\n",
    "    - one item is removed. \n",
    "    <div style=\"text-align: right\">[3]</div>\n",
    "When ten items have been added, this simple queue cannot accept any further items.\n",
    "\n",
    "- **(b)** A first attempt at an algorithm for adding an item to this queue is:\n",
    "\n",
    ">```python\n",
    "> 01 IF ................................\n",
    "> 02 THEN\n",
    "> 03 OUTPUT \"No more room to add items\"\n",
    "> 04 ELSE : '\n",
    "> 05    INPUT \"New item to be added\", NewItem\n",
    "> 06    Queue[..................] <- NewItem\n",
    "> O7    ....................................\n",
    "> 08 ENDIF\n",
    ">```\n",
    "Write the pseudocode to show the completed lines 01, 06, and 07. <div style=\"text-align: right\">[3]</div>\n",
    "\n",
    "- **(c)** Give the initial value for Tail when the queue is created and justify your answer. <div style=\"text-align: right\">[2]</div>\n",
    "\n",
    "The programmer can reuse the space released after removing an item. This maximises the available space.\n",
    "\n",
    "- **(d)** Describe how the algorithm for adding an item should be amended so that the released space\n",
    "is made available. <div style=\"text-align: right\">[2]</div>"
   ]
  },
  {
   "cell_type": "code",
   "execution_count": null,
   "metadata": {},
   "outputs": [],
   "source": [
    "#YOUR ANSWER HERE"
   ]
  },
  {
   "cell_type": "markdown",
   "metadata": {},
   "source": [
    "## Exercise 20.4 2021/A Level/P2/Q3 H2 Computing\n",
    "\n",
    "A programmer is writing a class, `LinkedList`, to represent a linked list of unique integers. A linked list is a collection of data elements. whose order is not given by their physical placement in\n",
    "memory. Instead, each element points to the next.\n",
    "\n",
    "### Task 21\n",
    "\n",
    "Write the Linkedlist class in Python. Use of a simple Python list is not sufficient. Include the following methods:\n",
    "- `insert(integer_value)` inserts the `integer_value` at the beginning (head) of the list\n",
    "- `delete(integer_value)` attempts to delete `integer_value` from the list; if the item was not present, return `None`\n",
    "- `search(integer_value)` returns a Boolean value: `True` if `integer_value` is in the list, `False` if not in the list\n",
    "- `count()` should return the number of elements in the list, or zero if empty\n",
    "- `to_String(i)` should return a string containing a suitably formatted list with the elements separated by a comma and a space, with square brackets at either end, e.g. in the form: \n",
    "    `[11, 2, 7, 4]`\n",
    "\n",
    "<div style=\"text-align: right\">[8]</div> \n",
    "\n",
    "Test `LinkedList` by using the data in the file `Task3data.txt`. Use the `to_String()` method to print the resulting contents of the list.\n",
    "\n",
    "<div style=\"text-align: right\">[3]</div>"
   ]
  },
  {
   "cell_type": "code",
   "execution_count": null,
   "metadata": {},
   "outputs": [],
   "source": [
    "#YOUR ANSWER HERE"
   ]
  },
  {
   "cell_type": "markdown",
   "metadata": {},
   "source": [
    "### Task 22\n",
    "\n",
    "Write a Python subclass `SortedLinkedList` using `LinkedList` as its superclass.\n",
    "\n",
    "The insert method in the `SortedLinkedList` subclass should ensure that the elements are stored in ascending order. \n",
    "\n",
    "<div style=\"text-align: right\">[5]</div> \n",
    "\n",
    "Test `SortedLinkedList` by using the data in the file `Task3data.txt`. Use the `to_String()` method to print the resulting contents of the list.\n",
    "\n",
    "Print the result of searching the `SortedLinkedList` for the value 94. \n",
    "\n",
    "<div style=\"text-align: right\">[2]</div> "
   ]
  },
  {
   "cell_type": "code",
   "execution_count": null,
   "metadata": {},
   "outputs": [],
   "source": [
    "#YOUR ANSWER HERE"
   ]
  },
  {
   "cell_type": "markdown",
   "metadata": {},
   "source": [
    "### Task 23\n",
    "Write a Python subclass `Queue` using `LinkedList` as its superclass.\n",
    "\n",
    "Additional `enqueue` and `dequeue` methods are to be defined on the `Queue` class:\n",
    "- `enqueue(integer_value)` will insert `integer_value` to the end of the queue\n",
    "- `dequeue()` will return the first element in the queue. If the queue is empty, return `None`. \n",
    "\n",
    "<div style=\"text-align: right\">[5]</div> \n",
    "\n",
    "Test `Queue` by using the data in the file Task3data.txt. Print the first five elements to be dequeued from the list.\n",
    "\n",
    "<div style=\"text-align: right\">[1]</div> "
   ]
  },
  {
   "cell_type": "code",
   "execution_count": null,
   "metadata": {},
   "outputs": [],
   "source": [
    "#YOUR ANSWER HERE"
   ]
  },
  {
   "cell_type": "markdown",
   "metadata": {},
   "source": [
    "## Exercise 20.5 2014/A Level/P1/Q3 H2 Computing\n",
    "\n",
    "A program is to be written to represent and implement a linked list of nodes. Each node contains a string data value and a pointer. The pointers link the data items in alphabetical order. \n",
    "\n",
    "The unused nodes are linked as shown below. The first unused node is the position where the next new data item is to be stored. \n",
    "\n",
    "<center>\n",
    "<img src=\"./img/linkedlist1.png\" width=\"250\" align=\"center\"/>\n",
    "</center>\n",
    "\n",
    "The diagram shows the linked list with: \n",
    "- the items MANGO, ORANGE, BANANA and LEMON (added in that order). \n",
    "- the unused nodes linked together.\n",
    "\n",
    "Each node is implemented as an instance of the class `ListNode`. The class ListNode has the following properties: \n",
    "\n",
    "<center>\n",
    "\n",
    "|  | Class: ListNode |  |\n",
    "|-|-|-|\n",
    "| Properties |  |  |\n",
    "| Identifier | Data Type | Description |\n",
    "| `DataValue` | `STRING` | The node data |\n",
    "| `PointerValue` | `INTEGER` | The node pointer |\n",
    "\n",
    "</center>\n",
    "\n",
    "A linked list is implemented as an instance of the class `LinkedList`. The class `LinkedList` has the following properties and methods: \n",
    "\n",
    "<center>\n",
    "\n",
    "|  | Class: LinkedList |  |\n",
    "|-|-|-|\n",
    "| Properties |  |  |\n",
    "| Identifier | Data Type | Description |\n",
    "| Node | `ARRAY[30] OF ListNode` | The linked list data structure — data values and pointers.The array index starts at 1.For testing purposes the dataset has a maximum of 30 items. |\n",
    "| `Start` | `INTEGER` | Index position of the node at the start of the linked list |\n",
    "| `NextFree` | `INTEGER` | Index position of the next unused node  |\n",
    "| Methods |  |  |\n",
    "| `Initialise` | `Procedure` | Sets all the node data values to ‘empty string’. Set pointers to indicate all nodes are unused and linked. lnitialise values for `Start` and `NextFree`.  |\n",
    "| `AddNode` | `Procedure` | Add a new data item to the linked list.  |\n",
    "| `Traversal` | `Procedure` | Display the data items in order.  |\n",
    "| `ReverseTraversal` | `Procedure` | Display the data items in reverse order. |\n",
    "| `DisplayLinkedList` | `Procedure` | Display the current state of pointers and the array contents. |\n",
    "| `IsEmpty` | `FUNCTION RETURNS BOOLEANR` | Tests for empty linked list.  |\n",
    "| `IsFull` | `FUNCTION RETURNS BOOLEAN` | Tests for no unused nodes.  |\n",
    "\n",
    "</center>"
   ]
  },
  {
   "cell_type": "markdown",
   "metadata": {},
   "source": [
    "### Task 24\n",
    "\n",
    "Write program code that repeatedly:\n",
    "\n",
    "- displays a menu with the following choices: \n",
    "    \n",
    "    * Add an item \n",
    "    * Traverse the linked list of used nodes and output the data values \n",
    "    * Output all pointers and data values \n",
    "    * Exit \n",
    "- calls an appropriate procedure depending on the user's choice. \n",
    "\n",
    "### Evidence 25\n",
    "\n",
    "Program code for Task 1.\n",
    "<div style=\"text-align: right\">[5]</div> "
   ]
  },
  {
   "cell_type": "code",
   "execution_count": null,
   "metadata": {},
   "outputs": [],
   "source": [
    "#YOUR_CODE_HERE"
   ]
  },
  {
   "cell_type": "markdown",
   "metadata": {},
   "source": [
    "### Task 26\n",
    "\n",
    "Write program code for the classes `ListNode` and `LinkedList` including the `IsEmpty` method. The code should follow the specification given. \n",
    "Do not attempt to write the methods `AddNode`, `Traversal`, `ReverseTraversal` or `IsFull` at this stage. \n",
    "\n",
    "### Evidence 27\n",
    "\n",
    "Program code for the `ListNode` and `LinkedList` classes (Task 2).\n",
    "<div style=\"text-align: right\">[12]</div> \n",
    "\n"
   ]
  },
  {
   "cell_type": "code",
   "execution_count": null,
   "metadata": {},
   "outputs": [],
   "source": [
    "#YOUR_CODE_HERE"
   ]
  },
  {
   "cell_type": "markdown",
   "metadata": {},
   "source": [
    "### Task 28\n",
    "\n",
    "Write code to create a `LinkedList` object in the main program.\n",
    "\n",
    "Run the program and select menu choice 3 to confirm the initial values of the pointers and data values when the linked list is empty. \n",
    "<div style=\"text-align: right\">[10]</div> \n",
    "\n",
    "### Evidence 29\n",
    "\n",
    "Screenshot confirming all values after initialisation of the `LinkedList` object (Task 3.3). \n",
    "<div style=\"text-align: right\">[3]</div> "
   ]
  },
  {
   "cell_type": "code",
   "execution_count": null,
   "metadata": {},
   "outputs": [],
   "source": [
    "#YOUR_CODE_HERE"
   ]
  },
  {
   "cell_type": "markdown",
   "metadata": {},
   "source": [
    "### Task 30\n",
    "\n",
    "Consider the `AddNode` method. The following algorithm will add a new data item to the linked list. \n",
    "\n",
    "<center>\n",
    "\n",
    "| Identifier | Data Type | Description |\n",
    "|-|-|-|\n",
    "| `NewItem` | `STRING` | New data item input by the user |\n",
    "| `Found` | `BOOLEAN` | Flags to `TRUE` when the position at which to insert the new item has been found |\n",
    "| `Current` | `INTEGER` | Current array index position during list traversal |\n",
    "| `Previous` | `INTEGER` | Previous array index position during list traversal |\n",
    "| `Temp` |  `INTEGER` | Temporary storage of pointer value |\n",
    "\n",
    "</center>\n",
    "\n",
    "The algorithm uses the variables below:\n",
    "\n",
    "\n",
    ">```python \n",
    ">PROCEDURE AddNode \n",
    ">  INPUT NewItem \n",
    ">  Node[NextFree].DataValue <— NewItem \n",
    ">  IF Start = 0 \n",
    ">    THEN \n",
    ">    Start <— NextFree \n",
    ">    Temp <— Node[NextFree].PointerValue \n",
    ">    Node[NextFree].PointerValue <— 0 \n",
    ">    NextFree <— Temp \n",
    ">  ELSE \n",
    ">    // traverse the list - starting at Start to find \n",
    ">    // the position at which to insert the new item \n",
    ">    Temp <— Node[NextFree].PointerValue \n",
    ">    IF NewItem < Node[Start].DataValue \n",
    ">      THEN \n",
    ">        // new item will become the start of the list \n",
    ">        Node[NextFree].PointerValue <— Start \n",
    ">        Start <— NextFree \n",
    ">        NextFree <— Temp \n",
    ">      ELSE \n",
    ">        // the new item is not at the start of the list \n",
    ">        Previous <— 0 \n",
    ">        Current <— Start \n",
    ">        Found <— False \n",
    ">        REPEAT \n",
    ">          IF NewItem <= Node[Current].DataValue \n",
    ">            THEN \n",
    ">              Node[Previous].PointerValue <— NextFree \n",
    ">              Node[NextFree].PointerValue <— Current \n",
    ">              NextFree <— Temp \n",
    ">              Found <— True \n",
    ">            ELSE \n",
    ">              // move on to the next node \n",
    ">              Previous <— Current \n",
    ">              Current <— Node[Current].PointerValue \n",
    ">          ENDIF \n",
    ">        UNTIL Found = True OR Current = 0 \n",
    ">        IF Current <— 0 \n",
    ">          THEN \n",
    ">            Node[Previous].PointerValue <— NextFree \n",
    ">            Node[NextFree].PointerValue <— 0 \n",
    ">            NextFree <— Temp \n",
    ">        ENDIF \n",
    ">    ENDIF \n",
    ">  ENDIF \n",
    ">ENDPROCEDURE \n",
    ">```\n",
    "\n",
    "Note: The above pseudocode is available in the text file `PSEUDOCODE_TASK_3_4.TXT`\n",
    "\n",
    "Write code to implement for the `LinkedList` class: \n",
    "\n",
    "- the `AddNode` method \n",
    "- the `IsFull` method. \n",
    "\n",
    "You may use the text file `PSEUDOCODE_TASK_3_4.TXT` as a basis for the writing of your code. \n",
    "\n",
    "The main program should check each time that the `LinkedList` object is not full before using the AddNode method. \n",
    "\n",
    "Run the program as follows: \n",
    "\n",
    "- Menu choice 1 four times, inputting the data values: \n",
    "    **MANGO, ORANGE. BANANA. LEMON**\n",
    "    in that order. \n",
    "\n",
    "- Menu choice 3 to display. \n",
    "\n",
    "### Evidence 31\n",
    "\n",
    "Program code for method `AddNode`.      \n",
    "<div style=\"text-align: right\">[8]</div> \n",
    "\n",
    "### Evidence 32\n",
    "\n",
    "Screenshot showing the pointers and the addition of the four nodes to the linked list.\n",
    "<div style=\"text-align: right\">[3]</div>"
   ]
  },
  {
   "cell_type": "code",
   "execution_count": null,
   "metadata": {},
   "outputs": [],
   "source": [
    "#YOUR_CODE_HERE"
   ]
  },
  {
   "cell_type": "markdown",
   "metadata": {},
   "source": [
    "### Task 33\n",
    "\n",
    "Write program code to implement the `LinkedList` class method `Traversal` by calling the `TraversalInOrder` procedure given below. \n",
    "\n",
    ">```\n",
    ">PROCEDURE TraversalInOrder(Index) \n",
    ">  IF Index <> 0 \n",
    ">    THEN \n",
    ">      OUTPUT Node[lndex].DataValue \n",
    ">      // follow the pointer to the next data item in the linked list \n",
    ">      TraversalInOrder(Node[Index].PointerValue) \n",
    ">  ENDIF\n",
    ">ENDPROCEDURE \n",
    ">```\n",
    "\n",
    "### Evidence 34\n",
    "\n",
    "Program code for procedures `Traversal` and `TraversalInOrder`.      \n",
    "<div style=\"text-align: right\">[2]</div>"
   ]
  },
  {
   "cell_type": "code",
   "execution_count": null,
   "metadata": {},
   "outputs": [],
   "source": [
    "#YOUR_CODE_HERE"
   ]
  },
  {
   "cell_type": "markdown",
   "metadata": {},
   "source": [
    "### Task 35\n",
    "\n",
    "Run the program as follows: \n",
    "\n",
    "- Menu choice 1 four times, inputting the data values: \n",
    "  **MANGO, ORANGE, BANANA. LEMON**\n",
    "  in that order. \n",
    "- Menu choice 2 to display. \n",
    "\n",
    "### Evidence 36\n",
    "\n",
    "Screenshot showing the program execution to test the Traversal method.      \n",
    "<div style=\"text-align: right\">[2]</div>\n"
   ]
  },
  {
   "cell_type": "code",
   "execution_count": null,
   "metadata": {},
   "outputs": [],
   "source": [
    "#YOUR_CODE_HERE"
   ]
  },
  {
   "cell_type": "markdown",
   "metadata": {},
   "source": [
    "### Task 37\n",
    "\n",
    "Make a copy of the `TraversalInOrder` and `Traversal` procedures.\n",
    "Paste to form two new procedures `TraversalInReverseOrder` and `ReverseTraversal`. \n",
    "Make the necessary changes/additions to these procedures in order that the data items are output in reverse order by calling the new method `ReverseTraversal`.\n",
    "Run the program code from a new menu choice 4.\n",
    "Test the method using the four items given in Task 3.6.\n",
    "\n",
    "### Evidence 38\n",
    "Program code for the new procedures.      \n",
    "<div style=\"text-align: right\">[2]</div>\n",
    "\n",
    "### Evidence 39\n",
    "\n",
    "Screenshot showing option 4 selected and the resulting output.      \n",
    "<div style=\"text-align: right\">[1]</div>"
   ]
  },
  {
   "cell_type": "code",
   "execution_count": null,
   "metadata": {},
   "outputs": [],
   "source": [
    "#YOUR_CODE_HERE"
   ]
  },
  {
   "cell_type": "markdown",
   "metadata": {},
   "source": [
    "## Exercise 20.6 2016/A Level/P2/Q5 H2 Computing\n",
    "\n",
    "A programmer implements a linked list of surnames with a start pointer, `StartPtr` and two one- dimensional arrays:\n",
    "\n",
    "- Array `Data` stores the surnames.\n",
    "- Array `Ptr` stores the link pointers.\n",
    "- Both arrays have lower bound 1 and upper bound 3000.\n",
    "\n",
    "The purpose of procedure `InsertListItem` is to insert a new surname to the linked list.\n",
    "Assume a function `NextFree()` is available and returns:\n",
    "- the index position for the array `Data` at which the new surname is to be inserted\n",
    "- -1 when the `Data` array is full.\n",
    "\n",
    "The programmer designs the algorithm as follows:\n",
    "\n",
    ">```\n",
    "> 01 PROCEDURE InsertListItem(NewSurname : STRING)\n",
    "> 02    IF NextFree() = —1\n",
    "> 03        THEN\n",
    "> 04            OUTPUT \"List is full\"\n",
    "> 05        ELSE\n",
    "> 06            // input the surname\n",
    "> 07            IF StartPtr = O\n",
    "> 08                THEN\n",
    "> 09                    StartPtr <- NextFree()\n",
    "> 10                    Data[StartPtr] <- NewSurname\n",
    "> 11                 ELSE\n",
    "> 12            // traverse the linked list to find the position\n",
    "> 13            // at which to insert NewSurname\n",
    ">            .\n",
    ">            .\n",
    ">            .\n",
    ">           ENDIF\n",
    ">        ENDIF\n",
    ">    ENDPROCEDURE\n",
    ">```\n",
    "\n",
    "- **(a)** Describe the state of the linked list, it the condition `StartPtr = 0` in line `07` is `True`. <div style=\"text-align: right\">[1]</div>\n",
    "- **(b)** It is now necessary to complete the design for procedure `InsertListItem`.\n",
    "- **(b) (i)** The pseudocode already uses some variables.\n",
    "                Copy the table below and complete it to show any extra variables that you will need to use.\n",
    "<center>\n",
    "                \n",
    "|**Variable** | **Data Type** | **Description**  |\n",
    "|-|-|-|\n",
    "||||\n",
    "||||\n",
    "||||\n",
    "||||\n",
    "</center>\n",
    "    \n",
    "- **(b) (ii)** Write the pseudocode for line `14` onwards to complete the procedure. <div style=\"text-align: right\">[6]</div>"
   ]
  },
  {
   "cell_type": "code",
   "execution_count": null,
   "metadata": {},
   "outputs": [],
   "source": [
    "#YOUR_ANSWER_HERE"
   ]
  },
  {
   "cell_type": "markdown",
   "metadata": {},
   "source": [
    "## Exercise 20.7 2018/A Level/P1/Q3 H2 Computing\n",
    "\n",
    "The file, `HASHEDDATA.TXT`, holds details of the names and telephone numbers of 250 people. \n",
    "There are a total of 500 lines in the file, and a number of these lines are empty of name and telephone number.\n",
    "An index is stored for each line of the file. \n",
    "The format of the data in the file is: \n",
    ">```\n",
    "><Index>, <PersonName>, <TelephoneNumber> \n",
    ">```\n",
    "\n",
    "The first 10 lines from the file are shown as follows: \n",
    "\n",
    ">```\n",
    ">0, ,\n",
    ">1, ,\n",
    ">2, ,\n",
    ">3, Boon Keng V., 07492 546415\n",
    ">4, ,\n",
    ">5, ,\n",
    ">6, Ahmad Yusof, 07439 778665\n",
    ">7, Durno Peter, 07662 863518\n",
    ">8, Batisah Wong, 07362 156265\n",
    ">9, ,\n",
    ">```\n",
    "\n",
    "The values in the file are separated by the comma character. \n",
    "\n",
    "A record structure is used to store a name and telephone number. A data structure of 500 records is needed to store all the names and telephone numbers. Each line in the file is written to a corresponding position in the data structure.\n",
    "\n",
    "The records with index six to eight from the data structure are: \n",
    "\n",
    "<center>\n",
    "\n",
    "| **Index** | **PersonName** | **TelephoneNumber**  |\n",
    "|-|-|-|\n",
    "| 6 | Ahmad Yusof | 07439 778665 |\n",
    "| 7| Durno Peter | 07662 863518 |\n",
    "| 8| Batisah Wong | 07362 156265 |\n",
    "\n",
    "</center>\n",
    "\n",
    "### Task 40\n",
    "\n",
    "\n",
    "Use program code to create a:\n",
    "\n",
    "- record structure to hold the name and telephone number for one person\n",
    "- data structure, using this record structure to store 500 records.\n",
    "\n",
    "### Evidence 41\n",
    "\n",
    "Your program code.      \n",
    "<div style=\"text-align: right\">[6]</div>"
   ]
  },
  {
   "cell_type": "code",
   "execution_count": null,
   "metadata": {},
   "outputs": [],
   "source": [
    "#YOUR_CODE_HERE"
   ]
  },
  {
   "cell_type": "markdown",
   "metadata": {},
   "source": [
    "### Task 42\n",
    "\n",
    "Write program code to:\n",
    "\n",
    "- read the lines from the file\n",
    "- extract the `<Index>`, `<PersonName>` and `<TelephoneNumber>` values\n",
    "- store these values in the data structure.\n",
    "\n",
    "Create a procedure called `DisplayValues` that will loop though the data structure and display the index, name and telephone number for every record where the name is present.\n",
    "\n",
    "Ensure your procedure uses headings to identify the data displayed.\n",
    "\n",
    "### Evidence 43\n",
    "\n",
    "Your program code.      \n",
    "<div style=\"text-align: right\">[13]</div>\n",
    "\n",
    "### Evidence 44\n",
    "\n",
    "A Screenshot showing the output.      \n",
    "<div style=\"text-align: right\">[1]</div>"
   ]
  },
  {
   "cell_type": "code",
   "execution_count": null,
   "metadata": {},
   "outputs": [],
   "source": [
    "#YOUR_CODE_HERE"
   ]
  },
  {
   "cell_type": "markdown",
   "metadata": {},
   "source": [
    "A hashing function was used to create the file. The same hashing function can be used to search the data structure for a particular name. The hashing function generates a hash. This is calculated as follows:\n",
    "\n",
    ">```\n",
    ">Get SearchName\n",
    ">Set HashTotal to 0\n",
    ">FOR each Character in SearchName\n",
    ">  Get the ASCII code for Character\n",
    ">  Multiply the ASCII code by the position of Character in SearchName\n",
    ">  Add the result to the HashTotal\n",
    ">Calculate Hash as HashTotal MOD 500\n",
    ">RETURN Hash\n",
    ">```\n",
    "\n",
    "### Task 45\n",
    "\n",
    "Add the program code for the hashing function. Use the following specification:\n",
    ">```\n",
    ">FUNCTION GenerateHash(SearchName : STRING) : INTEGER\n",
    ">```\n",
    "\n",
    "The function has a single parameter `SearchName` and returns an integer value.\n",
    "Write additional code for your program to allow you to test the implementation of this function.\n",
    "The following test data will assist you.\n",
    "- “Tait Davinder” should return a hash of 87\n",
    "- “Anandan Yeo\" should return a hash of 156\n",
    "\n",
    "### Evidence 46\n",
    "\n",
    "Your program code.     \n",
    "<div style=\"text-align: right\">[8]</div>\n",
    "\n",
    "### Evidence\n",
    "\n",
    "A screenshot (or screenshots) of your program to show the results of the hash calculation for both the given test data values.    \n",
    "<div style=\"text-align: right\">[2]</div>"
   ]
  },
  {
   "cell_type": "code",
   "execution_count": null,
   "metadata": {},
   "outputs": [],
   "source": [
    "#YOUR_CODE_HERE"
   ]
  },
  {
   "cell_type": "markdown",
   "metadata": {},
   "source": [
    "The hash calculated from the `SearchName` can be used to find a corresponding record in the data structure.\n",
    "If the `SearchName` is not found in the record given by the hash **and** the record is not empty:\n",
    "- compare `SearchName` with the next record\n",
    "- until the `SearchName` is found or an empty record is found.\n",
    "\n",
    "If an empty record is found then the program will report that the name is “NOT FOUND”.\n",
    "\n",
    "If the record is found, the program will output the index, name and telephone number.\n",
    "\n",
    "### Task 47\n",
    "\n",
    "Add the program code to implement the search as described.\n",
    "\n",
    "### Evidence 48\n",
    "\n",
    "Your program code.\n",
    "<div style=\"text-align: right\">[7]</div>\n",
    "\n",
    "### Evidence 49\n",
    "\n",
    "A screenshot (or screenshots) of your program to show the results of the following searches:\n",
    "\n",
    "Search 1: Charlie Love <br>\n",
    "Search 2: Chin Tan <br>\n",
    "Search 3: John Barrowman\n",
    "<div style=\"text-align: right\">[3]</div>"
   ]
  },
  {
   "cell_type": "code",
   "execution_count": null,
   "metadata": {},
   "outputs": [],
   "source": [
    "#YOUR_CODE_HERE"
   ]
  },
  {
   "cell_type": "markdown",
   "metadata": {},
   "source": [
    "## Exercise 20.8 2013/A Level/P2/Q3 H2 Computing\n",
    "\n",
    "A hash table has an index range of 1 to 900. The following pseudocode describes an algorithm for searching the table using the hashing function Hash. It is assumed that the key is present in the table.\n",
    "\n",
    ">```python\n",
    ">01 Index <- Hash(Key)\n",
    ">02 WHILE Table[Index, 1] <> Key\n",
    ">03     Index <- Index + 1\n",
    ">04 ENDWHILE\n",
    ">05 Value <- Table[Index, 2]\n",
    ">```\n",
    "\n",
    "- **(a)** Explain the purpose of:\n",
    "   - **(i)** line 3\n",
    "   - **(ii)** line 5 <div style=\"text-align: right\">[4]</div>\n",
    "\n",
    "- **(b)** Describe a problem that might occur with a key which, when hashed, produces an index of 900. <div style=\"text-align: right\">[7]</div>\n",
    "\n",
    "- **(c)** What modification to the algorithm is required to overcome this problem?<div style=\"text-align: right\">[3]</div>\n",
    "- **(d)** Explain how a new item can be added to this hash table.<div style=\"text-align: right\">[4]</div>\n",
    "\n",
    "\n"
   ]
  },
  {
   "cell_type": "code",
   "execution_count": null,
   "metadata": {},
   "outputs": [],
   "source": [
    "#YOUR_ANSWER_HERE"
   ]
  },
  {
   "cell_type": "markdown",
   "metadata": {},
   "source": [
    "## Exercise 20.9 2013/A Level/P1/Q3 H2 Computing\n",
    "\n",
    "The task is to store a dataset (maximum size 20 items) as a binary tree structure. You should assume that the data items are unique.\n",
    "\n",
    "The program will use a user-defined type Node for each node defined as follows:\n",
    "\n",
    "<center>\n",
    "\n",
    "| Identifier | Data Type | Description |\n",
    "|-|-|-|\n",
    "| `LeftP` | `INTEGER` | The left pointer for the node |\n",
    "| `Data` | `STRING` | The node's data value |\n",
    "| `RightP` | `INTEGER` | The right pointer for the node |\n",
    "\n",
    "</center>\n",
    "\t\n",
    "A linked list is maintained of all the unused nodes which do not form part of the tree. The first available node which is used for a new term is indicated by NextFreePosition. Items in the unused list are linked using their left pointers.\n",
    "\n",
    "The binary tree and linked list are implemented using variables as follows:\n",
    "\n",
    "<center>\n",
    "\n",
    "| Identifier | Data Type | Description |\n",
    "|-|-|-|\n",
    "| `ThisTree` | `ARRAY[20] : Node` | The tree data |\n",
    "| `Root` | `INTEGER` | Index for the root position of the `ThisTree` array |\n",
    "| `NextFreePosition` | `INTEGER` | Index for the next unused node |\n",
    "\n",
    "</center>\n",
    "\n",
    "The diagram shows the binary tree and linked list after four values have been added.\n",
    "\n",
    "<center>\n",
    "<img src=\"./img/binarytree1.png\" width=\"400\" align=\"center\"/>\n",
    "</center>\n",
    "\n",
    "### Task 50\n",
    "\n",
    "Write the program code to declare all the required variables and create the initial linked list which contains all 20 nodes. Add statement(s) to initialise the empty tree.\n",
    "\n",
    "<div style=\"text-align: right\">[10]</div>\n",
    "\n",
    "### Evidence 51\n",
    "\n",
    "Your program code for Task above. \n",
    "<div style=\"text-align: right\">[11]</div>"
   ]
  },
  {
   "cell_type": "code",
   "execution_count": null,
   "metadata": {},
   "outputs": [],
   "source": [
    "#YOUR_CODE_HERE"
   ]
  },
  {
   "cell_type": "markdown",
   "metadata": {},
   "source": [
    "The following (incomplete) pseudocode inserts a data value into the binary tree structure.\n",
    "\n",
    "The `LastMove` variable holds the direction of the previous traversal move as follows:\n",
    "\n",
    "X - no move yet made \n",
    "\n",
    "L - move was to the left \n",
    "\n",
    "R - move was to the right\n",
    "\n",
    ">```\n",
    ">PROCEDURE AddItemToBinaryTree(NewFreeItem)\n",
    ">  IF Root = 0\n",
    ">    THEN \n",
    ">      Root ← NextFreePosition \n",
    ">    ELSE \n",
    ">      // traverse the tree to find the position for the new value \n",
    ">      CurrentPosition ← Root \n",
    ">      LastMove ← 'X' \n",
    ">      REPEAT \n",
    ">        PreviousPosition ← CurrentPosition \n",
    ">        IF NewFreeItem < ThisTree[CurrentPosition].Data \n",
    ">          THEN \n",
    ">            // move left \n",
    ">            LastMove ← 'L' \n",
    ">            CurrentPosition ← ThisTree[CurrentPosition].LeftP \n",
    ">          ELSE \n",
    ">            // move right \n",
    ">            LastMove ← 'R' \n",
    ">            CurrentPosition ← ThisTree[CurrentPosition].RightP \n",
    ">        ENDIF \n",
    ">      UNTIL CurrentPosition = 0 \n",
    ">  ENDIF\n",
    ">  IF LastMove = 'R' \n",
    ">    THEN \n",
    ">      ThisTree[PreviousPosition].RightP ← NextFreePosition \n",
    ">    ELSE \n",
    ">      ThisTree[PreviousPosition].LeftP ← NextFreePosition \n",
    ">  ENDIF \n",
    ">  NextFreePosition ThisTree[NextFreePosition].LeftP \n",
    ">ENDPROCEDURE\n",
    ">```\n",
    "\n",
    "Note: The above text is available in the text file `PSEUDOCODE_TASK_3_2.TXT`\n",
    "\n",
    "### Task 52\n",
    "\n",
    "Write non-recursive code to implement the `AddItemToBinaryTree` procedure. You may use the text file `PSEUDOCODE_TASK_3_2.TXT` as a basis for the writing of your code.\n",
    "\n",
    "The given pseudocode is incomplete as:\n",
    "- it does not initially test that there is space available for a new item \n",
    "- it does not assign `NewTreeItem` to the data field of the `ThisTree` array\n",
    "\n",
    "Add these requirements to your program solution.\n",
    "\n",
    "### Evidence 53\n",
    "\n",
    "Your program code for Task above.      \n",
    "<div style=\"text-align: right\">[6]</div>"
   ]
  },
  {
   "cell_type": "code",
   "execution_count": null,
   "metadata": {},
   "outputs": [],
   "source": [
    "#YOUR_CODE_HERE"
   ]
  },
  {
   "cell_type": "markdown",
   "metadata": {},
   "source": [
    "### Task 51\n",
    "\n",
    "Write a procedure `OutputData` which displays the value of Root, the value of `NextFreePosition` and the contents of `ThisTree` in index order.\n",
    "\n",
    "### Evidence 52\n",
    "\n",
    "Your program code for Task 3.3.    \n",
    "<div style=\"text-align: right\">[5]</div>"
   ]
  },
  {
   "cell_type": "code",
   "execution_count": null,
   "metadata": {},
   "outputs": [],
   "source": [
    "#YOUR_CODE_HERE"
   ]
  },
  {
   "cell_type": "markdown",
   "metadata": {},
   "source": [
    "### Task 53\n",
    "\n",
    "Write a main program to:\n",
    "\n",
    "- Input new data items and add them to the binary tree by calling procedure `AddItemToBinaryTree`. The input is terminated with value \"`XXX`\". Do not attempt to validate the input of the country names. \n",
    "- Your program will then call procedure `OutputData`.\n",
    "\n",
    "Run the program with the input of the single value \"`XXX`\".\n",
    "\n",
    "### Evidence 54\n",
    "\n",
    "Screenshot showing the output from running the program in Task 4.      \n",
    "<div style=\"text-align: right\">[3]</div>"
   ]
  },
  {
   "cell_type": "code",
   "execution_count": null,
   "metadata": {},
   "outputs": [],
   "source": [
    "#YOUR_CODE_HERE"
   ]
  },
  {
   "cell_type": "markdown",
   "metadata": {},
   "source": [
    "### Task 55\n",
    "Test your program using the following data items input in the order shown:\n",
    "\n",
    "> `INDIA, NEPAL, MALAYSIA, SINGAPORE, BURMA, CANADA, LATVIA, XXX`\n",
    "\n",
    "### Evidence 56\n",
    "\n",
    "Provide screenshot test evidence for Task 5.     \n",
    "<div style=\"text-align: right\">[5]</div>"
   ]
  },
  {
   "cell_type": "code",
   "execution_count": null,
   "metadata": {},
   "outputs": [],
   "source": [
    "#YOUR_CODE_HERE"
   ]
  },
  {
   "cell_type": "markdown",
   "metadata": {},
   "source": [
    "Further program code is required to carry out an **in-order traversal**."
   ]
  },
  {
   "cell_type": "markdown",
   "metadata": {},
   "source": [
    "### Task 57\n",
    "\n",
    "Write a recursive procedure to carry out an in-order tree traversal. <br>\n",
    "Include a call to the procedure from your main program.\n",
    "\n",
    "### Evidence 58\n",
    "\n",
    "Your program code.      \n",
    "<div style=\"text-align: right\">[8]</div>\n",
    "\n",
    "### Evidence 59\n",
    "\n",
    "Produce a screenshot for the Task 3.5 dataset confirming the output of the countries in alphabetical order.      \n",
    "<div style=\"text-align: right\">[2]</div>"
   ]
  },
  {
   "cell_type": "code",
   "execution_count": null,
   "metadata": {},
   "outputs": [],
   "source": [
    "#YOUR_CODE_HERE"
   ]
  },
  {
   "cell_type": "markdown",
   "metadata": {},
   "source": [
    "## Exercise 20.10 2018/A Level/P2/Q3 H2 Computing\n",
    "A binary tree is as follows:\n",
    "\n",
    "<center>\n",
    "<img src=\"./img/binarytree2.png\" width=\"400\" align=\"center\"/>\n",
    "</center>\n",
    "\n",
    "- **(i)** State the in-order sequence. <div style=\"text-align: right\">[1]</div>\n",
    "- **(i)** State the pre-order sequence. <div style=\"text-align: right\">[1]</div>"
   ]
  },
  {
   "cell_type": "code",
   "execution_count": null,
   "metadata": {},
   "outputs": [],
   "source": [
    "#YOUR_ANSWER_HERE"
   ]
  },
  {
   "cell_type": "markdown",
   "metadata": {},
   "source": [
    "## Exercise 20.11 2021/ACJC/P2/Q2 H2 Computing (Modified)\n",
    "A file compression algorithm reduces file sizes so that files can be sent more quickly. One such algorithm is the Huffman algorithm for text files, which will be implemented in this task.\n",
    "\n",
    "Unlike ASCII, which assigns a fixed size of 8 bits for each character, the Huffman algorithm assigns fewer bits to more common characters and more bits to less common characters. For example, in a long text written in English, characters such as `e` and `t` will have fewer bits assigned to them than characters such as `q` and `z`. If the text is long enough, this will use fewer bits in total to encode the text compared to ASCII.\n",
    "\n",
    "To know which sequence of bits to encode for each character, the **frequency** of each character, which is the number of times each character appears in the text file, is tabulated.\n",
    "\n",
    "The characters are put into a tree. A node is created for each character. The following steps are then repeated until there is only one node without a parent:\n",
    "\n",
    "1. Identify the two nodes, without parents, which have the lowest frequency.\n",
    "2. Create a new node whose left and right children are the two nodes identified in Step 1. The frequency of the new node is the total of the frequency of its children.\n",
    "3. Add the new node to the queue.\n",
    "\n",
    "The diagram on the following page shows the process of creation of a tree for a file with only five distinct characters (`A`, `E`, `I`, `O` and `U`), in five stages.\n",
    "\n",
    "The bit sequence assigned to a character will be the path from the root to the node corresponding to that character, where going left corresponds to `0` and going right corresponds to `1`. For example, `A` is encoded as `10` and `O` is encoded as `011`.\n",
    "\n",
    "### Task 60\n",
    "Create a `Node` class that has the following attributes:\n",
    "- `data`, which is determined when the node is initialized\n",
    "- `left`, a pointer to another node,\n",
    "- `right`, a pointer to another node\n",
    "When the node is initialised, `left` and `right` do not point to anything.\n",
    "The class also has setter methods for `left` and `right`, and getter methods for all three attributes.<div style=\"text-align: right\">[3]</div>"
   ]
  },
  {
   "cell_type": "code",
   "execution_count": null,
   "metadata": {},
   "outputs": [],
   "source": [
    "#YOUR_CODE_HERE"
   ]
  },
  {
   "cell_type": "markdown",
   "metadata": {},
   "source": [
    "### Task 61\n",
    "\n",
    "Write code that takes an `input.txt` file and creates a dictionary whose keys are the characters in the file, including spaces, punctuation and line breaks (`\\n`), and the value of a key is its frequency in the file. Uppercase and lowercase letters should be considered as different characters.\n",
    "\n",
    "Create a node for each character in the file, and put the nodes into a list in ascending order of frequency.\t<div style=\"text-align: right\">[11]</div>"
   ]
  },
  {
   "cell_type": "code",
   "execution_count": null,
   "metadata": {},
   "outputs": [],
   "source": [
    "#YOUR_CODE_HERE"
   ]
  },
  {
   "cell_type": "markdown",
   "metadata": {},
   "source": [
    "### Task 62\n",
    "Create a tree using the algorithm described above.\t<div style=\"text-align: right\">[5]</div>"
   ]
  },
  {
   "cell_type": "code",
   "execution_count": null,
   "metadata": {},
   "outputs": [],
   "source": [
    "#YOUR_CODE_HERE"
   ]
  },
  {
   "cell_type": "markdown",
   "metadata": {},
   "source": [
    "### Task 63\n",
    "Create a dictionary whose keys are the characters, and the value of a key is the bit sequence of that character, expressed as a string of `0`s and `1`s.\n",
    "\n",
    "Carry out Tasks 60 to 62 on the file `HAMLET.txt`. Compress the file by replacing each character with its bit sequence and writing the output to a new file, `HAMLET_compressed.txt`. <div style=\"text-align: right\">[8]</div>"
   ]
  },
  {
   "cell_type": "code",
   "execution_count": null,
   "metadata": {},
   "outputs": [],
   "source": [
    "#YOUR_CODE_HERE\n",
    "#test your code on a text file containing the string AAAAAAAAAAAAAAAEEEEEEEEEEEEEEEEIIIIIIIIIIIIOOOOOOOOOUUUUU\n",
    "#Expected output is 10101010101010101010101010101011111111111111111111111111111111000000000000000000000000011011011011011011011011011010010010010010"
   ]
  },
  {
   "cell_type": "markdown",
   "metadata": {},
   "source": [
    "Diagram showing how the tree is created basd on the frequency of each character:\n",
    "\n",
    "<center>\n",
    "\n",
    "|   Character | Frequency  |\n",
    "|-|-|\n",
    "|`A`|15|\n",
    "|`E`|16|\n",
    "|`I`|12|\n",
    "|`O`|9 |\n",
    "|`U`|5 |\n",
    "\n",
    "</center>\n",
    "\n",
    "<br>\n",
    "\n",
    "<center>\n",
    "<img src=\"img/exercise20-pic1.png\" width=\"600\" align=\"center\"/>\n",
    "</center>"
   ]
  }
 ],
 "metadata": {
  "kernelspec": {
   "display_name": "Python 3.10.2 64-bit",
   "language": "python",
   "name": "python3"
  },
  "language_info": {
   "codemirror_mode": {
    "name": "ipython",
    "version": 3
   },
   "file_extension": ".py",
   "mimetype": "text/x-python",
   "name": "python",
   "nbconvert_exporter": "python",
   "pygments_lexer": "ipython3",
   "version": "3.10.2 (tags/v3.10.2:a58ebcc, Jan 17 2022, 14:12:15) [MSC v.1929 64 bit (AMD64)]"
  },
  "orig_nbformat": 2,
  "vscode": {
   "interpreter": {
    "hash": "a42ccb73e7d9bfdf27e036f1d2b8b681e55fc0743cc5586bc2474d4a60f4b886"
   }
  }
 },
 "nbformat": 4,
 "nbformat_minor": 2
}
