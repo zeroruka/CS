{
 "cells": [
  {
   "attachments": {},
   "cell_type": "markdown",
   "metadata": {},
   "source": [
    "# Exercise 21\n",
    "\n",
    "Related Notes:\n",
    "- Fundamentals_14_Abstract_Data_Types"
   ]
  },
  {
   "cell_type": "markdown",
   "metadata": {},
   "source": [
    "## Exercise 21.1 2021/DHS/P1/Q2 H2 Computing\n",
    "\n",
    "### Task 1\n",
    "Using a stack data structure, write a function `solver(expr)` that takes in a string of a mathematical expression `expr` such as `((1*7)+6)` and returns `13`. You may assume that the entire expression would never have spaces, and would always be enclosed in an opening and closing parenthesis `( )`. Do not use the built-in function `eval()`. Test your function with `solver(\"((1*7)+6)\")` and show your output. <div style=\"text-align: right\">[6]</div>"
   ]
  },
  {
   "cell_type": "code",
   "execution_count": null,
   "metadata": {},
   "outputs": [],
   "source": [
    "# Your Answer Here"
   ]
  },
  {
   "attachments": {},
   "cell_type": "markdown",
   "metadata": {},
   "source": [
    "## Exercise 21.2 2018/DHS/P1/Q3 H2 Computing\n",
    "\n",
    "A blockchain is a linked list of blocks where each block has the following structure:\n",
    "\n",
    "<center>\n",
    "\n",
    "|  | Class: `Block` |  |\n",
    "|-|-|-|\n",
    "| Attributes |  |  |\n",
    "| Identifier | Data Type | Description |\n",
    "| `Data` | `STRING` | Block data |\n",
    "| `PrevHash` | `STRING` | Hash of previous block |\n",
    "| `CurrHash` | `STRING` | Hash of `Data` and `PrevHash` |\n",
    "| `Next` | `INTEGER` | The next block pointer |\n",
    "\n",
    "</center>\n",
    "\n",
    "\n",
    "The structure of the blockchain is as follows:\n",
    "\n",
    "<center>\n",
    "\n",
    "|  | Class: `BlockChain` |  |\n",
    "|-|-|-|\n",
    "| Attributes |  |  |\n",
    "| Identifier | Data Type | Description |\n",
    "| `ChainData` | `ARRAY[1:20] OF ListNode` | An array used to store the 20 blocks |\n",
    "| `Start` | `INTEGER` | Index for the genesis block |\n",
    "| `NextFreeBlock` | `INTEGER` | Index fore the next available empty block  |\n",
    "\n",
    "</center>\n",
    "\n",
    "The initial value of `Start` is 1 and the initial value of `NextFreeBlock` is 1.\n",
    "\n",
    "The first block of the blockchain is called the genesis block and its `PrevHash` value is 983 (base 10).\n",
    "\n",
    "The blockchain is used to store the achievement data of students in computing and infocomm programmes. The ensures the integrity and verifiability of students' portfolios which will be useful in internships, higher education and career opportunities.\n",
    "\n",
    "### Task 2\n",
    "Write program code to declare and initialise an empty blockchain of 20 unused blocks. Also write the `Display` method to show all contents of the blockchain.\n",
    "\n",
    "### Evidence 3\n",
    "Program code. <div style=\"text-align: right\">[8]</div>\n",
    "\n",
    "### Evidence 4\n",
    "Screenshot.<div style=\"text-align: right\">[2]</div>\n"
   ]
  },
  {
   "cell_type": "code",
   "execution_count": null,
   "metadata": {},
   "outputs": [],
   "source": [
    "#YOUR_ANSWER_HERE"
   ]
  },
  {
   "attachments": {},
   "cell_type": "markdown",
   "metadata": {},
   "source": [
    "### Task 5\n",
    "The following hashing algorithm computes the `CurrHash` value of each block:\n",
    "- Compute the sum of ASCII values for the characters in the achievement data string.\n",
    "- Multiply this sum by the kth prime number, where `k` is the length of the achievement data string.\n",
    "- Multiply this with the decimal equivalent of the `PrevHash` value of the current block.\n",
    "- Convert this value to its uppercase hexadecimal equivalent.\n",
    "- Prepend the appropriate number of `0` to this result to form a 23-character resultant string. This will be the current block's `CurrHash` value.\n",
    "\n",
    "For example, for the achievement data string \n",
    "    `Splash Awards 2018:Robert Goh,Mary Tan,Choo Ah Beng:First` \n",
    "\n",
    "Its `CurrHash` value will be `0000000000000004D32A036` \n",
    "(sum of ASCII value * 57th prime number * `PrevHash` = 4898 * 269 * 983)\n",
    "\n",
    "Write program code for a `ComputeHash` function to calculate the `CurrHash` value of a block. Verify your function with the following 2 achievement data strings:\n",
    "\n",
    "`Splash Awards 2018:Robert Goh,Mary Tan,Choo Ah Beng:First`\n",
    "`Splash Awards 2018:Lim Ah Huat,Alice Wong,Tan Ah Lian:Honorable Mention`\n",
    "\n",
    "### Evidence 6\n",
    "Program code. <div style=\"text-align: right\">[18]</div>\n",
    "\n",
    "### Evidence 7\n",
    "Screenshot for the 2 achievement data strings. <div style=\"text-align: right\">[2]</div>\n"
   ]
  },
  {
   "cell_type": "code",
   "execution_count": null,
   "metadata": {},
   "outputs": [],
   "source": [
    "#YOUR_ANSWER_HERE"
   ]
  },
  {
   "cell_type": "markdown",
   "metadata": {},
   "source": [
    "## Task 8\n",
    "Write program code to insert the data in `ACHIEVEMENTS.TXT` into the blockchain and display the contents of the updated blockchain.\n",
    "\n",
    "### Evidence 9\n",
    "Program code.<div style=\"text-align: right\">[4]</div>\n",
    "\n",
    "### Evidence 10\n",
    "Screenshot.<div style=\"text-align: right\">[1]</div>"
   ]
  },
  {
   "cell_type": "code",
   "execution_count": null,
   "metadata": {},
   "outputs": [],
   "source": [
    "#YOUR_ANSWER_HERE"
   ]
  },
  {
   "cell_type": "markdown",
   "metadata": {},
   "source": [
    "## Task 11\n",
    "Lim Ah Huat aspires to save the world by studying computer science in NUS School of Computing. As it is now the toughest course to get admitted to, he hopes to improve his chances of admission by showcasing his achievements in the various computing and infocomm related programmes he has participated in. He claimed that he is a good team player and is a strong self-directed learner with excellent aptitude for Computing.\n",
    "\n",
    "How can the university admission panel verify his achievements using the existing blockchain? You should describe briefly in program comments this strategy and implement the associated program code.\n",
    "\n",
    "### Evidence 12\n",
    "Program code.<div style=\"text-align: right\">[5]</div>\n",
    "\n",
    "### Evidence 13\n",
    "Screenshot.<div style=\"text-align: right\">[1]</div>"
   ]
  },
  {
   "cell_type": "code",
   "execution_count": null,
   "metadata": {},
   "outputs": [],
   "source": [
    "#YOUR_ANSWER_HERE"
   ]
  },
  {
   "cell_type": "markdown",
   "metadata": {},
   "source": [
    "## Task 14\n",
    "Another student Tan Ah Seng claimed that he also has computing or infocomm related participation, and changes one of the achievement data string from \n",
    "\n",
    "`Splash Awards 2018:Lim Ah Huat,Alice Wong,Tan Ah Lian:Honorable Mention`\n",
    "\n",
    "to\n",
    "\n",
    "`Splash Awards 2018:Lim Ah Huat,Alice Wong,Tan Ah Seng:Honorable Mention`\n",
    "\n",
    "Using program comments, briefly explain the impact to the blockchain. Write program code to refute Mr Tan's claim.\n",
    "\n",
    "### Evidence 15\n",
    "Program code.<div style=\"text-align: right\">[3]</div>\n",
    "\n",
    "### Evidence 16\n",
    "Screenshot.<div style=\"text-align: right\">[1]</div>"
   ]
  },
  {
   "cell_type": "code",
   "execution_count": null,
   "metadata": {},
   "outputs": [],
   "source": [
    "#YOUR_ANSWER_HERE"
   ]
  },
  {
   "cell_type": "markdown",
   "metadata": {},
   "source": [
    "## Exercise 21.3 2021/NYJC/P2/Q2 H2 Computing\n",
    "\n",
    "The task is to implement a todo list using a linkedlist data structure. For each of the sub-tasks, add a comment statement, at the beginning of the code using the hash symbol ‘#’, to indicate the sub-task the program code belongs to, for example: \n",
    "\n",
    "\n",
    "### Task 17 \n",
    "\n",
    "The class `TodoList` represents a LinkedList and has the following attributes: \n",
    "- `__head` – a pointer to the first node of the LinkedList; if empty, it has a value of `None` \n",
    "- `__tail` – a pointer to the last node of the LinkedList; if empty, it has a value of `None` \n",
    "\n",
    "`TodoList` has the following methods defined on it: \n",
    "- `add(item)` – wraps item in a `TodoItem` instance, and adds it to the end of the LinkedList \n",
    "- `remove(item)` – removes the first `TodoItem` containing item from the LinkedList \n",
    "- `list()` – returns a Python list containing each `item` in the TodoList \n",
    "\n",
    "The class `TodoItem` represents a Node of the LinkedList and has the following attributes: \n",
    "- `title` – a short description of the todo item \n",
    "- `__next` – a pointer to the next node in the LinkedList; if this is the last node, it has a value of `None` \n",
    "\n",
    "`TodoItem` has the following methods defined on it: \n",
    "\n",
    "- `link_to(todoitem)` – links this `TodoItem` instance to `todoitem`, another instance of the TodoItem class \n",
    "\n",
    "Implement the above classes.<div style=\"text-align: right\">[13]</div>"
   ]
  },
  {
   "cell_type": "code",
   "execution_count": null,
   "metadata": {},
   "outputs": [],
   "source": [
    "#YOUR_ANSWER_HERE"
   ]
  },
  {
   "cell_type": "markdown",
   "metadata": {},
   "source": [
    "### Task 18 \n",
    "\n",
    "Add the following items to a new `TodoList`: \n",
    "- “Buy milk” \n",
    "- “Buy flour” \n",
    "- “Buy eggs”\n",
    "- “Bake cake” \n",
    "\n",
    "Display the contents of the `TodoList`.<div style=\"text-align: right\">[7]</div>"
   ]
  },
  {
   "cell_type": "code",
   "execution_count": null,
   "metadata": {},
   "outputs": [],
   "source": [
    "#YOUR_ANSWER_HERE"
   ]
  },
  {
   "cell_type": "markdown",
   "metadata": {},
   "source": [
    "### Task 19 \n",
    "\n",
    "Remove the following items from the TodoList: \n",
    "- “Buy milk” \n",
    "- “Buy eggs” \n",
    "\n",
    "Display the contents of the TodoList.<div style=\"text-align: right\">[3]</div>"
   ]
  },
  {
   "cell_type": "code",
   "execution_count": null,
   "metadata": {},
   "outputs": [],
   "source": [
    "#YOUR_ANSWER_HERE"
   ]
  },
  {
   "cell_type": "markdown",
   "metadata": {},
   "source": [
    "## Exercise 21.4 2021/YIJC/P2/Q4 H2 Computing\n",
    "\n",
    "Lessonology is a learning management system that utilises gamification elements to motivate students to complete their assignments. The Linked List data structure is used to store the students’ names and their total experience points. Each node contains a student’s name, the student’s total experience points, and a pointer to the next node. The nodes are linked together according to the order provided in the `DATA_YIJC_2021.txt` file. \n",
    "\n",
    "A program is to be written to implement nodes as an instance of the class `Node`. The class `Node` has the following properties and method: \n",
    "\n",
    "<center>\n",
    "\n",
    "|   Class: `Node` |  |\n",
    "|-|-|\n",
    "| Attributes |  |\n",
    "| Identifier | Description |\n",
    "| `Name` |  The node's value for a student's name |\n",
    "| `Exp` |  The node's value for the student's total experience points |\n",
    "| `Pointer` |  The pointer to the next node |\n",
    "| Method |  |\n",
    "| Identifier | Description |\n",
    "| `SetPointer()` |  Set the pointer to point at the next node or point to None when it is the last node |\n",
    "\n",
    "</center>\n",
    "\n",
    "A linked list is implemented as an instance of the class `StudentList`. The class `StudentList` has the following property and methods: \n",
    "\n",
    "<center>\n",
    "\n",
    "|   Class: `StudentList` |  |\n",
    "|-|-|\n",
    "| Attributes |  |\n",
    "| Identifier | Description |\n",
    "| `Start` |  The pointer at the start of the linked list |\n",
    "| Method |  |\n",
    "| Identifier | Description |\n",
    "| `Constructor` |  Initialise the linked list with the pointer `Start` assigned to `None` |\n",
    "| `Add()` |  Add a new node into the linked list. |\n",
    "| `Update()` |  Update the value for the total experience pionts of a student's node in the linked list |\n",
    "| `Delete()` |  Delete a node in the linked list |\n",
    "| `Display()` |  Display the current content of the linked list in a table form. |\n",
    "\n",
    "</center>\n",
    "\n",
    "### Task 20 \n",
    "\n",
    "Write program code for the classes `Node` and `StudentList`, including the `Constructor`, `Add()` and `Display()` methods. The code should follow the specification given. Do not write the `Update()` and `Delete()` methods yet. \n",
    "\n",
    "The `Add(node)` method for the StudentList class should add the `node` containing a student’s name and the student’s total experience points to the linked list, according to the order given in the `DATA_YIJC_2021.txt` file. \n",
    "\n",
    "Test your code by reading the data from the file DATA.txt and adding them as nodes into the linked list. The diagram below shows a portion of the expected output when using the Display() method on the populated linked list: \n",
    "\n",
    ">```python\n",
    ">Name            |  Experience Points\n",
    ">-------------------------------------\n",
    ">ANDREW          |        17616\n",
    ">ANGIE           |        16001\n",
    ">AU YONG         |        15589\n",
    ">AZMAN           |          775\n",
    ">BENG CHOO       |        15411\n",
    ">BOB             |        6244\n",
    ">BRIAN           |        20404\n",
    ">\n",
    "\n",
    "<div style=\"text-align: right\">[9]</div>"
   ]
  },
  {
   "cell_type": "code",
   "execution_count": null,
   "metadata": {},
   "outputs": [],
   "source": [
    "#YOUR_ANSWER_HERE\n",
    "exp = None\n",
    "print(f\"{'' if exp == None else exp}\")"
   ]
  },
  {
   "cell_type": "markdown",
   "metadata": {},
   "source": [
    "### Task 21\n",
    "\n",
    "Each time a student completes an assignment, points will be awarded and the student’s total experience points will be updated. \n",
    "\n",
    "Write program code for the `Update(name,points)` method for the `StudentList` class that takes a student’s name and the awarded `points` as inputs to update the student’s total experience points in the node. (You may assume that the node containing the student exists in the linked list.) \n",
    "\n",
    "For example, `Update('BRIAN',100)` will update the total experience points of a student whose name is `'BRIAN'` from `20404` to `20504`.<div style=\"text-align: right\">[3]</div>"
   ]
  },
  {
   "cell_type": "code",
   "execution_count": null,
   "metadata": {},
   "outputs": [],
   "source": [
    "#YOUR_ANSWER_HERE"
   ]
  },
  {
   "cell_type": "markdown",
   "metadata": {},
   "source": [
    "### Task 22\n",
    "\n",
    "Write program code to implement the `Delete(name)` method for the `StudentList` class to search and remove a node, containing a particular student’s `name`, in the linked list. Return `True` if the node is found and removed; otherwise return `False`. (You may assume that the students’ names are unique in the linked list.)<div style=\"text-align: right\">[3]</div>\n",
    "\n"
   ]
  },
  {
   "cell_type": "code",
   "execution_count": null,
   "metadata": {},
   "outputs": [],
   "source": [
    "#YOUR_ANSWER_HERE"
   ]
  },
  {
   "cell_type": "markdown",
   "metadata": {},
   "source": [
    "### Task 23\n",
    "\n",
    "Another linked list which has pointers linking the nodes in decreasing order of the experience points is implemented as an instance of the class `Leaderboard`. \n",
    "\n",
    "The class `Leaderboard` has the following properties and methods: \n",
    "\n",
    "<center>\n",
    "\n",
    "|   Class: `Leaderboard` |  |\n",
    "|-|-|\n",
    "| Attributes |  |\n",
    "| Identifier | Description |\n",
    "| `Start` |  The pointer at the start of the linked list |\n",
    "| Method |  |\n",
    "| Identifier | Description |\n",
    "| `Constructor` |  Inherit the property and all the methods from the class `StudentList`. Initialise the linked list witht he pointer `Start` assigned to `None` |\n",
    "| `Add()` |  Modify the `Add()` method in the parent class to add a new node in decreasing order of total experience points |\n",
    "| `Update()` |  Modify the `Update()` method in the parent class such that the linked list is still in decreasing order of experience points after updating a student's total experience points. |\n",
    "| `Display()` |  Display the current content of the nodes in the linked list for the top studetns based on their total experience points.|\n",
    "\n",
    "</center>\n",
    "\n",
    "Write program code for the class `Leaderboard` to inherit the properties and methods from the class `StudentList` with the modified `Add()` and `Update()` methods. The additional `DisplayTop(n)` method should display the top `n` number of students in the linked list, based on their total experience points. (You may assume that no two students have the same total experience points.) \n",
    "\n",
    "Test your code by reading the data from the file `DATA_YIJC_2021.txt` and adding them as nodes into this linked list. The diagram below shows the expected output when using the `DisplayTop(5)` method on the linked list:\n",
    "\n",
    ">```python\n",
    ">Displaying Top 5 students\n",
    ">Name            |  Total Experience Points\n",
    ">-------------------------------------------\n",
    ">HENDERSON       |        21653\n",
    ">YOCK TIM        |        20740\n",
    ">HUI FANG        |        20563\n",
    ">BRIAN           |        20404\n",
    ">DESMOND         |        20033\n",
    ">------------End of Display------------------\n",
    "\n",
    "<div style=\"text-align: right\">[13]</div>\n",
    "\n"
   ]
  },
  {
   "cell_type": "code",
   "execution_count": null,
   "metadata": {},
   "outputs": [],
   "source": [
    "#YOUR_ANSWER_HERE"
   ]
  },
  {
   "cell_type": "markdown",
   "metadata": {},
   "source": [
    "## Exercise 21.5 2015/HCI/P2/Q2 H2 Computing\n",
    "### Task 24\n",
    "Write program code to sort the fruit names in `FRUITS.txt` in descending order using insertion sort.\n",
    "\n",
    "### Evidence 25:\n",
    "Your program code for Task 24. <div style=\"text-align: right\">[7]</div>\n",
    "\n",
    "### Evidence 26:\n",
    "Screenshot of output. <div style=\"text-align: right\">[1]</div>"
   ]
  },
  {
   "cell_type": "code",
   "execution_count": null,
   "metadata": {},
   "outputs": [],
   "source": [
    "#YOUR_CODE_HERE"
   ]
  },
  {
   "cell_type": "markdown",
   "metadata": {},
   "source": [
    "### Task 27\n",
    "Write program code to insert fruit names in `FRUITS.txt` to a binary search tree using a linked structure.\n",
    "\n",
    "### Evidence 28:\n",
    "Your program code for Task 27. <div style=\"text-align: right\">[8]</div>"
   ]
  },
  {
   "cell_type": "code",
   "execution_count": null,
   "metadata": {},
   "outputs": [],
   "source": [
    "#YOUR_CODE_HERE"
   ]
  },
  {
   "cell_type": "markdown",
   "metadata": {},
   "source": [
    "### Task 29\n",
    "Write program code to display the binary search tree contents in preorder, inorder and postorder.\n",
    "\n",
    "### Evidence 30\n",
    "Your program code. <div style=\"text-align: right\">[6]</div>\n",
    "\n",
    "### Evidence 31\n",
    "Screenshot of output. <div style=\"text-align: right\">[3]</div>"
   ]
  },
  {
   "cell_type": "code",
   "execution_count": null,
   "metadata": {},
   "outputs": [],
   "source": [
    "#YOUR_CODE_HERE"
   ]
  },
  {
   "cell_type": "markdown",
   "metadata": {},
   "source": [
    "## Exercise 21.6 2014/DHS/P2/Q3 H2 Computing (Modified)\n",
    "A new small library provides loan services to its members\n",
    "- books with quota of 10 items and loan period of 21 days\n",
    "- electronic resources with quota of 2 items and loan period of 14 days\n",
    "Each library item can be renewed at most once.\n",
    "\n",
    "Charges will be imposed for overdue items. For books, the overdue fine is $0.20 per item per day. Electronic resources incur an overdue fine of $0.50 per item per day.\n",
    "\n",
    "The text file `ITEMS.dat` contains information about the library collection and has the following structure and sample records.\n",
    "\n",
    "```\n",
    "<Item ID>,<Type>,<Title>,<Status>\n",
    "1,B,The 'A'rt of Computing,U\n",
    "2,E,The 'A'rt of Computing,U\n",
    "3,E,How to Save the World 2013 Edition,A\n",
    "```\n",
    "\n",
    "- `Item ID` is in the range 1 to 99999\n",
    "- `Type` can be `B` (book) or `E` (electronic resource)\n",
    "- `Title` has a 50-character length limit\n",
    "- `Status` can be available (`A`) or on loan (`U`)\n",
    "\n",
    "As a new small library, you may assume that it holds only a single copy of each item.\n",
    "\n",
    "### Task 32\n",
    "\n",
    "For fast retrieval of item information, it is proposed to store the `ITEM.dat` records in a linked binary search tree using `Item ID` as the key field. Each item will be stored using a user-defined `Node` type with the following fields:\n",
    "- `LeftP` - left pointer for the node\n",
    "- `Data` - item information\n",
    "- `RightP` - right pointer for the node\n",
    "Using object-oriented programming techniques, write appropriate classes and methods to store the book information to a linked binary search tree data structure.\n",
    "\n",
    "### Evidence 33\n",
    "Program code for class definition, initialisation and insert methods. <div style=\"text-align: right\">[9]</div>"
   ]
  },
  {
   "cell_type": "code",
   "execution_count": null,
   "metadata": {},
   "outputs": [],
   "source": [
    "#YOUR_CODE_HERE"
   ]
  },
  {
   "cell_type": "markdown",
   "metadata": {},
   "source": [
    "### Task 34\n",
    "Write a search method to process a query for information about an item given its Item ID.\n",
    "\n",
    "Sample execution:\n",
    "```\n",
    "Enter item id: 1\n",
    "Unavailable: The 'A'rt of Computing [Book]\n",
    "\n",
    "Enter item id: 3\n",
    "Available: How to Save the World 2013 Edition [Electronic]\n",
    "```\n",
    "\n",
    "### Evidence 35\n",
    "Program code for Task 3.2. <div style=\"text-align: right\">[3]</div>\n",
    "\n",
    "### Evidence 36\n",
    "Screenshots for annotated test cases. <div style=\"text-align: right\">[2]</div>"
   ]
  },
  {
   "cell_type": "code",
   "execution_count": null,
   "metadata": {},
   "outputs": [],
   "source": [
    "#YOUR_CODE_HERE"
   ]
  },
  {
   "cell_type": "markdown",
   "metadata": {},
   "source": [
    "### Task 37\n",
    "Write program code to display all on loan electronic resources in ascending Item ID order.\n",
    "\n",
    "Sample execution:\n",
    "```\n",
    "2. The 'A'rt of Computing\n",
    "```\n",
    "\n",
    "### Evidence 38\n",
    "Program code for Task 3.3. <div style=\"text-align: right\">[3]</div>\n",
    "\n",
    "\n",
    "### Evidence 39\n",
    "Screenshot. <div style=\"text-align: right\">[1]</div>"
   ]
  },
  {
   "cell_type": "code",
   "execution_count": null,
   "metadata": {},
   "outputs": [],
   "source": [
    "#YOUR_CODE_HERE"
   ]
  },
  {
   "cell_type": "markdown",
   "metadata": {},
   "source": [
    "The text file `TRANSACTION.dat` contains loan, return and renew records made by members over a period of time, and has the following structure and sample records:\n",
    "```\n",
    "<Action>,<Loan date in DDMMYYYY>,<Member ID>,<Item ID>\n",
    "L,20140813,M007,3\n",
    "R,20140813,M007,456\n",
    "N,20140813,M123,8952\n",
    "```\n",
    "- `Action` can be `L` (loan), `R` (return) or `N` (renew)\n",
    "- `Member ID` is in the range M001 to M999\n",
    "\n",
    "### Task 40\n",
    "Write a function `query_member()` to determine if a member has any overdue loan(s) on a given date. If yes, output the overdue item'(s)' information, subtotal and total overdue fines payable.\n",
    "Test your function with the following test data:\n",
    "```\n",
    "Member ID Date\n",
    "M123 24082014\n",
    "M008 28082014\n",
    "```\n",
    "\n",
    "Sample execution:\n",
    "```\n",
    "Report for M123 as at 2014-08-24:\n",
    "No overdue loan\n",
    "Report for M008 as at 2014-09-07:\n",
    "[B] Artificial Intelligence : $0.80\n",
    "[E] iOS Programming : $5.50\n",
    "[E] iPhone Application Development for Dummies : $5.50\n",
    "[B] The 'A'rt of Computing : $0.80\n",
    "Total overdue payable: $12.60\n",
    "```\n",
    "\n",
    "### Evidence 41\n",
    "Program code for Task 3.4. <div style=\"text-align: right\">[7]</div>\n",
    "\n",
    "### Evidence 42\n",
    "Screenshots for annotated test cases. <div style=\"text-align: right\">[2]</div>"
   ]
  },
  {
   "cell_type": "code",
   "execution_count": null,
   "metadata": {},
   "outputs": [],
   "source": [
    "#YOUR_CODE_HERE"
   ]
  },
  {
   "cell_type": "markdown",
   "metadata": {},
   "source": [
    "### Task 43\n",
    "It is proposed to store the loan information inside a queue data structure using an array.\n",
    "\n",
    "Write program code to insert the `LOAN.dat` records into an object of the `Queue` class. Display the contents of your queue object. Assume maximum size of the array is 30.\n",
    "\n",
    "### Evidence 44\n",
    "Program code for Task 3.5. <div style=\"text-align: right\">[4]</div>\n",
    "\n",
    "### Evidence 45\n",
    "Screenshot of output. <div style=\"text-align: right\">[1]</div>"
   ]
  },
  {
   "cell_type": "code",
   "execution_count": null,
   "metadata": {},
   "outputs": [],
   "source": [
    "#YOUR_CODE_HERE"
   ]
  },
  {
   "cell_type": "markdown",
   "metadata": {},
   "source": [
    "### Task 46\n",
    "Write program code to process all loan records in the queue object and display summary information at the end of each transaction and also update the `Status` field in the item information stored in the binary search tree. In particular, your program should \n",
    "- loop through and dequeue all queue items while processing \n",
    "- if transaction is a loan, traverse bst to update status to unavailable ('U') and output item loaned message\n",
    "- if transaction is a renew, output item renewed message\n",
    "- if transaction is a return, traverse bst to update status to available ('A') and output item returned message\n",
    "- for renew and return transactions, adapt code for Task 3.4 to compute overdue fine payable\n",
    "- inorder traversal to output item id, type, title and updated status\n",
    "\n",
    "### Evidence 47\n",
    "Program code for Task 3.6. <div style=\"text-align: right\">[6]</div>\n",
    "\n",
    "### Evidence 48\n",
    "Screenshots for\n",
    "- transaction summary\n",
    "- verifying updated item status <div style=\"text-align: right\">[2]</div>"
   ]
  },
  {
   "cell_type": "code",
   "execution_count": null,
   "metadata": {},
   "outputs": [],
   "source": [
    "#YOUR_CODE_HERE"
   ]
  }
 ],
 "metadata": {
  "kernelspec": {
   "display_name": "Python 3.10.2 64-bit",
   "language": "python",
   "name": "python3"
  },
  "language_info": {
   "codemirror_mode": {
    "name": "ipython",
    "version": 3
   },
   "file_extension": ".py",
   "mimetype": "text/x-python",
   "name": "python",
   "nbconvert_exporter": "python",
   "pygments_lexer": "ipython3",
   "version": "3.10.2 (tags/v3.10.2:a58ebcc, Jan 17 2022, 14:12:15) [MSC v.1929 64 bit (AMD64)]"
  },
  "orig_nbformat": 2,
  "vscode": {
   "interpreter": {
    "hash": "a42ccb73e7d9bfdf27e036f1d2b8b681e55fc0743cc5586bc2474d4a60f4b886"
   }
  }
 },
 "nbformat": 4,
 "nbformat_minor": 2
}
