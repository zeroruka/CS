{
 "cells": [
  {
   "attachments": {},
   "cell_type": "markdown",
   "metadata": {},
   "source": [
    "# Exercise 7\n",
    "\n",
    "Related Notes:\n",
    "- Chapter_03_Data_Structures\n",
    "- Chapter_04_Functions\n",
    "\n",
    "For questions 7.1, 7.2 and 7.6, you are to implement both :\n",
    "- an **iterative version**, and \n",
    "- a **recursive version** \n",
    "of the function specified.\n",
    "\n",
    "Please decide on your own function name.\n",
    "\n",
    "[![Open In Colab](https://colab.research.google.com/assets/colab-badge.svg)](https://colab.research.google.com/github/njc-cz2-2021/Materials/blob/main/Exercises/Exercise-07-Dictionary_and_Set.ipynb) "
   ]
  },
  {
   "cell_type": "markdown",
   "metadata": {},
   "source": [
    "## Exercise 7.1\n",
    "\n",
    "Write a function that takes in a positive integer, $n$, and returns `True` if $n$ is a prime number and `False` if it's not.\n",
    "\n",
    "**Example Interaction**\n",
    ">```\n",
    ">your_function(7)\n",
    ">True\n",
    ">your_function(9)\n",
    ">False\n",
    ">```"
   ]
  },
  {
   "cell_type": "code",
   "execution_count": 2,
   "metadata": {},
   "outputs": [
    {
     "name": "stdout",
     "output_type": "stream",
     "text": [
      "False\n"
     ]
    }
   ],
   "source": [
    "def check_prime(n):\n",
    "    if n == 1:\n",
    "        return False\n",
    "    for i in range(2, n):\n",
    "        if n % i == 0:\n",
    "            return False\n",
    "    return True\n",
    "\n",
    "print(check_prime(8))"
   ]
  },
  {
   "cell_type": "markdown",
   "metadata": {},
   "source": [
    "## Exercise 7.2\n",
    "\n",
    "Write a function that takes in a positive integer $n$, and prints outs the digits in English word form. For example, when given as input: `3214`, the function should print: `three two one four` in one line.\n",
    "\n",
    "**Example Interaction**\n",
    ">```\n",
    ">your_function(3214)\n",
    ">three two one four\n",
    ">```"
   ]
  },
  {
   "cell_type": "code",
   "execution_count": 3,
   "metadata": {},
   "outputs": [
    {
     "name": "stdout",
     "output_type": "stream",
     "text": [
      "three two one four "
     ]
    }
   ],
   "source": [
    "def convert_to_english(n):\n",
    "    english = {1: \"one\", 2: \"two\", 3: \"three\", 4: \"four\", 5: \"five\", 6: \"six\", 7: \"seven\", 8: \"eight\", 9: \"nine\"}\n",
    "    for i in str(n):\n",
    "        print(english[int(i)], end=\" \")\n",
    "\n",
    "convert_to_english(3214)"
   ]
  },
  {
   "cell_type": "markdown",
   "metadata": {},
   "source": [
    "## Exercise 7.3\n",
    "\n",
    "There are 5 usernames with their respective password. \n",
    "* user1: password1\n",
    "* user2: password2\n",
    "* user3: password3\n",
    "\n",
    "Implement a script such that:\n",
    "\n",
    "1. Use a suitable data structure to store usernames and passwords,\n",
    "2. User enters username and password\n",
    "3. Check user username and password\n",
    "    * If username does not exists, print \"User not found\"\n",
    "    * if username exists, but password doesn't match, print \"Wrong password\"\n",
    "    * If both username and password match, print \"You are in\"\n",
    "\n",
    "\n",
    "**Example Interaction**\n",
    ">```\n",
    ">Enter username: user10\n",
    ">Enter password: pass10\n",
    ">User not found\n",
    ">\n",
    ">Enter username: user1\n",
    ">Enter password: pass1\n",
    ">Wrong password\n",
    ">\n",
    ">Enter username: user1\n",
    ">Enter password: password1\n",
    ">You are in\n",
    ">```"
   ]
  },
  {
   "cell_type": "code",
   "execution_count": 8,
   "metadata": {},
   "outputs": [
    {
     "name": "stdout",
     "output_type": "stream",
     "text": [
      "{'username': 'user1', 'password': b'$2b$12$BQpIje8NQfN.8vQfrweaIeYLvScgCLxwzTcgSIcU3l.A0EDVN2eJK'}\n",
      "You are in\n"
     ]
    }
   ],
   "source": [
    "import bcrypt\n",
    "\n",
    "username = \"user1\"\n",
    "password = b\"123456\"\n",
    "salt = bcrypt.gensalt()\n",
    "hashed_password = bcrypt.hashpw(password, salt)\n",
    "\n",
    "# Store the salt and hashed password in a dictionary\n",
    "user = {\n",
    "    \"username\": username,\n",
    "    \"password\": hashed_password\n",
    "}\n",
    "print(user)\n",
    "\n",
    "user_input = input(\"Enter username: \")\n",
    "if user_input == user[\"username\"]:\n",
    "    password_input = input(\"Enter password: \")\n",
    "    if bcrypt.checkpw(password_input.encode(), user[\"password\"]):\n",
    "        print(\"You are in\")\n",
    "    else:\n",
    "        print(\"Wrong password\")\n",
    "else:\n",
    "    print(\"User not found\")"
   ]
  },
  {
   "cell_type": "markdown",
   "metadata": {},
   "source": [
    "## Exercise 7.4\n",
    "\n",
    "The winning number of Toto this week is `7, 20, 29, 41, 47, 49`. Implement a script to help user check result. \n",
    "* Define a function `match_count(win_nums, your_nums)` which returns the number of matched numbers. It takes in 2 lists as parameters, `win_nums` and `your_num`. The `winning_nums` contains winnning numbers, and `your_nums` contains number enters by user.\n",
    "* Ask user to input a list of numbers separated by space ` `.\n",
    "\n",
    "You probably need to use the `str.split()` method for this question. Use `help(str.split)` or search online. \n",
    "\n",
    "**Example Interaction**\n",
    ">```\n",
    ">Enter your Toto numbers separated by space: \n",
    ">1 7 20 29 41 47 49 50\n",
    ">Count of matched numbers:  6\n",
    ">```"
   ]
  },
  {
   "cell_type": "code",
   "execution_count": 13,
   "metadata": {},
   "outputs": [
    {
     "name": "stdout",
     "output_type": "stream",
     "text": [
      "['7', '20', '29', '41', '47', '49', '50']\n",
      "Count of matched numbers:  6\n"
     ]
    }
   ],
   "source": [
    "winning_nums = [7, 20, 29, 41, 47, 49]\n",
    "user_input = input(\"Enter your Toto numbers separated by space: \")\n",
    "user_nums = user_input.split(\" \")\n",
    "print(user_nums)\n",
    "\n",
    "def match_count(win_nums, your_nums):\n",
    "    count = 0\n",
    "    for i in your_nums:\n",
    "        if int(i) in win_nums:\n",
    "            count += 1\n",
    "    return count\n",
    "\n",
    "print(\"Count of matched numbers: \", match_count(winning_nums, user_nums))"
   ]
  },
  {
   "cell_type": "markdown",
   "metadata": {},
   "source": [
    "## Exercise 7.5 Greatest Common Divisor\n",
    "\n",
    "Let $a$ be an integer. A **divisor** of $a$, also called a **factor** of $a$ is an integer $r$ such that there exists an integer $m$ such that $mr=a$. For example, if $a=20$, then $2$ and $5$ are both divisors of $a$ as $2\\times 10=20$ and $5 \\times 4=20$.\n",
    "\n",
    "Write a function that takes in a positive integer $n$, and return a list of all positive integers that is the divisor of $n$.\n",
    "\n",
    "**Example Interaction**\n",
    ">```\n",
    ">your_function(20)\n",
    ">[1,2,4,5,10,20]\n",
    ">```\n",
    "\n",
    "Let $a$ and $b$ be positive integers. A **common divisor** of $a$ and $b$ is a positive integer $r$ such that there exists positive integers $m_1,m_2$ such that $a=m_1*r$ and $b=m_2*r$. The highest of such integer is called the **greatest of common divisor of $a$ and $b$**, denoted as $\\gcd(a,b)$.\n",
    "\n",
    "Using the function you have defined previously, Write a function `gcd` that takes in 2 positive integer $a$ and $b$, and return the greatest common divisor of $a$ and $b$. \n",
    "\n",
    "**Example Interaction**\n",
    ">```\n",
    ">gcd(4,10)\n",
    ">2\n",
    ">```"
   ]
  },
  {
   "cell_type": "code",
   "execution_count": 20,
   "metadata": {},
   "outputs": [
    {
     "name": "stdout",
     "output_type": "stream",
     "text": [
      "[1, 2, 4, 5, 10, 20]\n",
      "500\n"
     ]
    }
   ],
   "source": [
    "def get_divisors(n):\n",
    "    divisors = []\n",
    "    for i in range(1, n+1):\n",
    "        if n % i == 0:\n",
    "            divisors.append(i)\n",
    "    return divisors\n",
    "\n",
    "print(get_divisors(20))\n",
    "\n",
    "def gcd(a, b):\n",
    "    divisors_a = get_divisors(a)\n",
    "    divisors_b = get_divisors(b)\n",
    "    common_divisors = []\n",
    "    for i in divisors_a:\n",
    "        if i in divisors_b:\n",
    "            common_divisors.append(i)\n",
    "    return max(common_divisors)\n",
    "\n",
    "print(gcd(500,1000))"
   ]
  },
  {
   "cell_type": "markdown",
   "metadata": {},
   "source": [
    "## Exercise 7.6 Euclidean Algorithm\n",
    "\n",
    "A more efficient method to compute the greatest common divisor of two integers $a$ and $b$ is by using the Euclidean algorithm. It is based on the principle that the greatest common divisor of two numbers does not change if the larger number is replaced by its difference with the smaller number. For example,\n",
    "\n",
    "$$\n",
    "\\begin{align*}\n",
    "\\gcd(252,105)&=21\\\\ \n",
    "&=\\gcd(252-2(105)=42,105)\\\\\n",
    "&=\\gcd(42,105-2(42)=21)\\\\\n",
    "&=\\gcd(42,21)\n",
    "\\end{align*}\n",
    "$$\n",
    "\n",
    "In particular, assume $a>b$, then by Division Algorithm, there exists $q\\in \\mathbb{Z}$ such that $a=qb+r$, where $0\\leq r<b$. Then, \n",
    "$$\n",
    "\\begin{align*}\n",
    "\\gcd(a,b)&=\\gcd(a-qb,b)\\\\\n",
    "&=\\gcd(r,b).\n",
    "\\end{align*}\n",
    "$$\n",
    "\n",
    "Write a function that takes in 2 positive integer $a$ and $b$, and return the greatest common divisor of $a$ and $b$.\n",
    "\n",
    "**Example Interaction**\n",
    ">```\n",
    ">your_function(4,10)\n",
    ">2\n",
    ">```"
   ]
  },
  {
   "cell_type": "code",
   "execution_count": 22,
   "metadata": {},
   "outputs": [
    {
     "name": "stdout",
     "output_type": "stream",
     "text": [
      "500\n"
     ]
    }
   ],
   "source": [
    "def gcd(a, b):\n",
    "    if a == b:\n",
    "        return a\n",
    "    elif a > b:\n",
    "        return gcd(a-b, b)\n",
    "    else:\n",
    "        return gcd(a, b-a)\n",
    "\n",
    "print(gcd(500,1000))"
   ]
  },
  {
   "cell_type": "markdown",
   "metadata": {},
   "source": [
    "## Exercise 7.7\n",
    "Write a function that takes in a list of positive integers, $N$, and returns the greatest common divisor (i.e., the highest common factor) of all integers in $N$."
   ]
  },
  {
   "cell_type": "code",
   "execution_count": 36,
   "metadata": {},
   "outputs": [
    {
     "data": {
      "text/plain": "4"
     },
     "execution_count": 36,
     "metadata": {},
     "output_type": "execute_result"
    }
   ],
   "source": [
    "def gcd(a, b):\n",
    "    if a == b:\n",
    "        return a\n",
    "    elif a > b:\n",
    "        return gcd(a-b, b)\n",
    "    else:\n",
    "        return gcd(a, b-a)\n",
    "\n",
    "def gcd_list(N):\n",
    "    if len(N) == 1:\n",
    "        return N[0]\n",
    "    else:\n",
    "        return gcd(N[0], gcd_list(N[1:]))\n",
    "\n",
    "gcd_list([4, 10, 20, 30, 40])"
   ]
  }
 ],
 "metadata": {
  "kernelspec": {
   "display_name": "Python 3",
   "language": "python",
   "name": "python3"
  },
  "language_info": {
   "codemirror_mode": {
    "name": "ipython",
    "version": 3
   },
   "file_extension": ".py",
   "mimetype": "text/x-python",
   "name": "python",
   "nbconvert_exporter": "python",
   "pygments_lexer": "ipython3",
   "version": "3.10.2 (tags/v3.10.2:a58ebcc, Jan 17 2022, 14:12:15) [MSC v.1929 64 bit (AMD64)]"
  },
  "orig_nbformat": 2,
  "vscode": {
   "interpreter": {
    "hash": "a42ccb73e7d9bfdf27e036f1d2b8b681e55fc0743cc5586bc2474d4a60f4b886"
   }
  }
 },
 "nbformat": 4,
 "nbformat_minor": 2
}
