{
 "cells": [
  {
   "attachments": {},
   "cell_type": "markdown",
   "metadata": {},
   "source": [
    "# Exercise 1\n",
    "\n",
    "Related Notes:\n",
    "- Chapter_01_Data_Types\n",
    "- Chapter_02_Programming_Constructs\n",
    "\n",
    "[![Open In Colab](https://colab.research.google.com/assets/colab-badge.svg)](https://colab.research.google.com/github/njc-cz2-2021/Materials/blob/main/Exercises/Exercise-01-Input-For-While.ipynb)"
   ]
  },
  {
   "cell_type": "markdown",
   "metadata": {},
   "source": [
    "# Exercise 1.1 Unit Converter\n",
    " \n",
    "Write a program that helps the user to convert a given quantity from one unit of (distance, area or volume) measurement to another. \n",
    " \n",
    "The problem: \n",
    "-\tRequest a quantity from the user. \n",
    "-\tHave the user specify if the quantity is a `length`, `area` or `volume`.\n",
    "-\tHave the user select the base unit of measurement from the following list: \n",
    "    - `mm`, \n",
    "    - `cm`, \n",
    "    - `m`, or \n",
    "    - `km`. \n",
    "-\tThen have the user select the desired base unit of measurement that the given quantity should be converted to. \n",
    "-\tPrint out converted quantity (including the new unit of measurement). \n",
    " \n",
    "Example interaction: \n",
    "\n",
    ">Input a quantity: 10 <br>\n",
    ">Select either length, area or volume: area <br>\n",
    ">Select the base unit of measurement (m, cm, m, km) : m <br>\n",
    ">Select which base unit of measurement to convert to (mm, cm, m, km) : cm <br>\n",
    ">10 m^2 = 100000 cm^2 \n",
    "\n"
   ]
  },
  {
   "cell_type": "code",
   "execution_count": 1,
   "metadata": {},
   "outputs": [
    {
     "name": "stdout",
     "output_type": "stream",
     "text": [
      "Invalid input!\n",
      "Invalid input!\n",
      "Invalid input!\n",
      "Invalid input!\n",
      "3.0 cm = 0.03 m\n"
     ]
    }
   ],
   "source": [
    "acceptableUnits = [\"mm\", \"cm\", \"m\", \"km\"]\n",
    "quantity = 0\n",
    "\n",
    "def convert_length(value, original, new) -> str:\n",
    "    conversion_factor = {'mm':0.001, 'cm':0.01, 'm':1, 'km':1000}\n",
    "    return f\"{value} {original} = {value * conversion_factor[original] / conversion_factor[new]} {new}\"\n",
    "\n",
    "def convert_area(value, original, new) -> str:\n",
    "    conversion_factor = {'mm':0.000001, 'cm':0.0001, 'm':1, 'km':1000000}\n",
    "    return f\"{value} {original}^2 = {value * conversion_factor[original] / conversion_factor[new]} {new}^2\"\n",
    "\n",
    "def convert_volume(value, original, new) -> str:\n",
    "    conversion_factor = {'mm':0.000000001, 'cm':0.000001, 'm':1, 'km':1000000000}\n",
    "    return f\"{value} {original}^3 = {value * conversion_factor[original] / conversion_factor[new]} {new}^3\"\n",
    "\n",
    "\n",
    "while True:\n",
    "    try:\n",
    "        quantity = float(input(\"Input a quantity: \"))\n",
    "        break\n",
    "    except ValueError:\n",
    "        print(\"Invalid quantity!\")\n",
    "        continue\n",
    "\n",
    "while True:\n",
    "    unit = input(\"Select either length, area or volume: \")\n",
    "    if unit in [\"length\", \"area\", \"volume\"]:\n",
    "        break\n",
    "    else:\n",
    "        print(\"Invalid input!\")\n",
    " \n",
    "while True:\n",
    "    originalUnit = input(\"Select the base unit of measurement (mm, cm, m, km): \")\n",
    "    if originalUnit in acceptableUnits:\n",
    "        break\n",
    "    else:\n",
    "        print(\"Invalid unit!\")\n",
    "\n",
    "while True:\n",
    "    newUnit = input(\"Select which base unit of measurement to convert to (mm, cm, m, km): \")\n",
    "    if newUnit in acceptableUnits:\n",
    "        break\n",
    "    else:\n",
    "        print(\"Invalid unit!\")\n",
    "\n",
    "if unit == \"length\":\n",
    "    print(convert_length(quantity, originalUnit, newUnit))\n",
    "elif unit == \"area\":\n",
    "    print(convert_area(quantity, originalUnit, newUnit))\n",
    "else:\n",
    "    print(convert_volume(quantity, originalUnit, newUnit))\n"
   ]
  },
  {
   "cell_type": "markdown",
   "metadata": {},
   "source": [
    "# Exercise 1.2\n",
    "\n",
    "In mathematics, an **arithmetic sequence** is a sequence of real numbers\n",
    "$$u_1,u_2,\\cdots, u_n$$\n",
    "such that the difference between two consecutive terms is constant, i.e. $u_{n+1}-u_n=d$ for some constant $d\\in \\mathbb{R}$, called the **common difference** and $n\\geq 1$.\n",
    "\n",
    "For example, the sequence $2,5,8,11,14,\\dots$ is an arithmetic sequence with first term $2$ and common difference $3$.\n",
    "\n",
    "Write a program to generate the first $n$ terms of an arithmetic sequence with a user defined first term $a$ and common difference $d$.\n",
    "\n",
    "The problem: \n",
    "- Request a numeric input from the user to be used as the first term.  Let us denote this input as `first_term`.\n",
    "- Request a numeric input from the user to be used as the common difference.  Let us denote this input as `common_difference`.\n",
    "- Request an integer input from the user for the number of terms.  Let us denote this input as `number_of_terms`.\n",
    "- Print out the sequence up to the $n$th term.\n",
    "\n",
    "Example interaction: \n",
    "\n",
    ">Please input the first term in the arithmetic sequence:<br>\n",
    ">2<br>\n",
    ">Please input the common difference:<br>\n",
    ">3<br>\n",
    ">Please input the number of terms:<br>\n",
    ">5<br>\n",
    ">The first 5 terms of the arithmetic sequence are:<br>\n",
    ">2<br>\n",
    ">5<br>\n",
    ">8<br>\n",
    ">11<br>\n",
    ">14<br>"
   ]
  },
  {
   "cell_type": "code",
   "execution_count": 1,
   "metadata": {},
   "outputs": [
    {
     "name": "stdout",
     "output_type": "stream",
     "text": [
      "The first 10 terms of the sequence are:\n",
      "3\n",
      "24\n",
      "45\n",
      "66\n",
      "87\n",
      "108\n",
      "129\n",
      "150\n",
      "171\n",
      "192\n"
     ]
    }
   ],
   "source": [
    "first_term = int(input(\"Enter the first term of the sequence: \"))\n",
    "common_difference = int(input(\"Enter the common difference of the sequence: \"))\n",
    "number_of_terms = int(input(\"Enter the number of terms in the sequence: \"))\n",
    "\n",
    "print(f\"The first {number_of_terms} terms of the sequence are:\")\n",
    "for i in range(number_of_terms):\n",
    "    print(first_term + i * common_difference)\n"
   ]
  },
  {
   "cell_type": "markdown",
   "metadata": {},
   "source": [
    "# Exercise 1.3\n",
    "\n",
    "Given an arithmetic sequence with first term $a$ and common difference $d$.\n",
    "\n",
    "Write a program that:\n",
    "- Request a numeric input from the user to be used as the first term.  Let us denote this input as `first_term`.\n",
    "- Request a numeric input from the user to be used as the common difference.  Let us denote this input as `common_difference`.\n",
    "- Request an integer input from the user for the index for the term in the sequence.  Let us denote this input as `n`.\n",
    "- Print out the $n$th term in the sequence.\n",
    "- Print out the sum of the first $n$ terms in the sequence.\n",
    "\n",
    "Example interaction: \n",
    "\n",
    ">Please input the first term in the arithmetic sequence:<br>\n",
    ">2<br>\n",
    ">Please input the common difference:<br>\n",
    ">3<br>\n",
    ">Please input the index :<br>\n",
    ">5<br>\n",
    ">The 5th term in the sequence is:<br>\n",
    ">14<br>\n",
    ">The sum of the first 5 terms in the sequence is:<br>\n",
    ">40<br>"
   ]
  },
  {
   "cell_type": "code",
   "execution_count": 10,
   "metadata": {},
   "outputs": [
    {
     "name": "stdout",
     "output_type": "stream",
     "text": [
      "The 43th term in the sequence is:\n",
      "13150\n",
      "The sum of the first 43 terms in the sequence is:\n",
      "282811\n"
     ]
    }
   ],
   "source": [
    "first_term = int(input(\"Enter the first term of the sequence: \"))\n",
    "common_difference = int(input(\"Enter the common difference of the sequence: \"))\n",
    "n = int(input(\"Enter the number of terms in the sequence: \"))\n",
    "\n",
    "print(f\"The {n}th term in the sequence is:\")\n",
    "print(first_term + (n - 1) * common_difference)\n",
    "\n",
    "print(f\"The sum of the first {n} terms in the sequence is:\")\n",
    "print((2 * first_term + (n - 1) * common_difference) * n // 2)"
   ]
  },
  {
   "cell_type": "markdown",
   "metadata": {},
   "source": [
    "# Exercise 1.4\n",
    "\n",
    "An arithmetic sequence $u_1, u_2, u_3, \\cdots$ is defined by $u_r=3r-1$ for $r\\in \\mathbb{Z}^{+}$. Find the least value of $n$ such that $u_3+u_6+u_9+\\cdots+u_n$ exceeds $1700$, where $n$ is a multiple of 3. "
   ]
  },
  {
   "cell_type": "code",
   "execution_count": 1,
   "metadata": {},
   "outputs": [
    {
     "name": "stdout",
     "output_type": "stream",
     "text": [
      "60\n"
     ]
    }
   ],
   "source": [
    "def calculate_u(n):\n",
    "    return 3 * n - 1\n",
    "\n",
    "# Add all the values of u that are multiples of 3\n",
    "sum = 0\n",
    "n = 1\n",
    "while True:\n",
    "    if n % 3 == 0:\n",
    "        sum += calculate_u(n)\n",
    "    if sum > 1700:\n",
    "        print(n)\n",
    "        break\n",
    "    n += 1\n",
    "\n"
   ]
  },
  {
   "attachments": {},
   "cell_type": "markdown",
   "metadata": {},
   "source": [
    "# Exercise 1.5 2012/GCE A-Level/P2/Q4(i) H2 Mathematics\n",
    "\n",
    "On 1 January 2001 Mrs $A$ put &#36;100 into a bank account, and on the first day of each subsequent month she put in &#36;10 more than in the previous month. Thus on 1 February she put &#36;110 into the account and on 1 March she put &#36;120 into the account, and so on. The account pays no interest.\n",
    "\n",
    "On what date did the value of Mrs $A$'s account first become greater than &#36;5000?"
   ]
  },
  {
   "cell_type": "code",
   "execution_count": 62,
   "metadata": {},
   "outputs": [
    {
     "name": "stdout",
     "output_type": "stream",
     "text": [
      "1 December 2003\n",
      "Total: 5160\n",
      "Month: 24\n"
     ]
    }
   ],
   "source": [
    "\n",
    "def calculate_value(month):\n",
    "    return 100 + 10 * (month - 1)\n",
    "\n",
    "LARGEST_VALUE = 5000\n",
    "\n",
    "total = 0\n",
    "month = 1\n",
    "date = {1: \"January\", 2: \"February\", 3: \"March\", 4: \"April\", 5: \"May\", 6: \"June\", 7: \"July\", 8: \"August\", 9: \"September\", 10: \"October\", 11: \"November\", 0: \"December\"}\n",
    "while True:\n",
    "    total += calculate_value(month)\n",
    "    if total > LARGEST_VALUE:\n",
    "        print(f\"1 {date[month % 12]} {month // 12 + 2001}\")\n",
    "        print(f\"Total: {total}\")\n",
    "        print(f\"Month: {month}\")\n",
    "        break\n",
    "    month += 1\n"
   ]
  }
 ],
 "metadata": {
  "kernelspec": {
   "display_name": "Python 3",
   "language": "python",
   "name": "python3"
  },
  "language_info": {
   "codemirror_mode": {
    "name": "ipython",
    "version": 3
   },
   "file_extension": ".py",
   "mimetype": "text/x-python",
   "name": "python",
   "nbconvert_exporter": "python",
   "pygments_lexer": "ipython3",
   "version": "3.11.2"
  },
  "orig_nbformat": 2,
  "vscode": {
   "interpreter": {
    "hash": "60855ee8413297aa0e796b047426e025b22aa5778f11de92393d547f6abc42b9"
   }
  }
 },
 "nbformat": 4,
 "nbformat_minor": 2
}
