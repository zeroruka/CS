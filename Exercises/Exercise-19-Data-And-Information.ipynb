{
 "cells": [
  {
   "attachments": {},
   "cell_type": "markdown",
   "metadata": {},
   "source": [
    "# Exercise 19\n",
    "\n",
    "Related Notes :\n",
    "- Fundamentals_13-Data_And_Information"
   ]
  },
  {
   "cell_type": "markdown",
   "metadata": {},
   "source": [
    "## Exercise 18.1 2016/A Level/P1/Q4 H2 Computing\n",
    "\n",
    "Numbers in Computing are often represented in hexadecimal form.\n",
    "A program is required to convert a hexadecimal number into a denary number and vice versa.\n",
    "\n",
    "### Task 1\n",
    "Write program code with the following specification:\n",
    "- Input a hexadecimal number as a string\n",
    "- Validate the input\n",
    "- Calculate the denary value of each hexadecimal digit (write this code as a function)\n",
    "- Calculate the denary value of the hexadecimal number input\n",
    "- Output the denary value.\n",
    "\n",
    "### Evidence \n",
    "Your program code. \n",
    "<div style=\"text-align: right\">[10]</div>"
   ]
  },
  {
   "cell_type": "code",
   "execution_count": 21,
   "metadata": {},
   "outputs": [
    {
     "name": "stdout",
     "output_type": "stream",
     "text": [
      "2587\n",
      "Invalid hexadecimal number\n"
     ]
    }
   ],
   "source": [
    "def hex_digit_to_denary(hex_digit):\n",
    "    if '0' <= hex_digit <= '9':\n",
    "        return int(hex_digit)\n",
    "    elif 'A' <= hex_digit <= 'F':\n",
    "        return 10 + ord(hex_digit) - ord('A')\n",
    "    else:\n",
    "        raise ValueError(f\"Invalid hexadecimal digit: {hex_digit}\")\n",
    "\n",
    "def hex_to_denary(hex_string):\n",
    "    hex_string = hex_string.upper()\n",
    "    if not all('0' <= digit <= 'F' for digit in hex_string):\n",
    "        return \"Invalid hexadecimal number\"\n",
    "    denary_value = sum(16**i * hex_digit_to_denary(digit) for i, digit in enumerate(reversed(hex_string)))\n",
    "    return denary_value\n",
    "\n",
    "print(hex_to_denary('A1B'))  # Outputs: 2587\n",
    "\n",
    "print(hex_to_denary('GHI'))  # Outputs: Invalid hexadecimal number\n"
   ]
  },
  {
   "cell_type": "markdown",
   "metadata": {},
   "source": [
    "### Task 2\n",
    "Draw up a list of three suitable test cases. Complete a table with the following headings:\n",
    "\n",
    "<center>\n",
    "\n",
    "| Hexadecimal | Purpose of the test | Expected Output | \n",
    "|-|-|-|\n",
    "| |||\n",
    "| |||\n",
    "| |||\n",
    "\n",
    "</center>\n",
    "\n",
    "Provide screenshot evidence for your testing.\n",
    "\n",
    "### Evidence \n",
    "The completed table.\n",
    "Screenshots for each test data run. \n",
    "<div style=\"text-align: right\">[5]</div>\n"
   ]
  },
  {
   "cell_type": "markdown",
   "metadata": {},
   "source": [
    "\n",
    "\n"
   ]
  },
  {
   "cell_type": "code",
   "execution_count": 2,
   "metadata": {},
   "outputs": [
    {
     "name": "stdout",
     "output_type": "stream",
     "text": [
      "2587\n"
     ]
    }
   ],
   "source": [
    "print(hex_to_denary('A1B'))"
   ]
  },
  {
   "cell_type": "markdown",
   "metadata": {},
   "source": [
    "### Task 3\n",
    "Write additional code to convert a denary number into a hexadecimal number. ,\n",
    "\n",
    "### Evidence\n",
    "Your program code. \n",
    "<div style=\"text-align: right\">[10]</div>"
   ]
  },
  {
   "cell_type": "code",
   "execution_count": 4,
   "metadata": {},
   "outputs": [
    {
     "name": "stdout",
     "output_type": "stream",
     "text": [
      "2779FE\n"
     ]
    }
   ],
   "source": [
    "def denary_to_hex(denary):\n",
    "    hex_string = hex(denary)[2:]\n",
    "    return hex_string.upper()\n",
    "\n",
    "print(denary_to_hex(2587))  # Outputs: A1B"
   ]
  },
  {
   "cell_type": "markdown",
   "metadata": {},
   "source": [
    "## Exercise 19.2 2019/A Level/P1/Q2 H2 Computing\n",
    "\n",
    "Characters are numerically encoded using ASCII codes.\n",
    "- 'A' has the denary value 65; ‘B' has the denary value 66 and so on.\n",
    "- 'a' has the denary value 97; 'b' has the denary value 98 and so on.\n",
    "\n",
    "The ROT-13 encoding function replaces a letter with the letter that is 13 positions after it in the alphabet. Characters that are not letters remain unchanged. \n",
    "\n",
    "The function wraps around from the end of the alphabet back to the beginning. The case of the coded letter should match the case of the original letter.\n",
    "For example:\n",
    "- 'A' is replaced with 'N'; 'a' is replaced with 'n'\n",
    "- 'B' is replaced with 'O'; 'b' is replaced with 'o' \n",
    "- 'Z' is replaced with 'M'; 'z' is replaced with 'm'\n",
    "\n",
    "### Task 4\n",
    "Write program code that:\n",
    "- reads a string of characters as input\n",
    "- encodes the string in ROT-13 form\n",
    "- outputs the encoded string.\n",
    "\n",
    "Run the program **three** times with the inputs:\n",
    "\n",
    ">```\n",
    ">This is a word.\n",
    ">ALL &&&& CAPITALS\n",
    ">UpperCamelCasel2()\n",
    ">```\n",
    "\n",
    "### Evidence \n",
    "Your program code.\n",
    "\n",
    "Screenshots of your program outputs.\n",
    "<div style=\"text-align: right\">[9]</div>"
   ]
  },
  {
   "cell_type": "code",
   "execution_count": 5,
   "metadata": {},
   "outputs": [
    {
     "name": "stdout",
     "output_type": "stream",
     "text": [
      "Guvf vf n jbeq.\n",
      "NYY &&&& PNCVGNYF\n",
      "HccrePnzryPnfry2()\n"
     ]
    }
   ],
   "source": [
    "def rot13(input_string):\n",
    "    result = ''\n",
    "    for char in input_string:\n",
    "        if char.isalpha():\n",
    "            ascii_offset = 65 if char.isupper() else 97\n",
    "            result += chr((ord(char) - ascii_offset + 13) % 26 + ascii_offset)\n",
    "        else:\n",
    "            result += char\n",
    "    return result\n",
    "\n",
    "print(rot13('This is a word.'))\n",
    "print(rot13('ALL &&&& CAPITALS'))\n",
    "print(rot13('UpperCamelCasel2()'))\n"
   ]
  },
  {
   "cell_type": "markdown",
   "metadata": {},
   "source": [
    "### Task 5\n",
    "A string is encoded using ROT-13 encoding (https://en.wikipedia.org/wiki/ROT13). The resulting string is then again encoded using ROT-13 another time. The output of the second encoding should be identical to the original string.\n",
    "\n",
    "Amend your program code to apply ROT-13 twice, in the method described. Show that the resulting string is identical to the original string.\n",
    "\n",
    "### Evidence \n",
    "Your program code. \n",
    "Screenshot of the output from **one** of the given inputs.\n",
    "<div style=\"text-align: right\">[3]</div>"
   ]
  },
  {
   "cell_type": "code",
   "execution_count": 6,
   "metadata": {},
   "outputs": [
    {
     "name": "stdout",
     "output_type": "stream",
     "text": [
      "True\n"
     ]
    }
   ],
   "source": [
    "\n",
    "# Test input\n",
    "test_string = 'This is a word.'\n",
    "\n",
    "# Apply ROT-13 twice\n",
    "encoded_string = rot13(rot13(test_string))\n",
    "\n",
    "# Check if the encoded string is the same as the original string\n",
    "print(encoded_string == test_string)"
   ]
  },
  {
   "cell_type": "markdown",
   "metadata": {},
   "source": [
    "## Exercise 19.3 2023/A Level/P1/Q7 H2 Computing\n",
    "A pharmacy dispenses medicine prescribed by a doctor. It has a computer system that stores data about its customers including: name, address, date of birth, list of medicines dispensed and the date when each medicine was dispensed.\n",
    "\n",
    "Describe how the pharmacy can make sure that the data stored complies with the Personal Data Protection Act in Singapore. \n",
    "<div style=\"text-align: right\">[4]</div>"
   ]
  },
  {
   "cell_type": "code",
   "execution_count": null,
   "metadata": {},
   "outputs": [],
   "source": [
    "#YOUR_ANSWER_HERE\n"
   ]
  }
 ],
 "metadata": {
  "interpreter": {
   "hash": "dcacb0086e9a4f4eabd41c33bf4faac5ea0a3337ed3f5eff0680afa930572c04"
  },
  "kernelspec": {
   "display_name": "Python 3.9.1 64-bit",
   "name": "python3"
  },
  "language_info": {
   "codemirror_mode": {
    "name": "ipython",
    "version": 3
   },
   "file_extension": ".py",
   "mimetype": "text/x-python",
   "name": "python",
   "nbconvert_exporter": "python",
   "pygments_lexer": "ipython3",
   "version": "3.11.2"
  },
  "orig_nbformat": 2
 },
 "nbformat": 4,
 "nbformat_minor": 2
}
