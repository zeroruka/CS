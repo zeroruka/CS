{
 "cells": [
  {
   "attachments": {},
   "cell_type": "markdown",
   "metadata": {},
   "source": [
    "# Exercise 3\n",
    "\n",
    "Related Notes:\n",
    "- Chapter_02_Programming_Constructs\n",
    "- Chapter_03_Data_Structures\n",
    "\n",
    "[![Open In Colab](https://colab.research.google.com/assets/colab-badge.svg)](https://colab.research.google.com/github/njc-cz2-2021/Materials/blob/main/Exercises/Exercise-03-List.ipynb) "
   ]
  },
  {
   "cell_type": "markdown",
   "metadata": {},
   "source": [
    "## Exercise 3.1 Dude, What's my Index?\n",
    "\n",
    "Consider the following list\n",
    "\n",
    "`[3, 1, 4, 1, 5, 9, 2, 6, 5, 3, 5, 8, 9, 7, 9, 3, 2, 3, 8, 4, 6, 2, 6, 4, 3, 3, 8, 3, 2, 7, 9, 5, 0, 2, 8, 8]`\n",
    "\n",
    "Write a program that print out:\n",
    "- the indices of occurence of each digit (0-9) in the list, and \n",
    "- its number of occurences in the list \n",
    "in the following format.\n",
    "> `<DIGIT> <LIST_OF_INDICES> <NO_OF_OCCURENCES>`<br>\n",
    "\n",
    "Example Output: \n",
    "\n",
    "> Digit 0 : \\[32\\] : 1 \n",
    "\n",
    "Try your program again with the following list.\n",
    "\n",
    "`[3, 1, 4, 1, 5, 9, 2, 6, 5, 3, 5, 8, 9, 7, 9, 3, 2, 3, 8, 4, 6, 2, 6, 4, 3, 3, 8, 3, 2, 7, 9, 5, 2, 8, 8]`"
   ]
  },
  {
   "cell_type": "code",
   "execution_count": 12,
   "metadata": {},
   "outputs": [
    {
     "name": "stdout",
     "output_type": "stream",
     "text": [
      "Digit 0 : [32] : 1\n",
      "Digit 1 : [1, 3] : 2\n",
      "Digit 2 : [6, 16, 21, 28, 33] : 5\n",
      "Digit 3 : [0, 9, 15, 17, 24, 25, 27] : 7\n",
      "Digit 4 : [2, 19, 23] : 3\n",
      "Digit 5 : [4, 8, 10, 31] : 4\n",
      "Digit 6 : [7, 20, 22] : 3\n",
      "Digit 7 : [13, 29] : 2\n",
      "Digit 8 : [11, 18, 26, 34, 35] : 5\n",
      "Digit 9 : [5, 12, 14, 30] : 4\n"
     ]
    }
   ],
   "source": [
    "pi = [3, 1, 4, 1, 5, 9, 2, 6, 5, 3, 5, 8, 9, 7, 9, 3, 2, 3, 8, 4, 6, 2, 6, 4, 3, 3, 8, 3, 2, 7, 9, 5, 0, 2, 8, 8]\n",
    "# find the number of times each digit appears in the list\n",
    "pi2 = set(pi)\n",
    "for i in pi2:\n",
    "    index = []\n",
    "    for j in range(len(pi)):\n",
    "        if pi[j] == i:\n",
    "            index.append(j)\n",
    "\n",
    "    print(f\"Digit {i} : {index} : {pi.count(i)}\")"
   ]
  },
  {
   "cell_type": "markdown",
   "metadata": {},
   "source": [
    "## Exercise 3.2 Some Heights Statistics\n",
    "\n",
    "Write a program that:\n",
    "- ask user to input the heights value (in centimeter) of $n$ students. The entered values are integer.\n",
    "- store the input values in list and print the list out\n",
    "- display the lowest, highest and mean of the height of these $n$ students. In case you have forgotten, mean is the arithmetic average.  \n",
    "\n",
    "Example Output: \n",
    "\n",
    ">Number of heights to be entered: 4<br>\n",
    ">100<br>\n",
    ">120<br>\n",
    ">110<br>\n",
    ">130<br>\n",
    ">The list of heights: \\[100,120,110,130\\]<br>\n",
    ">Minimum height is 100 cm, maximum height is 130 cm and the average height is 115.0 cm."
   ]
  },
  {
   "cell_type": "code",
   "execution_count": 14,
   "metadata": {},
   "outputs": [
    {
     "name": "stdout",
     "output_type": "stream",
     "text": [
      "The list of heights: [100, 120, 110, 130]\n",
      "Minimum height is 100 cm, maximum height is 130 cm and the average height is 115.0 cm.\n"
     ]
    }
   ],
   "source": [
    "max_input = int(input(\"Number of heights to be entered: \"))\n",
    "heights = []\n",
    "for i in range(max_input):\n",
    "    heights.append(int(input()))\n",
    "\n",
    "print(f\"The list of heights: {heights}\")\n",
    "print(f\"Minimum height is {min(heights)} cm, maximum height is {max(heights)} cm and the average height is {sum(heights)/len(heights)} cm.\")"
   ]
  },
  {
   "cell_type": "markdown",
   "metadata": {},
   "source": [
    "## Exercise 3.3 Binning\n",
    "\n",
    "In a school the grades obtained by a student in a certain subject depends on their mark, ranging from 0 to 100, obtained for the subject and it follows the following table.\n",
    "\n",
    "<center>\n",
    "\n",
    "| Marks ($m$)| Grade |\n",
    "|-------|-------|\n",
    "|   $m<40$    |    U     |\n",
    "|   $40\\leq m\\leq 44$     |    S     |\n",
    "|   $45\\leq m\\leq 49$    |    E     |\n",
    "|   $50\\leq m\\leq 54$    |    D     |\n",
    "|   $55\\leq m\\leq 59$    |    C     |\n",
    "|   $60\\leq m\\leq 69$    | B     |\n",
    "|   $m\\geq 70$    |    A     |\n",
    "\n",
    "</center>\n",
    "\n",
    "Following are the list of marks obtained by students from 2 different classes. `mark_1` is a list from one class and `mark_2` is a list from the other class.\n",
    "\n",
    "```\n",
    "mark_1 = [46, 41, 74, 53, 31, 39, 49, 57, 76, 80, 78, 38, 31, 56, 98, 55, 41, 73, 23, 88, 55, 60, 33, 40]\n",
    "\n",
    "mark_2= [69, 48, 50, 95, 87, 11, 28, 36, 25, 70, 25, 54, 33, 42, 27, 24, 44, 20, 61, 43, 30, 44, 7, 21]\n",
    "```\n",
    "\n",
    "Write a program that:\n",
    "- print outs the list of the students in each grade group for each of the classes in an *descending order* in the following format\n",
    ">`<GRADE> <LIST OF DESCENDING MARKS> <NO OF STUDENTS IN THE LIST>`<br>\n",
    "    - if there are no students receiving such grade, print the empty list `[]`.\n",
    "\n",
    "Example Output: \n",
    ">#Assume the marks are stored in the list \\[39,45,66,68,75\\]<br>\n",
    ">U: \\[39\\] 1 <br>\n",
    ">S: \\[45\\] 1 <br>\n",
    ">E: \\[\\] 0 <br>\n",
    ">D: \\[\\] 0 <br>\n",
    ">C: \\[\\] 0 <br>\n",
    ">B: \\[68,66\\] 2 <br>\n",
    ">A: \\[75\\] 1 <br>"
   ]
  },
  {
   "cell_type": "code",
   "execution_count": 2,
   "metadata": {
    "collapsed": false
   },
   "outputs": [
    {
     "name": "stdout",
     "output_type": "stream",
     "text": [
      "Class 1\n",
      "U: [39, 38, 33, 31, 31, 23] 6\n",
      "S: [41, 41, 40] 3\n",
      "E: [49, 46] 2\n",
      "D: [53] 1\n",
      "C: [57, 56, 55, 55] 4\n",
      "B: [60] 1\n",
      "A: [98, 88, 80, 78, 76, 74, 73] 7\n",
      "\n",
      "Class 2\n",
      "U: [36, 33, 30, 28, 27, 25, 25, 24, 21, 20, 11, 7] 12\n",
      "S: [44, 44, 43, 42] 4\n",
      "E: [48] 1\n",
      "D: [54, 50] 2\n",
      "C: [] 0\n",
      "B: [69, 61] 2\n",
      "A: [95, 87, 70] 3\n"
     ]
    },
    {
     "data": {
      "text/plain": "Class([69, 48, 50, 95, 87, 11, 28, 36, 25, 70, 25, 54, 33, 42, 27, 24, 44, 20, 61, 43, 30, 44, 7, 21])"
     },
     "execution_count": 2,
     "metadata": {},
     "output_type": "execute_result"
    }
   ],
   "source": [
    "mark_1 = [46, 41, 74, 53, 31, 39, 49, 57, 76, 80, 78, 38, 31, 56, 98, 55, 41, 73, 23, 88, 55, 60, 33, 40]\n",
    "mark_2= [69, 48, 50, 95, 87, 11, 28, 36, 25, 70, 25, 54, 33, 42, 27, 24, 44, 20, 61, 43, 30, 44, 7, 21]\n",
    "marks = {70: 'A', 60: 'B', 55: 'C', 50: 'D', 45: 'E', 40: 'S', 0: 'U'}\n",
    "\n",
    "class Class:\n",
    "    def __init__(self, marks):\n",
    "        self.marks = marks\n",
    "        self.grades = {\n",
    "            \"U\": [],\n",
    "            \"S\": [],\n",
    "            \"E\": [],\n",
    "            \"D\": [],\n",
    "            \"C\": [],\n",
    "            \"B\": [],\n",
    "            \"A\": []\n",
    "        }\n",
    "        self.sort_marks()\n",
    "        self.print_grades()\n",
    "\n",
    "\n",
    "    def sort_marks(self) -> None:\n",
    "        for mark in self.marks:\n",
    "            for grade in marks:\n",
    "                if mark >= grade:\n",
    "                    self.grades[marks[grade]].append(mark)\n",
    "                    break\n",
    "\n",
    "    def print_grades(self) -> None:\n",
    "        for grade in self.grades:\n",
    "            print(f\"{grade}: {sorted(self.grades[grade], reverse=True)} {len(self.grades[grade])}\")\n",
    "\n",
    "    def __repr__(self):\n",
    "        return f\"Class({self.marks})\"\n",
    "\n",
    "print(\"Class 1\")\n",
    "Class(mark_1)\n",
    "print(\"\\nClass 2\")\n",
    "Class(mark_2)"
   ]
  },
  {
   "attachments": {},
   "cell_type": "markdown",
   "metadata": {},
   "source": [
    "## Exercise 3.4 A Funny Interest\n",
    "\n",
    "Mr. $B$ was offered an investment opportunity with a company where if he was to invest \\$1000, he was guaranteed a $100%$ yearly interest rate, i.e. Mr. $B$ will be receive \\$2000 after 1 year, inclusive of his capital.  \n",
    "\n",
    "A friend of his that work in the company offers him another deal: same capital \\$1000, same yearly interest rate of $100%$ but applied quarterly for a year, meaning every 3 months, the applied interest rate to the current amount is $\\frac{100}{4}\\%=25\\%$. So, after 3rd month, his investment becomes \\$1250. After 6th month, it's \\$1562.50. After 9th month, it's \\$1953.13. \n",
    "Under this scheme, how much would Mr. $B$'s investment worth after a full year?\n",
    "\n",
    "Suppose that instead of applying the interest rate of 100% quarterly, a human error caused the interest rate to be applied *hourly* instead, for a full year. How much value will Mr. $B$'s investment worth then?"
   ]
  },
  {
   "cell_type": "code",
   "execution_count": 25,
   "metadata": {},
   "outputs": [
    {
     "name": "stdout",
     "output_type": "stream",
     "text": [
      "Interest applied quarterly: 2441.40625\n",
      "Interest applied hourly: 2718.1266916179075\n"
     ]
    }
   ],
   "source": [
    "initial_investment = 1000\n",
    "interest_rate = 1\n",
    "years = 1\n",
    "\n",
    "A = initial_investment*(1 + interest_rate/4)**4*years\n",
    "print(f\"Interest applied quarterly: {A}\")\n",
    "\n",
    "hours_in_a_year = 24*365\n",
    "A = initial_investment*(1 + interest_rate/hours_in_a_year)**hours_in_a_year*years\n",
    "print(f\"Interest applied hourly: {A}\")"
   ]
  },
  {
   "cell_type": "markdown",
   "metadata": {},
   "source": [
    "## Exercise 3.5 Doubling My Money\n",
    "\n",
    "A customer is considering to deposit her money into a savings account with one of the locally available banks. As of 5th March 2021, the interest rates offered are given in the following table:\n",
    "\n",
    "<center>\n",
    "\n",
    "|         Savings Account        | Yearly Interest rate (%) |\n",
    "|:------------------------------:|:-----------------:|\n",
    "| BOC SmartSaver                 |         1         |\n",
    "| DBS Multiplier Account         |        0.4        |\n",
    "| UOB One Account                |        0.5        |\n",
    "| Standard Chartered Bonus$saver |        0.38       |\n",
    "| OCBC 360 Account               |        0.55       |\n",
    "\n",
    "</center>\n",
    "\n",
    "Write a program that:\n",
    "- Prints out a list that contains the number of years that is required for the money in savings account to double for each type of savings account.\n",
    "\n",
    "Example output: \n",
    "\n",
    ">With 1% yearly interest rate with BOC SmartSaver, it will take ___ years for the money to double.<br>\n",
    "\n",
    "For each of the savings account, compare the number of years obtained in the earlier part with the number $\\frac{72}{100r}$, where $r$ is the yearly interest rate. What do you observe? Can you explain your observation?"
   ]
  },
  {
   "cell_type": "code",
   "execution_count": 33,
   "metadata": {},
   "outputs": [
    {
     "name": "stdout",
     "output_type": "stream",
     "text": [
      "With 1.0% yearly interest rate with BOC, it will take 1 years for the money to double\n",
      "With 0.4% yearly interest rate with DBS, it will take 3 years for the money to double\n",
      "With 0.5% yearly interest rate with UOB, it will take 2 years for the money to double\n",
      "With 0.55% yearly interest rate with OCBC, it will take 2 years for the money to double\n",
      "With 0.38% yearly interest rate with SCB, it will take 3 years for the money to double\n"
     ]
    }
   ],
   "source": [
    "interest_rates = {\"BOC\": 1.0, \"DBS\": 0.4, \"UOB\": 0.5, \"OCBC\": 0.55, \"SCB\": 0.38}\n",
    "initial_investment = 1000\n",
    "for interest_rate in interest_rates:\n",
    "    years = 1\n",
    "    A = 0\n",
    "    while True:\n",
    "        A = initial_investment*(1 + interest_rates[interest_rate])**years\n",
    "        if A >= 2000:\n",
    "            print(f\"With {interest_rates[interest_rate]}% yearly interest rate with {interest_rate}, it will take {years} years for the money to double\")\n",
    "            break\n",
    "        years += 1\n"
   ]
  },
  {
   "cell_type": "markdown",
   "metadata": {},
   "source": [
    "## Exercise 3.6 Arithmetic Sequence Revisited\n",
    "\n",
    "Recall from Exercise 1.2, an **arithmetic sequence** is a sequence of real numbers \n",
    "$$u_1,u_2,\\cdots, u_n$$\n",
    "such that the difference between two consecutive terms is constant, i.e. $u_{n+1}-u_n=d$ for some constant $d\\in \\mathbb{R}$ and $d\\neq 0$, called the **common difference** and $n\\geq 1$.\n",
    "\n",
    "The problem: \n",
    "- Request a numeric input from the user to be used as the first term.  Let us denote this input as `first_term`.\n",
    "- Request a numeric input from the user to be used as the common difference.  Let us denote this input as `common_difference`.\n",
    "- Request an integer input greater or equal to $4$ from the user for the number of terms.  Let us denote this input as `number_of_terms`. \n",
    "- Print out the list that contains the arithmetic sequence up to the $n$th term, where $n =$ `number_of_terms`.\n",
    "- Print the list that contains the first 3 terms of the arithmetic sequence. \n",
    "- Print the list that contains the last 4 terms of the arithmetic sequence. \n",
    "- Use an inbuilt function that accepts list as an input to calculate the sum of the first $n$ terms of the arithmetic sequence.\n",
    "\n",
    "Example interaction: \n",
    "\n",
    ">Please input the first term in the arithmetic sequence:<br>\n",
    ">2<br>\n",
    ">Please input the common difference:<br>\n",
    ">3<br>\n",
    ">Please input the number of terms:<br>\n",
    ">5<br>\n",
    ">The list containing the first 5 terms of the arithmetic sequence are:<br>\n",
    ">\\[2,5,8,11,14\\]<br>\n",
    ">The list of the first 3 terms of the sequence is:<br>\n",
    ">\\[2,5,8\\]<br>\n",
    ">The list of the last 4 terms of the sequence is:<br>\n",
    ">\\[5,8,11,14\\]<br>\n",
    ">The sum of all the terms in the sequence is:<br>\n",
    ">40<br>"
   ]
  },
  {
   "cell_type": "code",
   "execution_count": 39,
   "metadata": {},
   "outputs": [
    {
     "name": "stdout",
     "output_type": "stream",
     "text": [
      "The list containing the first 8 terms of the arithmetic sequence are: \n",
      "[3, 8, 13, 18, 23, 28, 33, 38]\n",
      "The list of the first 3 terms of the sequence is: \n",
      "[3, 8, 13]\n",
      "The list of the last 4 terms of the sequence is: \n",
      "[23, 28, 33, 38]\n",
      "The sum of all the terms in the sequence is: 164\n"
     ]
    }
   ],
   "source": [
    "first_term = int(input(\"First term: \"))\n",
    "common_difference = int(input(\"Common difference: \"))\n",
    "sequence = []\n",
    "\n",
    "while True:\n",
    "    number_of_terms = int(input(\"Number of terms: \"))\n",
    "    if number_of_terms >= 4:\n",
    "        break\n",
    "    else:\n",
    "        print(\"Enter a number greater than 3\")\n",
    "        \n",
    "for i in range(number_of_terms):\n",
    "    nth_term = first_term + common_difference*i\n",
    "    sequence.append(nth_term)\n",
    "\n",
    "print(f\"The list containing the first {number_of_terms} terms of the arithmetic sequence are: \\n{sequence}\")\n",
    "print(f\"The list of the first 3 terms of the sequence is: \\n{sequence[:3]}\")\n",
    "print(f\"The list of the last 4 terms of the sequence is: \\n{sequence[-4:]}\")\n",
    "print(f\"The sum of all the terms in the sequence is: {sum(sequence)}\")"
   ]
  }
 ],
 "metadata": {
  "kernelspec": {
   "display_name": "Python 3",
   "language": "python",
   "name": "python3"
  },
  "language_info": {
   "codemirror_mode": {
    "name": "ipython",
    "version": 3
   },
   "file_extension": ".py",
   "mimetype": "text/x-python",
   "name": "python",
   "nbconvert_exporter": "python",
   "pygments_lexer": "ipython3",
   "version": "3.11.2"
  },
  "orig_nbformat": 2,
  "vscode": {
   "interpreter": {
    "hash": "60855ee8413297aa0e796b047426e025b22aa5778f11de92393d547f6abc42b9"
   }
  }
 },
 "nbformat": 4,
 "nbformat_minor": 2
}
